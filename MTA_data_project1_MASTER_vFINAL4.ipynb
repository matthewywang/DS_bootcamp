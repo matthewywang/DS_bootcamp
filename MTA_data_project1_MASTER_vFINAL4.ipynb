{
 "cells": [
  {
   "cell_type": "markdown",
   "metadata": {},
   "source": [
    "## Project 1: Exploratory Data Analysis (EDA)"
   ]
  },
  {
   "cell_type": "code",
   "execution_count": 1,
   "metadata": {},
   "outputs": [],
   "source": [
    "import numpy as np\n",
    "import pandas as pd\n",
    "import matplotlib.pyplot as plt\n",
    "import seaborn as sns\n",
    "import pickle\n",
    "import datetime\n",
    "from datetime import datetime as dt"
   ]
  },
  {
   "cell_type": "code",
   "execution_count": 2,
   "metadata": {},
   "outputs": [],
   "source": [
    "pd.options.mode.chained_assignment = None"
   ]
  },
  {
   "cell_type": "markdown",
   "metadata": {},
   "source": [
    "### 1. Import Data Sources"
   ]
  },
  {
   "cell_type": "markdown",
   "metadata": {},
   "source": [
    "#### A. MTA turnstile data (Apr to Jun 2018 and 2019)"
   ]
  },
  {
   "cell_type": "code",
   "execution_count": 3,
   "metadata": {},
   "outputs": [],
   "source": [
    "list1 = pd.date_range(start = '4/06/2019', end = '6/29/2019', periods = 13)"
   ]
  },
  {
   "cell_type": "code",
   "execution_count": 4,
   "metadata": {},
   "outputs": [],
   "source": [
    "list2 = [x.strftime('%y%m%d') for x in list1]"
   ]
  },
  {
   "cell_type": "code",
   "execution_count": 5,
   "metadata": {},
   "outputs": [],
   "source": [
    "list3 = []\n",
    "for i in list2:\n",
    "    url = \"http://web.mta.info/developers/data/nyct/turnstile/turnstile_\" + i + \".txt\"\n",
    "    df = pd.read_csv(url)\n",
    "    list3.append(df)"
   ]
  },
  {
   "cell_type": "code",
   "execution_count": 6,
   "metadata": {},
   "outputs": [],
   "source": [
    "df_MTA = pd.concat(list3)"
   ]
  },
  {
   "cell_type": "code",
   "execution_count": 7,
   "metadata": {},
   "outputs": [],
   "source": [
    "with open('df_MTA.pickle', 'wb') as to_write:\n",
    "    pickle.dump(df_MTA, to_write)"
   ]
  },
  {
   "cell_type": "code",
   "execution_count": 8,
   "metadata": {},
   "outputs": [],
   "source": [
    "del df_MTA"
   ]
  },
  {
   "cell_type": "markdown",
   "metadata": {},
   "source": [
    "#### B. US Census Bureau Data (TractID, Income Data)"
   ]
  },
  {
   "cell_type": "code",
   "execution_count": 9,
   "metadata": {},
   "outputs": [],
   "source": [
    "df1 = pd.read_csv('acs2017_census_tract_data.csv')"
   ]
  },
  {
   "cell_type": "markdown",
   "metadata": {},
   "source": [
    "#### C. NYC Subway Station Geo Data (Latitude, Longitude)"
   ]
  },
  {
   "cell_type": "code",
   "execution_count": 10,
   "metadata": {},
   "outputs": [],
   "source": [
    "nyc_df = pd.read_csv('http://web.mta.info/developers/data/nyct/subway/Stations.csv')"
   ]
  },
  {
   "cell_type": "markdown",
   "metadata": {},
   "source": [
    "### 2. Exploratory Data Analysis and Visualization"
   ]
  },
  {
   "cell_type": "markdown",
   "metadata": {},
   "source": [
    "#### A. MTA turnstile data (Apr to Jun 2018 and 2019)"
   ]
  },
  {
   "cell_type": "code",
   "execution_count": 11,
   "metadata": {},
   "outputs": [],
   "source": [
    "with open('df_MTA.pickle', 'rb') as read_file:\n",
    "    df_MTA = pickle.load(read_file)"
   ]
  },
  {
   "cell_type": "code",
   "execution_count": 12,
   "metadata": {},
   "outputs": [
    {
     "name": "stdout",
     "output_type": "stream",
     "text": [
      "<class 'pandas.core.frame.DataFrame'>\n",
      "Int64Index: 2664248 entries, 0 to 205962\n",
      "Data columns (total 11 columns):\n",
      " #   Column                                                                Dtype \n",
      "---  ------                                                                ----- \n",
      " 0   C/A                                                                   object\n",
      " 1   UNIT                                                                  object\n",
      " 2   SCP                                                                   object\n",
      " 3   STATION                                                               object\n",
      " 4   LINENAME                                                              object\n",
      " 5   DIVISION                                                              object\n",
      " 6   DATE                                                                  object\n",
      " 7   TIME                                                                  object\n",
      " 8   DESC                                                                  object\n",
      " 9   ENTRIES                                                               int64 \n",
      " 10  EXITS                                                                 int64 \n",
      "dtypes: int64(2), object(9)\n",
      "memory usage: 243.9+ MB\n"
     ]
    }
   ],
   "source": [
    "df_MTA.info()"
   ]
  },
  {
   "cell_type": "code",
   "execution_count": 13,
   "metadata": {},
   "outputs": [],
   "source": [
    "mask1 = ((df_MTA[\"C/A\"] == \"PTH22\")\n",
    "         & (df_MTA[\"UNIT\"] == \"R540\")\n",
    "         & (df_MTA[\"SCP\"] == \"00-04-04\")\n",
    "         & (df_MTA[\"STATION\"] == \"PATH NEW WTC\"))"
   ]
  },
  {
   "cell_type": "markdown",
   "metadata": {},
   "source": [
    "#### <font color='red'> *Notice how DATE skips from 5/7/2019 to 6/5/2019 below for the C/A, UNIT, SCP, STATION combo below*"
   ]
  },
  {
   "cell_type": "code",
   "execution_count": 14,
   "metadata": {},
   "outputs": [
    {
     "data": {
      "text/html": [
       "<div>\n",
       "<style scoped>\n",
       "    .dataframe tbody tr th:only-of-type {\n",
       "        vertical-align: middle;\n",
       "    }\n",
       "\n",
       "    .dataframe tbody tr th {\n",
       "        vertical-align: top;\n",
       "    }\n",
       "\n",
       "    .dataframe thead th {\n",
       "        text-align: right;\n",
       "    }\n",
       "</style>\n",
       "<table border=\"1\" class=\"dataframe\">\n",
       "  <thead>\n",
       "    <tr style=\"text-align: right;\">\n",
       "      <th></th>\n",
       "      <th>C/A</th>\n",
       "      <th>UNIT</th>\n",
       "      <th>SCP</th>\n",
       "      <th>STATION</th>\n",
       "      <th>LINENAME</th>\n",
       "      <th>DIVISION</th>\n",
       "      <th>DATE</th>\n",
       "      <th>TIME</th>\n",
       "      <th>DESC</th>\n",
       "      <th>ENTRIES</th>\n",
       "      <th>EXITS</th>\n",
       "    </tr>\n",
       "  </thead>\n",
       "  <tbody>\n",
       "    <tr>\n",
       "      <th>125704</th>\n",
       "      <td>PTH22</td>\n",
       "      <td>R540</td>\n",
       "      <td>00-04-04</td>\n",
       "      <td>PATH NEW WTC</td>\n",
       "      <td>1</td>\n",
       "      <td>PTH</td>\n",
       "      <td>05/07/2019</td>\n",
       "      <td>05:04:02</td>\n",
       "      <td>REGULAR</td>\n",
       "      <td>11906</td>\n",
       "      <td>241488</td>\n",
       "    </tr>\n",
       "    <tr>\n",
       "      <th>125705</th>\n",
       "      <td>PTH22</td>\n",
       "      <td>R540</td>\n",
       "      <td>00-04-04</td>\n",
       "      <td>PATH NEW WTC</td>\n",
       "      <td>1</td>\n",
       "      <td>PTH</td>\n",
       "      <td>05/07/2019</td>\n",
       "      <td>09:16:02</td>\n",
       "      <td>REGULAR</td>\n",
       "      <td>11906</td>\n",
       "      <td>241635</td>\n",
       "    </tr>\n",
       "    <tr>\n",
       "      <th>126878</th>\n",
       "      <td>PTH22</td>\n",
       "      <td>R540</td>\n",
       "      <td>00-04-04</td>\n",
       "      <td>PATH NEW WTC</td>\n",
       "      <td>1</td>\n",
       "      <td>PTH</td>\n",
       "      <td>06/05/2019</td>\n",
       "      <td>12:20:37</td>\n",
       "      <td>REGULAR</td>\n",
       "      <td>4</td>\n",
       "      <td>75</td>\n",
       "    </tr>\n",
       "    <tr>\n",
       "      <th>126879</th>\n",
       "      <td>PTH22</td>\n",
       "      <td>R540</td>\n",
       "      <td>00-04-04</td>\n",
       "      <td>PATH NEW WTC</td>\n",
       "      <td>1</td>\n",
       "      <td>PTH</td>\n",
       "      <td>06/05/2019</td>\n",
       "      <td>16:32:37</td>\n",
       "      <td>REGULAR</td>\n",
       "      <td>4</td>\n",
       "      <td>84</td>\n",
       "    </tr>\n",
       "  </tbody>\n",
       "</table>\n",
       "</div>"
      ],
      "text/plain": [
       "          C/A  UNIT       SCP       STATION LINENAME DIVISION        DATE  \\\n",
       "125704  PTH22  R540  00-04-04  PATH NEW WTC        1      PTH  05/07/2019   \n",
       "125705  PTH22  R540  00-04-04  PATH NEW WTC        1      PTH  05/07/2019   \n",
       "126878  PTH22  R540  00-04-04  PATH NEW WTC        1      PTH  06/05/2019   \n",
       "126879  PTH22  R540  00-04-04  PATH NEW WTC        1      PTH  06/05/2019   \n",
       "\n",
       "            TIME     DESC  ENTRIES  \\\n",
       "125704  05:04:02  REGULAR    11906   \n",
       "125705  09:16:02  REGULAR    11906   \n",
       "126878  12:20:37  REGULAR        4   \n",
       "126879  16:32:37  REGULAR        4   \n",
       "\n",
       "        EXITS                                                                 \n",
       "125704                                             241488                     \n",
       "125705                                             241635                     \n",
       "126878                                                 75                     \n",
       "126879                                                 84                     "
      ]
     },
     "execution_count": 14,
     "metadata": {},
     "output_type": "execute_result"
    }
   ],
   "source": [
    "df_MTA[mask1][218:222]"
   ]
  },
  {
   "cell_type": "code",
   "execution_count": 15,
   "metadata": {},
   "outputs": [
    {
     "data": {
      "text/plain": [
       "Index(['C/A', 'UNIT', 'SCP', 'STATION', 'LINENAME', 'DIVISION', 'DATE', 'TIME',\n",
       "       'DESC', 'ENTRIES',\n",
       "       'EXITS                                                               '],\n",
       "      dtype='object')"
      ]
     },
     "execution_count": 15,
     "metadata": {},
     "output_type": "execute_result"
    }
   ],
   "source": [
    "df_MTA.columns"
   ]
  },
  {
   "cell_type": "code",
   "execution_count": 16,
   "metadata": {},
   "outputs": [],
   "source": [
    "df_MTA.columns = [column.strip() for column in df_MTA.columns]"
   ]
  },
  {
   "cell_type": "code",
   "execution_count": 17,
   "metadata": {},
   "outputs": [
    {
     "data": {
      "text/plain": [
       "03/30/2019    28919\n",
       "03/31/2019    28944\n",
       "04/01/2019    29152\n",
       "04/02/2019    28975\n",
       "04/03/2019    29104\n",
       "              ...  \n",
       "06/24/2019    29479\n",
       "06/25/2019    29437\n",
       "06/26/2019    29417\n",
       "06/27/2019    29464\n",
       "06/28/2019    29779\n",
       "Name: DATE, Length: 91, dtype: int64"
      ]
     },
     "execution_count": 17,
     "metadata": {},
     "output_type": "execute_result"
    }
   ],
   "source": [
    "df_MTA.DATE.value_counts().sort_index()"
   ]
  },
  {
   "cell_type": "code",
   "execution_count": 18,
   "metadata": {},
   "outputs": [],
   "source": [
    "df_MTA[\"DATE_TIME\"] = pd.to_datetime(df_MTA.DATE + \" \" + df_MTA.TIME, format=\"%m/%d/%Y %H:%M:%S\")"
   ]
  },
  {
   "cell_type": "code",
   "execution_count": 19,
   "metadata": {},
   "outputs": [
    {
     "data": {
      "text/html": [
       "<div>\n",
       "<style scoped>\n",
       "    .dataframe tbody tr th:only-of-type {\n",
       "        vertical-align: middle;\n",
       "    }\n",
       "\n",
       "    .dataframe tbody tr th {\n",
       "        vertical-align: top;\n",
       "    }\n",
       "\n",
       "    .dataframe thead th {\n",
       "        text-align: right;\n",
       "    }\n",
       "</style>\n",
       "<table border=\"1\" class=\"dataframe\">\n",
       "  <thead>\n",
       "    <tr style=\"text-align: right;\">\n",
       "      <th></th>\n",
       "      <th>C/A</th>\n",
       "      <th>UNIT</th>\n",
       "      <th>SCP</th>\n",
       "      <th>STATION</th>\n",
       "      <th>DATE_TIME</th>\n",
       "      <th>ENTRIES</th>\n",
       "    </tr>\n",
       "  </thead>\n",
       "  <tbody>\n",
       "    <tr>\n",
       "      <th>626289</th>\n",
       "      <td>N045</td>\n",
       "      <td>R187</td>\n",
       "      <td>01-00-00</td>\n",
       "      <td>81 ST-MUSEUM</td>\n",
       "      <td>2019-06-01 17:00:00</td>\n",
       "      <td>2</td>\n",
       "    </tr>\n",
       "    <tr>\n",
       "      <th>2178082</th>\n",
       "      <td>R283</td>\n",
       "      <td>R221</td>\n",
       "      <td>00-00-00</td>\n",
       "      <td>167 ST</td>\n",
       "      <td>2019-04-16 04:00:00</td>\n",
       "      <td>2</td>\n",
       "    </tr>\n",
       "    <tr>\n",
       "      <th>384181</th>\n",
       "      <td>G009</td>\n",
       "      <td>R151</td>\n",
       "      <td>02-00-04</td>\n",
       "      <td>CONEY IS-STILLW</td>\n",
       "      <td>2019-05-16 17:00:00</td>\n",
       "      <td>2</td>\n",
       "    </tr>\n",
       "    <tr>\n",
       "      <th>1749648</th>\n",
       "      <td>R133</td>\n",
       "      <td>R272</td>\n",
       "      <td>00-00-00</td>\n",
       "      <td>28 ST</td>\n",
       "      <td>2019-04-09 13:00:00</td>\n",
       "      <td>2</td>\n",
       "    </tr>\n",
       "    <tr>\n",
       "      <th>626294</th>\n",
       "      <td>N045</td>\n",
       "      <td>R187</td>\n",
       "      <td>01-00-00</td>\n",
       "      <td>81 ST-MUSEUM</td>\n",
       "      <td>2019-06-02 17:00:00</td>\n",
       "      <td>2</td>\n",
       "    </tr>\n",
       "    <tr>\n",
       "      <th>627445</th>\n",
       "      <td>N045</td>\n",
       "      <td>R187</td>\n",
       "      <td>01-00-02</td>\n",
       "      <td>81 ST-MUSEUM</td>\n",
       "      <td>2019-06-17 09:00:00</td>\n",
       "      <td>2</td>\n",
       "    </tr>\n",
       "    <tr>\n",
       "      <th>527149</th>\n",
       "      <td>JFK03</td>\n",
       "      <td>R536</td>\n",
       "      <td>00-00-04</td>\n",
       "      <td>JFK JAMAICA CT1</td>\n",
       "      <td>2019-04-07 01:00:00</td>\n",
       "      <td>2</td>\n",
       "    </tr>\n",
       "    <tr>\n",
       "      <th>627947</th>\n",
       "      <td>N045</td>\n",
       "      <td>R187</td>\n",
       "      <td>01-06-00</td>\n",
       "      <td>81 ST-MUSEUM</td>\n",
       "      <td>2019-06-11 21:00:00</td>\n",
       "      <td>2</td>\n",
       "    </tr>\n",
       "    <tr>\n",
       "      <th>701781</th>\n",
       "      <td>N071</td>\n",
       "      <td>R013</td>\n",
       "      <td>00-00-03</td>\n",
       "      <td>34 ST-PENN STA</td>\n",
       "      <td>2019-04-20 08:00:00</td>\n",
       "      <td>2</td>\n",
       "    </tr>\n",
       "    <tr>\n",
       "      <th>525303</th>\n",
       "      <td>JFK03</td>\n",
       "      <td>R536</td>\n",
       "      <td>00-00-01</td>\n",
       "      <td>JFK JAMAICA CT1</td>\n",
       "      <td>2019-04-07 01:00:00</td>\n",
       "      <td>2</td>\n",
       "    </tr>\n",
       "  </tbody>\n",
       "</table>\n",
       "</div>"
      ],
      "text/plain": [
       "           C/A  UNIT       SCP          STATION           DATE_TIME  ENTRIES\n",
       "626289    N045  R187  01-00-00     81 ST-MUSEUM 2019-06-01 17:00:00        2\n",
       "2178082   R283  R221  00-00-00           167 ST 2019-04-16 04:00:00        2\n",
       "384181    G009  R151  02-00-04  CONEY IS-STILLW 2019-05-16 17:00:00        2\n",
       "1749648   R133  R272  00-00-00            28 ST 2019-04-09 13:00:00        2\n",
       "626294    N045  R187  01-00-00     81 ST-MUSEUM 2019-06-02 17:00:00        2\n",
       "627445    N045  R187  01-00-02     81 ST-MUSEUM 2019-06-17 09:00:00        2\n",
       "527149   JFK03  R536  00-00-04  JFK JAMAICA CT1 2019-04-07 01:00:00        2\n",
       "627947    N045  R187  01-06-00     81 ST-MUSEUM 2019-06-11 21:00:00        2\n",
       "701781    N071  R013  00-00-03   34 ST-PENN STA 2019-04-20 08:00:00        2\n",
       "525303   JFK03  R536  00-00-01  JFK JAMAICA CT1 2019-04-07 01:00:00        2"
      ]
     },
     "execution_count": 19,
     "metadata": {},
     "output_type": "execute_result"
    }
   ],
   "source": [
    "# check for duplicates, for each combination of \"C/A\", \"UNIT\", \"SCP\", \"STATION\", \"DATE_TIME\"\n",
    "(df_MTA\n",
    " .groupby([\"C/A\", \"UNIT\", \"SCP\", \"STATION\", \"DATE_TIME\"])\n",
    " .ENTRIES.count()\n",
    " .reset_index()\n",
    " .sort_values(\"ENTRIES\", ascending=False)).head(10)"
   ]
  },
  {
   "cell_type": "code",
   "execution_count": 20,
   "metadata": {},
   "outputs": [],
   "source": [
    "mask = ((df_MTA[\"C/A\"] == \"N071\") & \n",
    "(df_MTA[\"UNIT\"] == \"R013\") & \n",
    "(df_MTA[\"SCP\"] == \"00-00-02\") & \n",
    "(df_MTA[\"STATION\"] == \"34 ST-PENN STA\") &\n",
    "(df_MTA[\"DATE_TIME\"].dt.date == datetime.datetime(2019, 4, 20).date()))"
   ]
  },
  {
   "cell_type": "code",
   "execution_count": 21,
   "metadata": {},
   "outputs": [
    {
     "data": {
      "text/html": [
       "<div>\n",
       "<style scoped>\n",
       "    .dataframe tbody tr th:only-of-type {\n",
       "        vertical-align: middle;\n",
       "    }\n",
       "\n",
       "    .dataframe tbody tr th {\n",
       "        vertical-align: top;\n",
       "    }\n",
       "\n",
       "    .dataframe thead th {\n",
       "        text-align: right;\n",
       "    }\n",
       "</style>\n",
       "<table border=\"1\" class=\"dataframe\">\n",
       "  <thead>\n",
       "    <tr style=\"text-align: right;\">\n",
       "      <th></th>\n",
       "      <th>C/A</th>\n",
       "      <th>UNIT</th>\n",
       "      <th>SCP</th>\n",
       "      <th>STATION</th>\n",
       "      <th>LINENAME</th>\n",
       "      <th>DIVISION</th>\n",
       "      <th>DATE</th>\n",
       "      <th>TIME</th>\n",
       "      <th>DESC</th>\n",
       "      <th>ENTRIES</th>\n",
       "      <th>EXITS</th>\n",
       "      <th>DATE_TIME</th>\n",
       "    </tr>\n",
       "  </thead>\n",
       "  <tbody>\n",
       "    <tr>\n",
       "      <th>53584</th>\n",
       "      <td>N071</td>\n",
       "      <td>R013</td>\n",
       "      <td>00-00-02</td>\n",
       "      <td>34 ST-PENN STA</td>\n",
       "      <td>ACE</td>\n",
       "      <td>IND</td>\n",
       "      <td>04/20/2019</td>\n",
       "      <td>00:00:00</td>\n",
       "      <td>RECOVR AUD</td>\n",
       "      <td>3071535</td>\n",
       "      <td>4512012</td>\n",
       "      <td>2019-04-20 00:00:00</td>\n",
       "    </tr>\n",
       "    <tr>\n",
       "      <th>53585</th>\n",
       "      <td>N071</td>\n",
       "      <td>R013</td>\n",
       "      <td>00-00-02</td>\n",
       "      <td>34 ST-PENN STA</td>\n",
       "      <td>ACE</td>\n",
       "      <td>IND</td>\n",
       "      <td>04/20/2019</td>\n",
       "      <td>04:00:00</td>\n",
       "      <td>REGULAR</td>\n",
       "      <td>8481280</td>\n",
       "      <td>10918514</td>\n",
       "      <td>2019-04-20 04:00:00</td>\n",
       "    </tr>\n",
       "    <tr>\n",
       "      <th>53586</th>\n",
       "      <td>N071</td>\n",
       "      <td>R013</td>\n",
       "      <td>00-00-02</td>\n",
       "      <td>34 ST-PENN STA</td>\n",
       "      <td>ACE</td>\n",
       "      <td>IND</td>\n",
       "      <td>04/20/2019</td>\n",
       "      <td>08:00:00</td>\n",
       "      <td>REGULAR</td>\n",
       "      <td>8481300</td>\n",
       "      <td>10918541</td>\n",
       "      <td>2019-04-20 08:00:00</td>\n",
       "    </tr>\n",
       "    <tr>\n",
       "      <th>53587</th>\n",
       "      <td>N071</td>\n",
       "      <td>R013</td>\n",
       "      <td>00-00-02</td>\n",
       "      <td>34 ST-PENN STA</td>\n",
       "      <td>ACE</td>\n",
       "      <td>IND</td>\n",
       "      <td>04/20/2019</td>\n",
       "      <td>08:00:00</td>\n",
       "      <td>RECOVR AUD</td>\n",
       "      <td>3071562</td>\n",
       "      <td>4512111</td>\n",
       "      <td>2019-04-20 08:00:00</td>\n",
       "    </tr>\n",
       "    <tr>\n",
       "      <th>53588</th>\n",
       "      <td>N071</td>\n",
       "      <td>R013</td>\n",
       "      <td>00-00-02</td>\n",
       "      <td>34 ST-PENN STA</td>\n",
       "      <td>ACE</td>\n",
       "      <td>IND</td>\n",
       "      <td>04/20/2019</td>\n",
       "      <td>12:00:00</td>\n",
       "      <td>REGULAR</td>\n",
       "      <td>3071678</td>\n",
       "      <td>4512313</td>\n",
       "      <td>2019-04-20 12:00:00</td>\n",
       "    </tr>\n",
       "    <tr>\n",
       "      <th>53589</th>\n",
       "      <td>N071</td>\n",
       "      <td>R013</td>\n",
       "      <td>00-00-02</td>\n",
       "      <td>34 ST-PENN STA</td>\n",
       "      <td>ACE</td>\n",
       "      <td>IND</td>\n",
       "      <td>04/20/2019</td>\n",
       "      <td>16:00:00</td>\n",
       "      <td>REGULAR</td>\n",
       "      <td>3071862</td>\n",
       "      <td>4512589</td>\n",
       "      <td>2019-04-20 16:00:00</td>\n",
       "    </tr>\n",
       "    <tr>\n",
       "      <th>53590</th>\n",
       "      <td>N071</td>\n",
       "      <td>R013</td>\n",
       "      <td>00-00-02</td>\n",
       "      <td>34 ST-PENN STA</td>\n",
       "      <td>ACE</td>\n",
       "      <td>IND</td>\n",
       "      <td>04/20/2019</td>\n",
       "      <td>20:00:00</td>\n",
       "      <td>REGULAR</td>\n",
       "      <td>3072147</td>\n",
       "      <td>4512819</td>\n",
       "      <td>2019-04-20 20:00:00</td>\n",
       "    </tr>\n",
       "  </tbody>\n",
       "</table>\n",
       "</div>"
      ],
      "text/plain": [
       "        C/A  UNIT       SCP         STATION LINENAME DIVISION        DATE  \\\n",
       "53584  N071  R013  00-00-02  34 ST-PENN STA      ACE      IND  04/20/2019   \n",
       "53585  N071  R013  00-00-02  34 ST-PENN STA      ACE      IND  04/20/2019   \n",
       "53586  N071  R013  00-00-02  34 ST-PENN STA      ACE      IND  04/20/2019   \n",
       "53587  N071  R013  00-00-02  34 ST-PENN STA      ACE      IND  04/20/2019   \n",
       "53588  N071  R013  00-00-02  34 ST-PENN STA      ACE      IND  04/20/2019   \n",
       "53589  N071  R013  00-00-02  34 ST-PENN STA      ACE      IND  04/20/2019   \n",
       "53590  N071  R013  00-00-02  34 ST-PENN STA      ACE      IND  04/20/2019   \n",
       "\n",
       "           TIME        DESC  ENTRIES     EXITS           DATE_TIME  \n",
       "53584  00:00:00  RECOVR AUD  3071535   4512012 2019-04-20 00:00:00  \n",
       "53585  04:00:00     REGULAR  8481280  10918514 2019-04-20 04:00:00  \n",
       "53586  08:00:00     REGULAR  8481300  10918541 2019-04-20 08:00:00  \n",
       "53587  08:00:00  RECOVR AUD  3071562   4512111 2019-04-20 08:00:00  \n",
       "53588  12:00:00     REGULAR  3071678   4512313 2019-04-20 12:00:00  \n",
       "53589  16:00:00     REGULAR  3071862   4512589 2019-04-20 16:00:00  \n",
       "53590  20:00:00     REGULAR  3072147   4512819 2019-04-20 20:00:00  "
      ]
     },
     "execution_count": 21,
     "metadata": {},
     "output_type": "execute_result"
    }
   ],
   "source": [
    "df_MTA[mask]"
   ]
  },
  {
   "cell_type": "code",
   "execution_count": 22,
   "metadata": {},
   "outputs": [],
   "source": [
    "df_MTA.sort_values([\"C/A\", \"UNIT\", \"SCP\", \"STATION\", \"DATE_TIME\"], inplace=True, ascending=True)"
   ]
  },
  {
   "cell_type": "code",
   "execution_count": 23,
   "metadata": {},
   "outputs": [],
   "source": [
    "df_MTA.drop_duplicates(subset=[\"C/A\", \"UNIT\", \"SCP\", \"STATION\", \"DATE_TIME\"], inplace=True)"
   ]
  },
  {
   "cell_type": "code",
   "execution_count": 24,
   "metadata": {},
   "outputs": [
    {
     "data": {
      "text/plain": [
       "REGULAR       2652913\n",
       "RECOVR AUD      11279\n",
       "Name: DESC, dtype: int64"
      ]
     },
     "execution_count": 24,
     "metadata": {},
     "output_type": "execute_result"
    }
   ],
   "source": [
    "df_MTA.DESC.value_counts()"
   ]
  },
  {
   "cell_type": "code",
   "execution_count": 25,
   "metadata": {},
   "outputs": [],
   "source": [
    "df_MTA_2019 = df_MTA"
   ]
  },
  {
   "cell_type": "code",
   "execution_count": 26,
   "metadata": {},
   "outputs": [],
   "source": [
    "df_MTA_2019['LINENAME'] = df_MTA_2019['LINENAME'].apply(lambda x: ''.join(sorted(x)))"
   ]
  },
  {
   "cell_type": "code",
   "execution_count": 27,
   "metadata": {},
   "outputs": [],
   "source": [
    "df_MTA_2019['station_linename'] = df_MTA_2019['STATION'] + \"_\" + df_MTA_2019[\"LINENAME\"]"
   ]
  },
  {
   "cell_type": "code",
   "execution_count": 28,
   "metadata": {},
   "outputs": [],
   "source": [
    "list_of_station_linenames = sorted(df_MTA_2019['station_linename'].unique())"
   ]
  },
  {
   "cell_type": "code",
   "execution_count": 29,
   "metadata": {},
   "outputs": [],
   "source": [
    "x = list(df_MTA_2019['STATION'].unique())"
   ]
  },
  {
   "cell_type": "code",
   "execution_count": 30,
   "metadata": {},
   "outputs": [
    {
     "data": {
      "text/plain": [
       "{-1}"
      ]
     },
     "execution_count": 30,
     "metadata": {},
     "output_type": "execute_result"
    }
   ],
   "source": [
    "# confirm that there are no \"_\" in \"STATION\" column (so you can split using \"_\" below)\n",
    "set(np.char.find(x, '_'))"
   ]
  },
  {
   "cell_type": "code",
   "execution_count": 31,
   "metadata": {},
   "outputs": [],
   "source": [
    "# Create a dictionary called station_linenames_dict where keys are station names, \n",
    "# values are unique line names that run out of that station\n",
    "# Assumption is that if a \"STATION\" has unique linenames, it is a unique STATION (physical/geo/map)\n",
    "# PURPOSE is to separate \"STATION\" into individual separate subway stations in real life NYC (e.g. 23rd St, 86th St, 125th St)\n",
    "station_linenames_dict = {}\n",
    "\n",
    "for station_linename in list_of_station_linenames:\n",
    "    # split into station and linename\n",
    "    station, linename = station_linename.split('_')\n",
    "    \n",
    "    if station in station_linenames_dict:\n",
    "        \n",
    "        unique_linename = True\n",
    "        for current_values in station_linenames_dict[station]:\n",
    "        # if linename shares any linenames with other station/linenames, set linename to the union of all shared linenames   \n",
    "            if set(linename).intersection(set(current_values)):\n",
    "                station_linenames_dict[station] = [''.join(sorted(set(linename).union(set(current_values))))]\n",
    "                unique_linename = False\n",
    "        \n",
    "        # if unique linename, then assume it is a separate subway station in real life NYC \n",
    "        if unique_linename == True:\n",
    "            station_linenames_dict[station].append(linename)\n",
    "    \n",
    "    else:\n",
    "        station_linenames_dict[station] = [linename]"
   ]
  },
  {
   "cell_type": "code",
   "execution_count": 32,
   "metadata": {},
   "outputs": [],
   "source": [
    "def proper_station_linename_column(df):  \n",
    "    \"\"\"\n",
    "    Function below to account for multiple subway stations in real life NYC showing up as the same string in \n",
    "    'STATION' column (e.g. 23rd St, 86th St, 125th St)\n",
    "    \n",
    "    :param input df: pandas dataframe with \"STATION\" column\n",
    "    :param output/return: change \"STATION\" to \"station_linename\" only if there are multiple linenames\n",
    "    \"\"\"\n",
    "    if len(station_linenames_dict[df[\"STATION\"]]) > 1:\n",
    "        df[\"STATION\"] = df[\"station_linename\"]\n",
    "    return df['STATION']"
   ]
  },
  {
   "cell_type": "code",
   "execution_count": 33,
   "metadata": {},
   "outputs": [],
   "source": [
    "df_MTA_2019['STATION'] = df_MTA_2019.apply(proper_station_linename_column, axis=1)"
   ]
  },
  {
   "cell_type": "code",
   "execution_count": 34,
   "metadata": {},
   "outputs": [],
   "source": [
    "# take the first row for each combination of \"C/A\", \"UNIT\", \"SCP\", \"STATION\", \"DATE\" to later calculate daily entries/exits\n",
    "df_MTA_2019_daily = (df_MTA_2019\n",
    "                     .groupby([\"C/A\", \"UNIT\", \"SCP\", \"STATION\", \"DATE\"],as_index=False)[[\"ENTRIES\",\"EXITS\"]]\n",
    "                     .first())"
   ]
  },
  {
   "cell_type": "code",
   "execution_count": 35,
   "metadata": {},
   "outputs": [],
   "source": [
    "df_MTA_2019_daily[\"PREV_DATE\"] = (df_MTA_2019_daily\n",
    "                                  .groupby([\"C/A\", \"UNIT\", \"SCP\", \"STATION\"])\n",
    "                                  .DATE\n",
    "                                  .apply(lambda group: group.shift(1)))"
   ]
  },
  {
   "cell_type": "code",
   "execution_count": 36,
   "metadata": {},
   "outputs": [],
   "source": [
    "df_MTA_2019_daily[\"PREV_ENTRIES\"] = (df_MTA_2019_daily\n",
    "                                     .groupby([\"C/A\", \"UNIT\", \"SCP\", \"STATION\"])\n",
    "                                     .ENTRIES\n",
    "                                     .apply(lambda group: group.shift(1)))"
   ]
  },
  {
   "cell_type": "code",
   "execution_count": 37,
   "metadata": {},
   "outputs": [],
   "source": [
    "df_MTA_2019_daily[\"PREV_EXITS\"] = (df_MTA_2019_daily\n",
    "                                   .groupby([\"C/A\", \"UNIT\", \"SCP\", \"STATION\"])\n",
    "                                   .EXITS\n",
    "                                   .apply(lambda group: group.shift(1)))"
   ]
  },
  {
   "cell_type": "code",
   "execution_count": 38,
   "metadata": {},
   "outputs": [
    {
     "data": {
      "text/html": [
       "<div>\n",
       "<style scoped>\n",
       "    .dataframe tbody tr th:only-of-type {\n",
       "        vertical-align: middle;\n",
       "    }\n",
       "\n",
       "    .dataframe tbody tr th {\n",
       "        vertical-align: top;\n",
       "    }\n",
       "\n",
       "    .dataframe thead th {\n",
       "        text-align: right;\n",
       "    }\n",
       "</style>\n",
       "<table border=\"1\" class=\"dataframe\">\n",
       "  <thead>\n",
       "    <tr style=\"text-align: right;\">\n",
       "      <th></th>\n",
       "      <th>C/A</th>\n",
       "      <th>UNIT</th>\n",
       "      <th>SCP</th>\n",
       "      <th>STATION</th>\n",
       "      <th>DATE</th>\n",
       "      <th>ENTRIES</th>\n",
       "      <th>EXITS</th>\n",
       "      <th>PREV_DATE</th>\n",
       "      <th>PREV_ENTRIES</th>\n",
       "      <th>PREV_EXITS</th>\n",
       "    </tr>\n",
       "  </thead>\n",
       "  <tbody>\n",
       "    <tr>\n",
       "      <th>7044</th>\n",
       "      <td>A025</td>\n",
       "      <td>R023</td>\n",
       "      <td>01-03-01</td>\n",
       "      <td>34 ST-HERALD SQ</td>\n",
       "      <td>03/31/2019</td>\n",
       "      <td>1238567092</td>\n",
       "      <td>1813218523</td>\n",
       "      <td>03/30/2019</td>\n",
       "      <td>1.238570e+09</td>\n",
       "      <td>1.813217e+09</td>\n",
       "    </tr>\n",
       "    <tr>\n",
       "      <th>7045</th>\n",
       "      <td>A025</td>\n",
       "      <td>R023</td>\n",
       "      <td>01-03-01</td>\n",
       "      <td>34 ST-HERALD SQ</td>\n",
       "      <td>04/01/2019</td>\n",
       "      <td>1238565030</td>\n",
       "      <td>1813219495</td>\n",
       "      <td>03/31/2019</td>\n",
       "      <td>1.238567e+09</td>\n",
       "      <td>1.813219e+09</td>\n",
       "    </tr>\n",
       "    <tr>\n",
       "      <th>7046</th>\n",
       "      <td>A025</td>\n",
       "      <td>R023</td>\n",
       "      <td>01-03-01</td>\n",
       "      <td>34 ST-HERALD SQ</td>\n",
       "      <td>04/02/2019</td>\n",
       "      <td>1238561212</td>\n",
       "      <td>1813221361</td>\n",
       "      <td>04/01/2019</td>\n",
       "      <td>1.238565e+09</td>\n",
       "      <td>1.813219e+09</td>\n",
       "    </tr>\n",
       "    <tr>\n",
       "      <th>7047</th>\n",
       "      <td>A025</td>\n",
       "      <td>R023</td>\n",
       "      <td>01-03-01</td>\n",
       "      <td>34 ST-HERALD SQ</td>\n",
       "      <td>04/03/2019</td>\n",
       "      <td>1238557159</td>\n",
       "      <td>1813223205</td>\n",
       "      <td>04/02/2019</td>\n",
       "      <td>1.238561e+09</td>\n",
       "      <td>1.813221e+09</td>\n",
       "    </tr>\n",
       "    <tr>\n",
       "      <th>7048</th>\n",
       "      <td>A025</td>\n",
       "      <td>R023</td>\n",
       "      <td>01-03-01</td>\n",
       "      <td>34 ST-HERALD SQ</td>\n",
       "      <td>04/04/2019</td>\n",
       "      <td>1238553023</td>\n",
       "      <td>1813225047</td>\n",
       "      <td>04/03/2019</td>\n",
       "      <td>1.238557e+09</td>\n",
       "      <td>1.813223e+09</td>\n",
       "    </tr>\n",
       "  </tbody>\n",
       "</table>\n",
       "</div>"
      ],
      "text/plain": [
       "       C/A  UNIT       SCP          STATION        DATE     ENTRIES  \\\n",
       "7044  A025  R023  01-03-01  34 ST-HERALD SQ  03/31/2019  1238567092   \n",
       "7045  A025  R023  01-03-01  34 ST-HERALD SQ  04/01/2019  1238565030   \n",
       "7046  A025  R023  01-03-01  34 ST-HERALD SQ  04/02/2019  1238561212   \n",
       "7047  A025  R023  01-03-01  34 ST-HERALD SQ  04/03/2019  1238557159   \n",
       "7048  A025  R023  01-03-01  34 ST-HERALD SQ  04/04/2019  1238553023   \n",
       "\n",
       "           EXITS   PREV_DATE  PREV_ENTRIES    PREV_EXITS  \n",
       "7044  1813218523  03/30/2019  1.238570e+09  1.813217e+09  \n",
       "7045  1813219495  03/31/2019  1.238567e+09  1.813219e+09  \n",
       "7046  1813221361  04/01/2019  1.238565e+09  1.813219e+09  \n",
       "7047  1813223205  04/02/2019  1.238561e+09  1.813221e+09  \n",
       "7048  1813225047  04/03/2019  1.238557e+09  1.813223e+09  "
      ]
     },
     "execution_count": 38,
     "metadata": {},
     "output_type": "execute_result"
    }
   ],
   "source": [
    "# check if entries is less than previous day's entries\n",
    "# perhaps turnstiles are working in reverse order/count\n",
    "df_MTA_2019_daily[df_MTA_2019_daily[\"ENTRIES\"] < df_MTA_2019_daily[\"PREV_ENTRIES\"]].head()"
   ]
  },
  {
   "cell_type": "code",
   "execution_count": 39,
   "metadata": {},
   "outputs": [
    {
     "data": {
      "text/plain": [
       "C/A   UNIT  SCP       STATION        \n",
       "A025  R023  01-03-01  34 ST-HERALD SQ    90\n",
       "A037  R170  05-00-00  14 ST-UNION SQ      1\n",
       "A038  R085  00-00-01  8 ST-NYU            1\n",
       "            00-06-00  8 ST-NYU            1\n",
       "A039  R085  01-00-01  8 ST-NYU            1\n",
       "                                         ..\n",
       "R623  R061  00-00-00  NOSTRAND AV_3       1\n",
       "            00-00-01  NOSTRAND AV_3       1\n",
       "R629  R065  00-00-00  ROCKAWAY AV_3       1\n",
       "R646  R110  01-00-01  FLATBUSH AV-B.C    90\n",
       "R730  R431  00-00-04  EASTCHSTER/DYRE    86\n",
       "Length: 547, dtype: int64"
      ]
     },
     "execution_count": 39,
     "metadata": {},
     "output_type": "execute_result"
    }
   ],
   "source": [
    "(df_MTA_2019_daily[df_MTA_2019_daily[\"ENTRIES\"] < df_MTA_2019_daily[\"PREV_ENTRIES\"]]\n",
    " .groupby([\"C/A\", \"UNIT\", \"SCP\", \"STATION\"])\n",
    " .size())"
   ]
  },
  {
   "cell_type": "code",
   "execution_count": 40,
   "metadata": {},
   "outputs": [],
   "source": [
    "def get_daily_counts(row, max_counter):\n",
    "    counter = row[\"ENTRIES\"] - row[\"PREV_ENTRIES\"]\n",
    "    if counter < 0:\n",
    "        counter = -counter\n",
    "    if counter > max_counter:\n",
    "        counter = min(row[\"ENTRIES\"], row[\"PREV_ENTRIES\"])\n",
    "    if counter > max_counter:\n",
    "        return 0\n",
    "    return counter"
   ]
  },
  {
   "cell_type": "code",
   "execution_count": 41,
   "metadata": {},
   "outputs": [
    {
     "data": {
      "text/plain": [
       "86400"
      ]
     },
     "execution_count": 41,
     "metadata": {},
     "output_type": "execute_result"
    }
   ],
   "source": [
    "# 60 seconds per minute, 60 min per hour, 24 hours per day; 1 person per second (starting assumption)\n",
    "60*60*24"
   ]
  },
  {
   "cell_type": "code",
   "execution_count": 42,
   "metadata": {},
   "outputs": [],
   "source": [
    "df_MTA_2019_daily[\"DAILY_ENTRIES\"] = (df_MTA_2019_daily\n",
    "                                      .apply(get_daily_counts, \n",
    "                                             axis=1, \n",
    "                                             max_counter = 86400))"
   ]
  },
  {
   "cell_type": "code",
   "execution_count": 43,
   "metadata": {},
   "outputs": [],
   "source": [
    "# since group C/A, UNIT, SCP, STATION was sorted based on ascending order, taking the first row for each group\n",
    "# provides timestamp at midnight 00:00:00 (or early hours) of that day, therefore DAILY_ENTRIES provides the \n",
    "# number of daily entries for the previous day, so it needs to be shifted up one row for each group\n",
    "df_MTA_2019_daily[\"DAILY_ENTRIES_ADJ\"] = (df_MTA_2019_daily\n",
    "                                          .groupby([\"C/A\", \"UNIT\", \"SCP\", \"STATION\"])\n",
    "                                          .DAILY_ENTRIES\n",
    "                                          .apply(lambda x: x.shift(-1)))"
   ]
  },
  {
   "cell_type": "code",
   "execution_count": 44,
   "metadata": {},
   "outputs": [],
   "source": [
    "df_MTA_2019_daily.drop(columns=[\"DAILY_ENTRIES\"], inplace = True)"
   ]
  },
  {
   "cell_type": "code",
   "execution_count": 45,
   "metadata": {},
   "outputs": [],
   "source": [
    "df_MTA_2019_daily.rename(columns={\"DAILY_ENTRIES_ADJ\":\"DAILY_ENTRIES\"}, inplace = True)"
   ]
  },
  {
   "cell_type": "code",
   "execution_count": 46,
   "metadata": {},
   "outputs": [
    {
     "data": {
      "text/html": [
       "<div>\n",
       "<style scoped>\n",
       "    .dataframe tbody tr th:only-of-type {\n",
       "        vertical-align: middle;\n",
       "    }\n",
       "\n",
       "    .dataframe tbody tr th {\n",
       "        vertical-align: top;\n",
       "    }\n",
       "\n",
       "    .dataframe thead th {\n",
       "        text-align: right;\n",
       "    }\n",
       "</style>\n",
       "<table border=\"1\" class=\"dataframe\">\n",
       "  <thead>\n",
       "    <tr style=\"text-align: right;\">\n",
       "      <th></th>\n",
       "      <th>C/A</th>\n",
       "      <th>UNIT</th>\n",
       "      <th>SCP</th>\n",
       "      <th>STATION</th>\n",
       "      <th>DATE</th>\n",
       "      <th>ENTRIES</th>\n",
       "      <th>EXITS</th>\n",
       "      <th>PREV_DATE</th>\n",
       "      <th>PREV_ENTRIES</th>\n",
       "      <th>PREV_EXITS</th>\n",
       "      <th>DAILY_ENTRIES</th>\n",
       "    </tr>\n",
       "  </thead>\n",
       "  <tbody>\n",
       "    <tr>\n",
       "      <th>256139</th>\n",
       "      <td>PTH07</td>\n",
       "      <td>R550</td>\n",
       "      <td>00-01-06</td>\n",
       "      <td>CITY / BUS</td>\n",
       "      <td>06/11/2019</td>\n",
       "      <td>85343</td>\n",
       "      <td>79992</td>\n",
       "      <td>06/10/2019</td>\n",
       "      <td>85075.0</td>\n",
       "      <td>79758.0</td>\n",
       "      <td>85232.0</td>\n",
       "    </tr>\n",
       "    <tr>\n",
       "      <th>273138</th>\n",
       "      <td>PTH22</td>\n",
       "      <td>R540</td>\n",
       "      <td>00-04-06</td>\n",
       "      <td>PATH NEW WTC</td>\n",
       "      <td>05/31/2019</td>\n",
       "      <td>84511</td>\n",
       "      <td>268115</td>\n",
       "      <td>05/30/2019</td>\n",
       "      <td>84351.0</td>\n",
       "      <td>267822.0</td>\n",
       "      <td>84503.0</td>\n",
       "    </tr>\n",
       "    <tr>\n",
       "      <th>249491</th>\n",
       "      <td>PTH03</td>\n",
       "      <td>R552</td>\n",
       "      <td>00-01-08</td>\n",
       "      <td>JOURNAL SQUARE</td>\n",
       "      <td>06/07/2019</td>\n",
       "      <td>84386</td>\n",
       "      <td>74161</td>\n",
       "      <td>06/06/2019</td>\n",
       "      <td>84301.0</td>\n",
       "      <td>74091.0</td>\n",
       "      <td>84320.0</td>\n",
       "    </tr>\n",
       "    <tr>\n",
       "      <th>247787</th>\n",
       "      <td>PTH03</td>\n",
       "      <td>R552</td>\n",
       "      <td>00-00-00</td>\n",
       "      <td>JOURNAL SQUARE</td>\n",
       "      <td>06/07/2019</td>\n",
       "      <td>84321</td>\n",
       "      <td>34517</td>\n",
       "      <td>06/06/2019</td>\n",
       "      <td>83891.0</td>\n",
       "      <td>34264.0</td>\n",
       "      <td>84162.0</td>\n",
       "    </tr>\n",
       "    <tr>\n",
       "      <th>248758</th>\n",
       "      <td>PTH03</td>\n",
       "      <td>R552</td>\n",
       "      <td>00-01-00</td>\n",
       "      <td>JOURNAL SQUARE</td>\n",
       "      <td>05/23/2019</td>\n",
       "      <td>84213</td>\n",
       "      <td>152211</td>\n",
       "      <td>05/22/2019</td>\n",
       "      <td>81090.0</td>\n",
       "      <td>146202.0</td>\n",
       "      <td>83425.0</td>\n",
       "    </tr>\n",
       "    <tr>\n",
       "      <th>87518</th>\n",
       "      <td>JFK03</td>\n",
       "      <td>R536</td>\n",
       "      <td>00-03-04</td>\n",
       "      <td>JFK JAMAICA CT1</td>\n",
       "      <td>04/30/2019</td>\n",
       "      <td>83297</td>\n",
       "      <td>471268</td>\n",
       "      <td>04/29/2019</td>\n",
       "      <td>83073.0</td>\n",
       "      <td>469778.0</td>\n",
       "      <td>83296.0</td>\n",
       "    </tr>\n",
       "    <tr>\n",
       "      <th>262761</th>\n",
       "      <td>PTH16</td>\n",
       "      <td>R550</td>\n",
       "      <td>01-02-02</td>\n",
       "      <td>LACKAWANNA</td>\n",
       "      <td>06/11/2019</td>\n",
       "      <td>83248</td>\n",
       "      <td>357312</td>\n",
       "      <td>06/10/2019</td>\n",
       "      <td>83065.0</td>\n",
       "      <td>356671.0</td>\n",
       "      <td>83241.0</td>\n",
       "    </tr>\n",
       "    <tr>\n",
       "      <th>245425</th>\n",
       "      <td>PTH01</td>\n",
       "      <td>R549</td>\n",
       "      <td>00-01-03</td>\n",
       "      <td>NEWARK HW BMEBE</td>\n",
       "      <td>05/20/2019</td>\n",
       "      <td>83070</td>\n",
       "      <td>938506</td>\n",
       "      <td>05/19/2019</td>\n",
       "      <td>83070.0</td>\n",
       "      <td>938294.0</td>\n",
       "      <td>83070.0</td>\n",
       "    </tr>\n",
       "    <tr>\n",
       "      <th>265486</th>\n",
       "      <td>PTH18</td>\n",
       "      <td>R549</td>\n",
       "      <td>01-01-01</td>\n",
       "      <td>NEWARK BM BW</td>\n",
       "      <td>06/05/2019</td>\n",
       "      <td>82876</td>\n",
       "      <td>1819</td>\n",
       "      <td>06/04/2019</td>\n",
       "      <td>81380.0</td>\n",
       "      <td>1787.0</td>\n",
       "      <td>82697.0</td>\n",
       "    </tr>\n",
       "    <tr>\n",
       "      <th>269914</th>\n",
       "      <td>PTH22</td>\n",
       "      <td>R540</td>\n",
       "      <td>00-00-01</td>\n",
       "      <td>PATH NEW WTC</td>\n",
       "      <td>05/14/2019</td>\n",
       "      <td>82578</td>\n",
       "      <td>184412</td>\n",
       "      <td>05/13/2019</td>\n",
       "      <td>81864.0</td>\n",
       "      <td>182703.0</td>\n",
       "      <td>82409.0</td>\n",
       "    </tr>\n",
       "  </tbody>\n",
       "</table>\n",
       "</div>"
      ],
      "text/plain": [
       "          C/A  UNIT       SCP          STATION        DATE  ENTRIES   EXITS  \\\n",
       "256139  PTH07  R550  00-01-06       CITY / BUS  06/11/2019    85343   79992   \n",
       "273138  PTH22  R540  00-04-06     PATH NEW WTC  05/31/2019    84511  268115   \n",
       "249491  PTH03  R552  00-01-08   JOURNAL SQUARE  06/07/2019    84386   74161   \n",
       "247787  PTH03  R552  00-00-00   JOURNAL SQUARE  06/07/2019    84321   34517   \n",
       "248758  PTH03  R552  00-01-00   JOURNAL SQUARE  05/23/2019    84213  152211   \n",
       "87518   JFK03  R536  00-03-04  JFK JAMAICA CT1  04/30/2019    83297  471268   \n",
       "262761  PTH16  R550  01-02-02       LACKAWANNA  06/11/2019    83248  357312   \n",
       "245425  PTH01  R549  00-01-03  NEWARK HW BMEBE  05/20/2019    83070  938506   \n",
       "265486  PTH18  R549  01-01-01     NEWARK BM BW  06/05/2019    82876    1819   \n",
       "269914  PTH22  R540  00-00-01     PATH NEW WTC  05/14/2019    82578  184412   \n",
       "\n",
       "         PREV_DATE  PREV_ENTRIES  PREV_EXITS  DAILY_ENTRIES  \n",
       "256139  06/10/2019       85075.0     79758.0        85232.0  \n",
       "273138  05/30/2019       84351.0    267822.0        84503.0  \n",
       "249491  06/06/2019       84301.0     74091.0        84320.0  \n",
       "247787  06/06/2019       83891.0     34264.0        84162.0  \n",
       "248758  05/22/2019       81090.0    146202.0        83425.0  \n",
       "87518   04/29/2019       83073.0    469778.0        83296.0  \n",
       "262761  06/10/2019       83065.0    356671.0        83241.0  \n",
       "245425  05/19/2019       83070.0    938294.0        83070.0  \n",
       "265486  06/04/2019       81380.0      1787.0        82697.0  \n",
       "269914  05/13/2019       81864.0    182703.0        82409.0  "
      ]
     },
     "execution_count": 46,
     "metadata": {},
     "output_type": "execute_result"
    }
   ],
   "source": [
    "df_MTA_2019_daily.sort_values(by = \"DAILY_ENTRIES\", ascending = False).head(10)"
   ]
  },
  {
   "cell_type": "code",
   "execution_count": 47,
   "metadata": {},
   "outputs": [],
   "source": [
    "# create a mask for one of the rows above where the daily entries is very very large\n",
    "mask3 = ((df_MTA_2019_daily[\"C/A\"] == \"PTH22\") \n",
    "         & (df_MTA_2019_daily[\"UNIT\"] == \"R540\") \n",
    "         & (df_MTA_2019_daily[\"SCP\"] == \"00-04-06\")\n",
    "         & (df_MTA_2019_daily[\"STATION\"] == \"PATH NEW WTC\"))"
   ]
  },
  {
   "cell_type": "code",
   "execution_count": 48,
   "metadata": {},
   "outputs": [
    {
     "data": {
      "text/html": [
       "<div>\n",
       "<style scoped>\n",
       "    .dataframe tbody tr th:only-of-type {\n",
       "        vertical-align: middle;\n",
       "    }\n",
       "\n",
       "    .dataframe tbody tr th {\n",
       "        vertical-align: top;\n",
       "    }\n",
       "\n",
       "    .dataframe thead th {\n",
       "        text-align: right;\n",
       "    }\n",
       "</style>\n",
       "<table border=\"1\" class=\"dataframe\">\n",
       "  <thead>\n",
       "    <tr style=\"text-align: right;\">\n",
       "      <th></th>\n",
       "      <th>C/A</th>\n",
       "      <th>UNIT</th>\n",
       "      <th>SCP</th>\n",
       "      <th>STATION</th>\n",
       "      <th>DATE</th>\n",
       "      <th>ENTRIES</th>\n",
       "      <th>EXITS</th>\n",
       "      <th>PREV_DATE</th>\n",
       "      <th>PREV_ENTRIES</th>\n",
       "      <th>PREV_EXITS</th>\n",
       "      <th>DAILY_ENTRIES</th>\n",
       "    </tr>\n",
       "  </thead>\n",
       "  <tbody>\n",
       "    <tr>\n",
       "      <th>273133</th>\n",
       "      <td>PTH22</td>\n",
       "      <td>R540</td>\n",
       "      <td>00-04-06</td>\n",
       "      <td>PATH NEW WTC</td>\n",
       "      <td>05/26/2019</td>\n",
       "      <td>83909</td>\n",
       "      <td>267068</td>\n",
       "      <td>05/25/2019</td>\n",
       "      <td>83899.0</td>\n",
       "      <td>266971.0</td>\n",
       "      <td>21.0</td>\n",
       "    </tr>\n",
       "    <tr>\n",
       "      <th>273134</th>\n",
       "      <td>PTH22</td>\n",
       "      <td>R540</td>\n",
       "      <td>00-04-06</td>\n",
       "      <td>PATH NEW WTC</td>\n",
       "      <td>05/27/2019</td>\n",
       "      <td>83930</td>\n",
       "      <td>267146</td>\n",
       "      <td>05/26/2019</td>\n",
       "      <td>83909.0</td>\n",
       "      <td>267068.0</td>\n",
       "      <td>10.0</td>\n",
       "    </tr>\n",
       "    <tr>\n",
       "      <th>273135</th>\n",
       "      <td>PTH22</td>\n",
       "      <td>R540</td>\n",
       "      <td>00-04-06</td>\n",
       "      <td>PATH NEW WTC</td>\n",
       "      <td>05/28/2019</td>\n",
       "      <td>83940</td>\n",
       "      <td>267210</td>\n",
       "      <td>05/27/2019</td>\n",
       "      <td>83930.0</td>\n",
       "      <td>267146.0</td>\n",
       "      <td>190.0</td>\n",
       "    </tr>\n",
       "    <tr>\n",
       "      <th>273136</th>\n",
       "      <td>PTH22</td>\n",
       "      <td>R540</td>\n",
       "      <td>00-04-06</td>\n",
       "      <td>PATH NEW WTC</td>\n",
       "      <td>05/29/2019</td>\n",
       "      <td>84130</td>\n",
       "      <td>267517</td>\n",
       "      <td>05/28/2019</td>\n",
       "      <td>83940.0</td>\n",
       "      <td>267210.0</td>\n",
       "      <td>221.0</td>\n",
       "    </tr>\n",
       "    <tr>\n",
       "      <th>273137</th>\n",
       "      <td>PTH22</td>\n",
       "      <td>R540</td>\n",
       "      <td>00-04-06</td>\n",
       "      <td>PATH NEW WTC</td>\n",
       "      <td>05/30/2019</td>\n",
       "      <td>84351</td>\n",
       "      <td>267822</td>\n",
       "      <td>05/29/2019</td>\n",
       "      <td>84130.0</td>\n",
       "      <td>267517.0</td>\n",
       "      <td>160.0</td>\n",
       "    </tr>\n",
       "    <tr>\n",
       "      <th>273138</th>\n",
       "      <td>PTH22</td>\n",
       "      <td>R540</td>\n",
       "      <td>00-04-06</td>\n",
       "      <td>PATH NEW WTC</td>\n",
       "      <td>05/31/2019</td>\n",
       "      <td>84511</td>\n",
       "      <td>268115</td>\n",
       "      <td>05/30/2019</td>\n",
       "      <td>84351.0</td>\n",
       "      <td>267822.0</td>\n",
       "      <td>84503.0</td>\n",
       "    </tr>\n",
       "    <tr>\n",
       "      <th>273139</th>\n",
       "      <td>PTH22</td>\n",
       "      <td>R540</td>\n",
       "      <td>00-04-06</td>\n",
       "      <td>PATH NEW WTC</td>\n",
       "      <td>06/05/2019</td>\n",
       "      <td>8</td>\n",
       "      <td>48</td>\n",
       "      <td>05/31/2019</td>\n",
       "      <td>84511.0</td>\n",
       "      <td>268115.0</td>\n",
       "      <td>156.0</td>\n",
       "    </tr>\n",
       "    <tr>\n",
       "      <th>273140</th>\n",
       "      <td>PTH22</td>\n",
       "      <td>R540</td>\n",
       "      <td>00-04-06</td>\n",
       "      <td>PATH NEW WTC</td>\n",
       "      <td>06/06/2019</td>\n",
       "      <td>164</td>\n",
       "      <td>121</td>\n",
       "      <td>06/05/2019</td>\n",
       "      <td>8.0</td>\n",
       "      <td>48.0</td>\n",
       "      <td>222.0</td>\n",
       "    </tr>\n",
       "    <tr>\n",
       "      <th>273141</th>\n",
       "      <td>PTH22</td>\n",
       "      <td>R540</td>\n",
       "      <td>00-04-06</td>\n",
       "      <td>PATH NEW WTC</td>\n",
       "      <td>06/07/2019</td>\n",
       "      <td>386</td>\n",
       "      <td>483</td>\n",
       "      <td>06/06/2019</td>\n",
       "      <td>164.0</td>\n",
       "      <td>121.0</td>\n",
       "      <td>114.0</td>\n",
       "    </tr>\n",
       "    <tr>\n",
       "      <th>273142</th>\n",
       "      <td>PTH22</td>\n",
       "      <td>R540</td>\n",
       "      <td>00-04-06</td>\n",
       "      <td>PATH NEW WTC</td>\n",
       "      <td>06/08/2019</td>\n",
       "      <td>500</td>\n",
       "      <td>774</td>\n",
       "      <td>06/07/2019</td>\n",
       "      <td>386.0</td>\n",
       "      <td>483.0</td>\n",
       "      <td>0.0</td>\n",
       "    </tr>\n",
       "  </tbody>\n",
       "</table>\n",
       "</div>"
      ],
      "text/plain": [
       "          C/A  UNIT       SCP       STATION        DATE  ENTRIES   EXITS  \\\n",
       "273133  PTH22  R540  00-04-06  PATH NEW WTC  05/26/2019    83909  267068   \n",
       "273134  PTH22  R540  00-04-06  PATH NEW WTC  05/27/2019    83930  267146   \n",
       "273135  PTH22  R540  00-04-06  PATH NEW WTC  05/28/2019    83940  267210   \n",
       "273136  PTH22  R540  00-04-06  PATH NEW WTC  05/29/2019    84130  267517   \n",
       "273137  PTH22  R540  00-04-06  PATH NEW WTC  05/30/2019    84351  267822   \n",
       "273138  PTH22  R540  00-04-06  PATH NEW WTC  05/31/2019    84511  268115   \n",
       "273139  PTH22  R540  00-04-06  PATH NEW WTC  06/05/2019        8      48   \n",
       "273140  PTH22  R540  00-04-06  PATH NEW WTC  06/06/2019      164     121   \n",
       "273141  PTH22  R540  00-04-06  PATH NEW WTC  06/07/2019      386     483   \n",
       "273142  PTH22  R540  00-04-06  PATH NEW WTC  06/08/2019      500     774   \n",
       "\n",
       "         PREV_DATE  PREV_ENTRIES  PREV_EXITS  DAILY_ENTRIES  \n",
       "273133  05/25/2019       83899.0    266971.0           21.0  \n",
       "273134  05/26/2019       83909.0    267068.0           10.0  \n",
       "273135  05/27/2019       83930.0    267146.0          190.0  \n",
       "273136  05/28/2019       83940.0    267210.0          221.0  \n",
       "273137  05/29/2019       84130.0    267517.0          160.0  \n",
       "273138  05/30/2019       84351.0    267822.0        84503.0  \n",
       "273139  05/31/2019       84511.0    268115.0          156.0  \n",
       "273140  06/05/2019           8.0        48.0          222.0  \n",
       "273141  06/06/2019         164.0       121.0          114.0  \n",
       "273142  06/07/2019         386.0       483.0            0.0  "
      ]
     },
     "execution_count": 48,
     "metadata": {},
     "output_type": "execute_result"
    }
   ],
   "source": [
    "df_MTA_2019_daily[mask3][-30:-20]"
   ]
  },
  {
   "cell_type": "code",
   "execution_count": 49,
   "metadata": {},
   "outputs": [
    {
     "data": {
      "text/plain": [
       "84503.0"
      ]
     },
     "execution_count": 49,
     "metadata": {},
     "output_type": "execute_result"
    }
   ],
   "source": [
    "df_MTA_2019_daily[mask3][\"DAILY_ENTRIES\"].max()"
   ]
  },
  {
   "cell_type": "code",
   "execution_count": 50,
   "metadata": {},
   "outputs": [
    {
     "data": {
      "text/plain": [
       "148.0"
      ]
     },
     "execution_count": 50,
     "metadata": {},
     "output_type": "execute_result"
    }
   ],
   "source": [
    "df_MTA_2019_daily[mask3][\"DAILY_ENTRIES\"].median()"
   ]
  },
  {
   "cell_type": "code",
   "execution_count": 51,
   "metadata": {},
   "outputs": [
    {
     "data": {
      "text/plain": [
       "570.9662162162163"
      ]
     },
     "execution_count": 51,
     "metadata": {},
     "output_type": "execute_result"
    }
   ],
   "source": [
    "df_MTA_2019_daily[mask3][\"DAILY_ENTRIES\"].max() / df_MTA_2019_daily[mask3][\"DAILY_ENTRIES\"].median()"
   ]
  },
  {
   "cell_type": "code",
   "execution_count": 52,
   "metadata": {},
   "outputs": [
    {
     "name": "stderr",
     "output_type": "stream",
     "text": [
      "/Users/matty2/opt/anaconda3/lib/python3.7/site-packages/numpy/lib/histograms.py:839: RuntimeWarning: invalid value encountered in greater_equal\n",
      "  keep = (tmp_a >= first_edge)\n",
      "/Users/matty2/opt/anaconda3/lib/python3.7/site-packages/numpy/lib/histograms.py:840: RuntimeWarning: invalid value encountered in less_equal\n",
      "  keep &= (tmp_a <= last_edge)\n"
     ]
    },
    {
     "data": {
      "image/png": "[encoded data removed]",
      "text/plain": [
       "<Figure size 432x288 with 1 Axes>"
      ]
     },
     "metadata": {
      "needs_background": "light"
     },
     "output_type": "display_data"
    }
   ],
   "source": [
    "# plot daily entries based on the conditions in mask3, clearly there is an outlier!\n",
    "plt.hist(df_MTA_2019_daily[mask3].DAILY_ENTRIES)\n",
    "plt.savefig('hist_PTH22_R540_000406_PATHNEWWTC.outlier.png');"
   ]
  },
  {
   "cell_type": "code",
   "execution_count": 53,
   "metadata": {},
   "outputs": [],
   "source": [
    "# create a new column \"DATE_DIFF\" to see the difference between \"DATE\" and \"PREV_DATE\"\n",
    "df_MTA_2019_daily[\"DATE_DIFF\"] = pd.to_datetime(df_MTA_2019_daily.DATE) - pd.to_datetime(df_MTA_2019_daily.PREV_DATE)"
   ]
  },
  {
   "cell_type": "code",
   "execution_count": 54,
   "metadata": {},
   "outputs": [
    {
     "data": {
      "text/html": [
       "<div>\n",
       "<style scoped>\n",
       "    .dataframe tbody tr th:only-of-type {\n",
       "        vertical-align: middle;\n",
       "    }\n",
       "\n",
       "    .dataframe tbody tr th {\n",
       "        vertical-align: top;\n",
       "    }\n",
       "\n",
       "    .dataframe thead th {\n",
       "        text-align: right;\n",
       "    }\n",
       "</style>\n",
       "<table border=\"1\" class=\"dataframe\">\n",
       "  <thead>\n",
       "    <tr style=\"text-align: right;\">\n",
       "      <th></th>\n",
       "      <th>C/A</th>\n",
       "      <th>UNIT</th>\n",
       "      <th>SCP</th>\n",
       "      <th>STATION</th>\n",
       "      <th>DATE</th>\n",
       "      <th>ENTRIES</th>\n",
       "      <th>EXITS</th>\n",
       "      <th>PREV_DATE</th>\n",
       "      <th>PREV_ENTRIES</th>\n",
       "      <th>PREV_EXITS</th>\n",
       "      <th>DAILY_ENTRIES</th>\n",
       "      <th>DATE_DIFF</th>\n",
       "    </tr>\n",
       "  </thead>\n",
       "  <tbody>\n",
       "    <tr>\n",
       "      <th>246335</th>\n",
       "      <td>PTH02</td>\n",
       "      <td>R544</td>\n",
       "      <td>00-00-08</td>\n",
       "      <td>HARRISON</td>\n",
       "      <td>05/24/2019</td>\n",
       "      <td>142284</td>\n",
       "      <td>6516</td>\n",
       "      <td>04/13/2019</td>\n",
       "      <td>655363.0</td>\n",
       "      <td>82906.0</td>\n",
       "      <td>NaN</td>\n",
       "      <td>41 days</td>\n",
       "    </tr>\n",
       "    <tr>\n",
       "      <th>272966</th>\n",
       "      <td>PTH22</td>\n",
       "      <td>R540</td>\n",
       "      <td>00-04-04</td>\n",
       "      <td>PATH NEW WTC</td>\n",
       "      <td>06/05/2019</td>\n",
       "      <td>4</td>\n",
       "      <td>75</td>\n",
       "      <td>05/07/2019</td>\n",
       "      <td>11906.0</td>\n",
       "      <td>241487.0</td>\n",
       "      <td>6.0</td>\n",
       "      <td>29 days</td>\n",
       "    </tr>\n",
       "    <tr>\n",
       "      <th>268439</th>\n",
       "      <td>PTH20</td>\n",
       "      <td>R549</td>\n",
       "      <td>03-00-08</td>\n",
       "      <td>NEWARK HM HE</td>\n",
       "      <td>05/20/2019</td>\n",
       "      <td>36975</td>\n",
       "      <td>1148746</td>\n",
       "      <td>04/25/2019</td>\n",
       "      <td>409.0</td>\n",
       "      <td>2356.0</td>\n",
       "      <td>36546.0</td>\n",
       "      <td>25 days</td>\n",
       "    </tr>\n",
       "    <tr>\n",
       "      <th>199341</th>\n",
       "      <td>N414A</td>\n",
       "      <td>R316</td>\n",
       "      <td>01-00-01</td>\n",
       "      <td>FLUSHING AV_G</td>\n",
       "      <td>05/02/2019</td>\n",
       "      <td>547675</td>\n",
       "      <td>230120</td>\n",
       "      <td>04/08/2019</td>\n",
       "      <td>547673.0</td>\n",
       "      <td>230118.0</td>\n",
       "      <td>0.0</td>\n",
       "      <td>24 days</td>\n",
       "    </tr>\n",
       "    <tr>\n",
       "      <th>199409</th>\n",
       "      <td>N414A</td>\n",
       "      <td>R316</td>\n",
       "      <td>01-00-02</td>\n",
       "      <td>FLUSHING AV_G</td>\n",
       "      <td>05/02/2019</td>\n",
       "      <td>1469103</td>\n",
       "      <td>668846</td>\n",
       "      <td>04/08/2019</td>\n",
       "      <td>1469100.0</td>\n",
       "      <td>668841.0</td>\n",
       "      <td>0.0</td>\n",
       "      <td>24 days</td>\n",
       "    </tr>\n",
       "    <tr>\n",
       "      <th>199477</th>\n",
       "      <td>N414A</td>\n",
       "      <td>R316</td>\n",
       "      <td>01-06-00</td>\n",
       "      <td>FLUSHING AV_G</td>\n",
       "      <td>05/02/2019</td>\n",
       "      <td>1721039</td>\n",
       "      <td>1610756</td>\n",
       "      <td>04/08/2019</td>\n",
       "      <td>1721035.0</td>\n",
       "      <td>1610752.0</td>\n",
       "      <td>0.0</td>\n",
       "      <td>24 days</td>\n",
       "    </tr>\n",
       "    <tr>\n",
       "      <th>199545</th>\n",
       "      <td>N414A</td>\n",
       "      <td>R316</td>\n",
       "      <td>01-06-01</td>\n",
       "      <td>FLUSHING AV_G</td>\n",
       "      <td>05/02/2019</td>\n",
       "      <td>2275461</td>\n",
       "      <td>2828879</td>\n",
       "      <td>04/08/2019</td>\n",
       "      <td>2275458.0</td>\n",
       "      <td>2828875.0</td>\n",
       "      <td>0.0</td>\n",
       "      <td>24 days</td>\n",
       "    </tr>\n",
       "    <tr>\n",
       "      <th>199273</th>\n",
       "      <td>N414A</td>\n",
       "      <td>R316</td>\n",
       "      <td>01-00-00</td>\n",
       "      <td>FLUSHING AV_G</td>\n",
       "      <td>05/02/2019</td>\n",
       "      <td>665527</td>\n",
       "      <td>741121</td>\n",
       "      <td>04/08/2019</td>\n",
       "      <td>665524.0</td>\n",
       "      <td>741116.0</td>\n",
       "      <td>0.0</td>\n",
       "      <td>24 days</td>\n",
       "    </tr>\n",
       "    <tr>\n",
       "      <th>78171</th>\n",
       "      <td>J002</td>\n",
       "      <td>R460</td>\n",
       "      <td>00-06-00</td>\n",
       "      <td>MARCY AV</td>\n",
       "      <td>05/08/2019</td>\n",
       "      <td>196696</td>\n",
       "      <td>218</td>\n",
       "      <td>04/17/2019</td>\n",
       "      <td>1969149.0</td>\n",
       "      <td>4031712.0</td>\n",
       "      <td>210.0</td>\n",
       "      <td>21 days</td>\n",
       "    </tr>\n",
       "    <tr>\n",
       "      <th>292397</th>\n",
       "      <td>R137</td>\n",
       "      <td>R031</td>\n",
       "      <td>02-03-01</td>\n",
       "      <td>34 ST-PENN STA</td>\n",
       "      <td>06/28/2019</td>\n",
       "      <td>76679</td>\n",
       "      <td>71988</td>\n",
       "      <td>06/11/2019</td>\n",
       "      <td>76679.0</td>\n",
       "      <td>56951.0</td>\n",
       "      <td>NaN</td>\n",
       "      <td>17 days</td>\n",
       "    </tr>\n",
       "  </tbody>\n",
       "</table>\n",
       "</div>"
      ],
      "text/plain": [
       "          C/A  UNIT       SCP         STATION        DATE  ENTRIES    EXITS  \\\n",
       "246335  PTH02  R544  00-00-08        HARRISON  05/24/2019   142284     6516   \n",
       "272966  PTH22  R540  00-04-04    PATH NEW WTC  06/05/2019        4       75   \n",
       "268439  PTH20  R549  03-00-08    NEWARK HM HE  05/20/2019    36975  1148746   \n",
       "199341  N414A  R316  01-00-01   FLUSHING AV_G  05/02/2019   547675   230120   \n",
       "199409  N414A  R316  01-00-02   FLUSHING AV_G  05/02/2019  1469103   668846   \n",
       "199477  N414A  R316  01-06-00   FLUSHING AV_G  05/02/2019  1721039  1610756   \n",
       "199545  N414A  R316  01-06-01   FLUSHING AV_G  05/02/2019  2275461  2828879   \n",
       "199273  N414A  R316  01-00-00   FLUSHING AV_G  05/02/2019   665527   741121   \n",
       "78171    J002  R460  00-06-00        MARCY AV  05/08/2019   196696      218   \n",
       "292397   R137  R031  02-03-01  34 ST-PENN STA  06/28/2019    76679    71988   \n",
       "\n",
       "         PREV_DATE  PREV_ENTRIES  PREV_EXITS  DAILY_ENTRIES DATE_DIFF  \n",
       "246335  04/13/2019      655363.0     82906.0            NaN   41 days  \n",
       "272966  05/07/2019       11906.0    241487.0            6.0   29 days  \n",
       "268439  04/25/2019         409.0      2356.0        36546.0   25 days  \n",
       "199341  04/08/2019      547673.0    230118.0            0.0   24 days  \n",
       "199409  04/08/2019     1469100.0    668841.0            0.0   24 days  \n",
       "199477  04/08/2019     1721035.0   1610752.0            0.0   24 days  \n",
       "199545  04/08/2019     2275458.0   2828875.0            0.0   24 days  \n",
       "199273  04/08/2019      665524.0    741116.0            0.0   24 days  \n",
       "78171   04/17/2019     1969149.0   4031712.0          210.0   21 days  \n",
       "292397  06/11/2019       76679.0     56951.0            NaN   17 days  "
      ]
     },
     "execution_count": 54,
     "metadata": {},
     "output_type": "execute_result"
    }
   ],
   "source": [
    "# look at all the rows where date_diff is greater than 1 day\n",
    "df_MTA_2019_daily.sort_values(by=\"DATE_DIFF\",ascending=False).head(10)"
   ]
  },
  {
   "cell_type": "code",
   "execution_count": 55,
   "metadata": {},
   "outputs": [],
   "source": [
    "time_range = pd.timedelta_range(start='1 day',periods=1)"
   ]
  },
  {
   "cell_type": "code",
   "execution_count": 56,
   "metadata": {},
   "outputs": [],
   "source": [
    "# create a new dataframe to filter those specific rows where the difference between \n",
    "# DATE and PREV_DATE > 1 day\n",
    "df_MTA_2019_highdatediff = df_MTA_2019_daily[df_MTA_2019_daily.DATE_DIFF > time_range[0]]"
   ]
  },
  {
   "cell_type": "code",
   "execution_count": 57,
   "metadata": {},
   "outputs": [],
   "source": [
    "# remove all rows where DATE_DIFF > 1 day\n",
    "df_MTA_2019_daily.drop(df_MTA_2019_highdatediff.index, inplace=True)"
   ]
  },
  {
   "cell_type": "code",
   "execution_count": 58,
   "metadata": {},
   "outputs": [],
   "source": [
    "# for a unique turnstile at a subway station, find the max and median daily_entries\n",
    "df_MTA_2019_dailystats = (df_MTA_2019_daily\n",
    "                           .groupby([\"C/A\",\"UNIT\",\"SCP\",\"STATION\"])\n",
    "                           .agg({\"DAILY_ENTRIES\": [np.max, np.median]}))"
   ]
  },
  {
   "cell_type": "code",
   "execution_count": 59,
   "metadata": {},
   "outputs": [],
   "source": [
    "df_MTA_2019_dailystats = pd.DataFrame(df_MTA_2019_dailystats)"
   ]
  },
  {
   "cell_type": "code",
   "execution_count": 60,
   "metadata": {},
   "outputs": [],
   "source": [
    "df_MTA_2019_dailystats.reset_index(inplace = True)"
   ]
  },
  {
   "cell_type": "code",
   "execution_count": 61,
   "metadata": {},
   "outputs": [],
   "source": [
    "df_MTA_2019_dailystats.columns = [\"C/A\", \"UNIT\", \"SCP\", \"STATION\", \"MAX_DAILY_ENTRIES_TURNSTILE\", \n",
    "                                  \"MEDIAN_DAILY_ENTRIES_TURNSTILE\"]"
   ]
  },
  {
   "cell_type": "code",
   "execution_count": 62,
   "metadata": {},
   "outputs": [],
   "source": [
    "df_MTA_2019_dailystats['peak_factor'] = (df_MTA_2019_dailystats[\"MAX_DAILY_ENTRIES_TURNSTILE\"] / \n",
    "                                         df_MTA_2019_dailystats[\"MEDIAN_DAILY_ENTRIES_TURNSTILE\"])"
   ]
  },
  {
   "cell_type": "code",
   "execution_count": 63,
   "metadata": {},
   "outputs": [
    {
     "data": {
      "text/html": [
       "<div>\n",
       "<style scoped>\n",
       "    .dataframe tbody tr th:only-of-type {\n",
       "        vertical-align: middle;\n",
       "    }\n",
       "\n",
       "    .dataframe tbody tr th {\n",
       "        vertical-align: top;\n",
       "    }\n",
       "\n",
       "    .dataframe thead th {\n",
       "        text-align: right;\n",
       "    }\n",
       "</style>\n",
       "<table border=\"1\" class=\"dataframe\">\n",
       "  <thead>\n",
       "    <tr style=\"text-align: right;\">\n",
       "      <th></th>\n",
       "      <th>C/A</th>\n",
       "      <th>UNIT</th>\n",
       "      <th>SCP</th>\n",
       "      <th>STATION</th>\n",
       "      <th>MAX_DAILY_ENTRIES_TURNSTILE</th>\n",
       "      <th>MEDIAN_DAILY_ENTRIES_TURNSTILE</th>\n",
       "      <th>peak_factor</th>\n",
       "    </tr>\n",
       "  </thead>\n",
       "  <tbody>\n",
       "    <tr>\n",
       "      <th>4911</th>\n",
       "      <td>TRAM2</td>\n",
       "      <td>R469</td>\n",
       "      <td>00-05-00</td>\n",
       "      <td>RIT-ROOSEVELT</td>\n",
       "      <td>3.0</td>\n",
       "      <td>0.0</td>\n",
       "      <td>inf</td>\n",
       "    </tr>\n",
       "    <tr>\n",
       "      <th>2919</th>\n",
       "      <td>PTH13</td>\n",
       "      <td>R541</td>\n",
       "      <td>00-04-08</td>\n",
       "      <td>THIRTY ST</td>\n",
       "      <td>1.0</td>\n",
       "      <td>0.0</td>\n",
       "      <td>inf</td>\n",
       "    </tr>\n",
       "    <tr>\n",
       "      <th>2605</th>\n",
       "      <td>N601</td>\n",
       "      <td>R319</td>\n",
       "      <td>00-05-00</td>\n",
       "      <td>LEXINGTON AV/63</td>\n",
       "      <td>4.0</td>\n",
       "      <td>0.0</td>\n",
       "      <td>inf</td>\n",
       "    </tr>\n",
       "    <tr>\n",
       "      <th>177</th>\n",
       "      <td>A046</td>\n",
       "      <td>R463</td>\n",
       "      <td>00-05-02</td>\n",
       "      <td>CANAL ST_6JNQRWZ</td>\n",
       "      <td>4.0</td>\n",
       "      <td>0.0</td>\n",
       "      <td>inf</td>\n",
       "    </tr>\n",
       "    <tr>\n",
       "      <th>4335</th>\n",
       "      <td>R421</td>\n",
       "      <td>R427</td>\n",
       "      <td>00-06-00</td>\n",
       "      <td>MIDDLETOWN RD</td>\n",
       "      <td>2.0</td>\n",
       "      <td>0.0</td>\n",
       "      <td>inf</td>\n",
       "    </tr>\n",
       "  </tbody>\n",
       "</table>\n",
       "</div>"
      ],
      "text/plain": [
       "        C/A  UNIT       SCP           STATION  MAX_DAILY_ENTRIES_TURNSTILE  \\\n",
       "4911  TRAM2  R469  00-05-00     RIT-ROOSEVELT                          3.0   \n",
       "2919  PTH13  R541  00-04-08         THIRTY ST                          1.0   \n",
       "2605   N601  R319  00-05-00   LEXINGTON AV/63                          4.0   \n",
       "177    A046  R463  00-05-02  CANAL ST_6JNQRWZ                          4.0   \n",
       "4335   R421  R427  00-06-00     MIDDLETOWN RD                          2.0   \n",
       "\n",
       "      MEDIAN_DAILY_ENTRIES_TURNSTILE  peak_factor  \n",
       "4911                             0.0          inf  \n",
       "2919                             0.0          inf  \n",
       "2605                             0.0          inf  \n",
       "177                              0.0          inf  \n",
       "4335                             0.0          inf  "
      ]
     },
     "execution_count": 63,
     "metadata": {},
     "output_type": "execute_result"
    }
   ],
   "source": [
    "df_MTA_2019_dailystats.sort_values(by = 'peak_factor', ascending = False).head()"
   ]
  },
  {
   "cell_type": "code",
   "execution_count": 64,
   "metadata": {},
   "outputs": [],
   "source": [
    "df_MTA_2019_dailystats.replace(to_replace = np.inf, value = np.nan, inplace = True)"
   ]
  },
  {
   "cell_type": "code",
   "execution_count": 65,
   "metadata": {},
   "outputs": [
    {
     "data": {
      "text/html": [
       "<div>\n",
       "<style scoped>\n",
       "    .dataframe tbody tr th:only-of-type {\n",
       "        vertical-align: middle;\n",
       "    }\n",
       "\n",
       "    .dataframe tbody tr th {\n",
       "        vertical-align: top;\n",
       "    }\n",
       "\n",
       "    .dataframe thead th {\n",
       "        text-align: right;\n",
       "    }\n",
       "</style>\n",
       "<table border=\"1\" class=\"dataframe\">\n",
       "  <thead>\n",
       "    <tr style=\"text-align: right;\">\n",
       "      <th></th>\n",
       "      <th>C/A</th>\n",
       "      <th>UNIT</th>\n",
       "      <th>SCP</th>\n",
       "      <th>STATION</th>\n",
       "      <th>MAX_DAILY_ENTRIES_TURNSTILE</th>\n",
       "      <th>MEDIAN_DAILY_ENTRIES_TURNSTILE</th>\n",
       "      <th>peak_factor</th>\n",
       "    </tr>\n",
       "  </thead>\n",
       "  <tbody>\n",
       "    <tr>\n",
       "      <th>2737</th>\n",
       "      <td>PTH01</td>\n",
       "      <td>R549</td>\n",
       "      <td>00-01-03</td>\n",
       "      <td>NEWARK HW BMEBE</td>\n",
       "      <td>83070.0</td>\n",
       "      <td>1.0</td>\n",
       "      <td>83070.000000</td>\n",
       "    </tr>\n",
       "    <tr>\n",
       "      <th>3058</th>\n",
       "      <td>PTH22</td>\n",
       "      <td>R540</td>\n",
       "      <td>00-04-02</td>\n",
       "      <td>PATH NEW WTC</td>\n",
       "      <td>22190.0</td>\n",
       "      <td>1.0</td>\n",
       "      <td>22190.000000</td>\n",
       "    </tr>\n",
       "    <tr>\n",
       "      <th>1066</th>\n",
       "      <td>N013</td>\n",
       "      <td>R035</td>\n",
       "      <td>02-05-00</td>\n",
       "      <td>168 ST</td>\n",
       "      <td>5064.0</td>\n",
       "      <td>1.0</td>\n",
       "      <td>5064.000000</td>\n",
       "    </tr>\n",
       "    <tr>\n",
       "      <th>3059</th>\n",
       "      <td>PTH22</td>\n",
       "      <td>R540</td>\n",
       "      <td>00-04-03</td>\n",
       "      <td>PATH NEW WTC</td>\n",
       "      <td>27148.0</td>\n",
       "      <td>6.0</td>\n",
       "      <td>4524.666667</td>\n",
       "    </tr>\n",
       "    <tr>\n",
       "      <th>1115</th>\n",
       "      <td>N026</td>\n",
       "      <td>R102</td>\n",
       "      <td>00-05-00</td>\n",
       "      <td>125 ST_ABCD</td>\n",
       "      <td>13389.0</td>\n",
       "      <td>3.5</td>\n",
       "      <td>3825.428571</td>\n",
       "    </tr>\n",
       "    <tr>\n",
       "      <th>4545</th>\n",
       "      <td>R532</td>\n",
       "      <td>R328</td>\n",
       "      <td>00-05-03</td>\n",
       "      <td>METS-WILLETS PT</td>\n",
       "      <td>1691.0</td>\n",
       "      <td>0.5</td>\n",
       "      <td>3382.000000</td>\n",
       "    </tr>\n",
       "    <tr>\n",
       "      <th>4544</th>\n",
       "      <td>R532</td>\n",
       "      <td>R328</td>\n",
       "      <td>00-05-02</td>\n",
       "      <td>METS-WILLETS PT</td>\n",
       "      <td>2337.0</td>\n",
       "      <td>1.0</td>\n",
       "      <td>2337.000000</td>\n",
       "    </tr>\n",
       "    <tr>\n",
       "      <th>1195</th>\n",
       "      <td>N051</td>\n",
       "      <td>R084</td>\n",
       "      <td>02-05-00</td>\n",
       "      <td>59 ST COLUMBUS</td>\n",
       "      <td>5921.0</td>\n",
       "      <td>3.0</td>\n",
       "      <td>1973.666667</td>\n",
       "    </tr>\n",
       "    <tr>\n",
       "      <th>2869</th>\n",
       "      <td>PTH07</td>\n",
       "      <td>R550</td>\n",
       "      <td>00-02-01</td>\n",
       "      <td>CITY / BUS</td>\n",
       "      <td>13830.0</td>\n",
       "      <td>8.0</td>\n",
       "      <td>1728.750000</td>\n",
       "    </tr>\n",
       "    <tr>\n",
       "      <th>3060</th>\n",
       "      <td>PTH22</td>\n",
       "      <td>R540</td>\n",
       "      <td>00-04-04</td>\n",
       "      <td>PATH NEW WTC</td>\n",
       "      <td>11902.0</td>\n",
       "      <td>7.0</td>\n",
       "      <td>1700.285714</td>\n",
       "    </tr>\n",
       "  </tbody>\n",
       "</table>\n",
       "</div>"
      ],
      "text/plain": [
       "        C/A  UNIT       SCP          STATION  MAX_DAILY_ENTRIES_TURNSTILE  \\\n",
       "2737  PTH01  R549  00-01-03  NEWARK HW BMEBE                      83070.0   \n",
       "3058  PTH22  R540  00-04-02     PATH NEW WTC                      22190.0   \n",
       "1066   N013  R035  02-05-00           168 ST                       5064.0   \n",
       "3059  PTH22  R540  00-04-03     PATH NEW WTC                      27148.0   \n",
       "1115   N026  R102  00-05-00      125 ST_ABCD                      13389.0   \n",
       "4545   R532  R328  00-05-03  METS-WILLETS PT                       1691.0   \n",
       "4544   R532  R328  00-05-02  METS-WILLETS PT                       2337.0   \n",
       "1195   N051  R084  02-05-00   59 ST COLUMBUS                       5921.0   \n",
       "2869  PTH07  R550  00-02-01       CITY / BUS                      13830.0   \n",
       "3060  PTH22  R540  00-04-04     PATH NEW WTC                      11902.0   \n",
       "\n",
       "      MEDIAN_DAILY_ENTRIES_TURNSTILE   peak_factor  \n",
       "2737                             1.0  83070.000000  \n",
       "3058                             1.0  22190.000000  \n",
       "1066                             1.0   5064.000000  \n",
       "3059                             6.0   4524.666667  \n",
       "1115                             3.5   3825.428571  \n",
       "4545                             0.5   3382.000000  \n",
       "4544                             1.0   2337.000000  \n",
       "1195                             3.0   1973.666667  \n",
       "2869                             8.0   1728.750000  \n",
       "3060                             7.0   1700.285714  "
      ]
     },
     "execution_count": 65,
     "metadata": {},
     "output_type": "execute_result"
    }
   ],
   "source": [
    "df_MTA_2019_dailystats.sort_values(by = 'peak_factor', ascending = False).head(10)"
   ]
  },
  {
   "cell_type": "code",
   "execution_count": 66,
   "metadata": {},
   "outputs": [],
   "source": [
    "df_MTA_2019_daily[\"unique_turnstile\"] = (df_MTA_2019_daily[\"C/A\"] + \"_\" +\n",
    "                                         df_MTA_2019_daily[\"UNIT\"] + \"_\" +\n",
    "                                         df_MTA_2019_daily[\"SCP\"] + \"_\" +\n",
    "                                         df_MTA_2019_daily[\"STATION\"])"
   ]
  },
  {
   "cell_type": "code",
   "execution_count": 67,
   "metadata": {},
   "outputs": [],
   "source": [
    "df_MTA_2019_dailystats[\"unique_turnstile\"] = (df_MTA_2019_dailystats[\"C/A\"] + \"_\" +\n",
    "                                              df_MTA_2019_dailystats[\"UNIT\"] + \"_\" +\n",
    "                                              df_MTA_2019_dailystats[\"SCP\"] + \"_\" +\n",
    "                                              df_MTA_2019_dailystats[\"STATION\"])"
   ]
  },
  {
   "cell_type": "code",
   "execution_count": 68,
   "metadata": {},
   "outputs": [],
   "source": [
    "df_MTA_2019_dailystats_sum = df_MTA_2019_dailystats[[\"unique_turnstile\",\n",
    "                                                     \"MAX_DAILY_ENTRIES_TURNSTILE\",\n",
    "                                                     \"MEDIAN_DAILY_ENTRIES_TURNSTILE\",\n",
    "                                                     \"peak_factor\"]]"
   ]
  },
  {
   "cell_type": "markdown",
   "metadata": {},
   "source": [
    "**Merge max/median daily entries and peak entries by station/turnstile into the main dataframe df_MTA_2019_daily**"
   ]
  },
  {
   "cell_type": "code",
   "execution_count": 69,
   "metadata": {},
   "outputs": [],
   "source": [
    "df_MTA_2019_daily = df_MTA_2019_daily.merge(df_MTA_2019_dailystats_sum, \n",
    "                                            how = 'left', \n",
    "                                            on = 'unique_turnstile')"
   ]
  },
  {
   "cell_type": "code",
   "execution_count": 70,
   "metadata": {},
   "outputs": [],
   "source": [
    "# create a mask to identify outliers, where \n",
    "# peak factor (max divided by median) is greater than 10 \n",
    "# AND daily entries is at least 90% of max daily entries by turnstile\n",
    "# AND max daily entries turnstile is at least 10000\n",
    "mask7 = ((df_MTA_2019_daily['peak_factor'] > 10) \n",
    "         & (df_MTA_2019_daily['DAILY_ENTRIES'] >= 0.9*df_MTA_2019_daily[\"MAX_DAILY_ENTRIES_TURNSTILE\"])\n",
    "         & (df_MTA_2019_daily['MAX_DAILY_ENTRIES_TURNSTILE'] >= 10000))"
   ]
  },
  {
   "cell_type": "code",
   "execution_count": 71,
   "metadata": {},
   "outputs": [],
   "source": [
    "df_MTA_2019_daily = df_MTA_2019_daily[~mask7]"
   ]
  },
  {
   "cell_type": "code",
   "execution_count": 72,
   "metadata": {},
   "outputs": [],
   "source": [
    "# mask to identify high outliers, DAILY_ENTRIES > 5*median daily entries for that turnstile\n",
    "mask_high_daily_entries = df_MTA_2019_daily[\"DAILY_ENTRIES\"] > 5*df_MTA_2019_daily[\"MEDIAN_DAILY_ENTRIES_TURNSTILE\"]"
   ]
  },
  {
   "cell_type": "code",
   "execution_count": 73,
   "metadata": {},
   "outputs": [],
   "source": [
    "df_MTA_2019_daily = df_MTA_2019_daily[~mask_high_daily_entries]"
   ]
  },
  {
   "cell_type": "code",
   "execution_count": 74,
   "metadata": {},
   "outputs": [],
   "source": [
    "def daily_exits(df, max_counter):\n",
    "    \"\"\"\n",
    "    Function to calculate daily number of exits at turnstiles in NYC subway stations.\n",
    "    Accounts for turnstiles in reverse order as well as large daily exits values.\n",
    "    \n",
    "    Args:\n",
    "        df: pandas dataframe with columns \"EXITS\" and \"PREV_EXITS\"\n",
    "        max_counter: integer\n",
    "    \n",
    "    Returns:\n",
    "        counter\n",
    "    \"\"\"\n",
    "    counter = df[\"EXITS\"] - df[\"PREV_EXITS\"]\n",
    "    if counter < 0:\n",
    "        counter = -counter\n",
    "    if counter > max_counter:\n",
    "        counter = min(df[\"EXITS\"], df[\"PREV_EXITS\"])\n",
    "    if counter > max_counter:\n",
    "        return 0\n",
    "    return counter"
   ]
  },
  {
   "cell_type": "code",
   "execution_count": 75,
   "metadata": {},
   "outputs": [],
   "source": [
    "df_MTA_2019_daily[\"DAILY_EXITS\"] = df_MTA_2019_daily.apply(daily_exits, axis=1, max_counter=86400)"
   ]
  },
  {
   "cell_type": "code",
   "execution_count": 76,
   "metadata": {},
   "outputs": [],
   "source": [
    "# similar to DAILY_ENTRIES_ADJ, need to shift up 1 b/c original group object was sorted in \n",
    "# ascending order and timestamps were at/around midnight\n",
    "df_MTA_2019_daily[\"DAILY_EXITS_ADJ\"] = (df_MTA_2019_daily\n",
    "                                        .groupby([\"C/A\", \"UNIT\", \"SCP\", \"STATION\"])\n",
    "                                        .DAILY_EXITS\n",
    "                                        .apply(lambda x: x.shift(-1)))"
   ]
  },
  {
   "cell_type": "code",
   "execution_count": 77,
   "metadata": {},
   "outputs": [],
   "source": [
    "df_MTA_2019_daily.drop(columns=[\"DAILY_EXITS\"], inplace = True)"
   ]
  },
  {
   "cell_type": "code",
   "execution_count": 78,
   "metadata": {},
   "outputs": [],
   "source": [
    "df_MTA_2019_daily.rename(columns = {\"DAILY_EXITS_ADJ\":\"DAILY_EXITS\"}, inplace = True)"
   ]
  },
  {
   "cell_type": "markdown",
   "metadata": {},
   "source": [
    "**Create a separate dataframe df_MTA_2019_daily_exits with max/median of DAILY_EXITS by combination \"C/A\", \"UNIT\", \"SCP\", \"STATION\" (each station/turnstile). Similar to df_MTA_2019_dailystats above.**"
   ]
  },
  {
   "cell_type": "code",
   "execution_count": 79,
   "metadata": {},
   "outputs": [],
   "source": [
    "df_MTA_2019_daily_exits = (df_MTA_2019_daily\n",
    "                           .groupby([\"C/A\",\"UNIT\",\"SCP\",\"STATION\"])\n",
    "                           .agg({\"DAILY_EXITS\": [np.max, np.median]}))"
   ]
  },
  {
   "cell_type": "code",
   "execution_count": 80,
   "metadata": {},
   "outputs": [],
   "source": [
    "df_MTA_2019_daily_exits.reset_index(inplace=True)"
   ]
  },
  {
   "cell_type": "code",
   "execution_count": 81,
   "metadata": {},
   "outputs": [],
   "source": [
    "df_MTA_2019_daily_exits.columns = [\"C/A\",\"UNIT\",\"SCP\",\"STATION\",\"MAX_DAILY_EXITS_TURNSTILE\",\n",
    "                                   \"MEDIAN_DAILY_EXITS_TURNSTILE\"]"
   ]
  },
  {
   "cell_type": "code",
   "execution_count": 82,
   "metadata": {},
   "outputs": [],
   "source": [
    "df_MTA_2019_daily_exits['peak_factor_exits'] = (df_MTA_2019_daily_exits[\"MAX_DAILY_EXITS_TURNSTILE\"] / \n",
    "                                                df_MTA_2019_daily_exits[\"MEDIAN_DAILY_EXITS_TURNSTILE\"])"
   ]
  },
  {
   "cell_type": "code",
   "execution_count": 83,
   "metadata": {},
   "outputs": [],
   "source": [
    "df_MTA_2019_daily_exits[\"unique_turnstile\"] = (df_MTA_2019_daily_exits[\"C/A\"] + \"_\" +\n",
    "                                               df_MTA_2019_daily_exits[\"UNIT\"] + \"_\" +\n",
    "                                               df_MTA_2019_daily_exits[\"SCP\"] + \"_\" +\n",
    "                                               df_MTA_2019_daily_exits[\"STATION\"])"
   ]
  },
  {
   "cell_type": "code",
   "execution_count": 84,
   "metadata": {},
   "outputs": [],
   "source": [
    "df_MTA_2019_daily_exits_sum = df_MTA_2019_daily_exits[[\"unique_turnstile\",\n",
    "                                                       \"MAX_DAILY_EXITS_TURNSTILE\",\n",
    "                                                       \"MEDIAN_DAILY_EXITS_TURNSTILE\",\n",
    "                                                       \"peak_factor_exits\"]]"
   ]
  },
  {
   "cell_type": "markdown",
   "metadata": {},
   "source": [
    "*Merge max/median daily exits and peak factor back into original dataframe df_MTA_2019_daily*"
   ]
  },
  {
   "cell_type": "code",
   "execution_count": 85,
   "metadata": {},
   "outputs": [],
   "source": [
    "df_MTA_2019_daily = (df_MTA_2019_daily\n",
    "                     .merge(df_MTA_2019_daily_exits_sum,\n",
    "                            how = 'left', \n",
    "                            on = 'unique_turnstile'))"
   ]
  },
  {
   "cell_type": "code",
   "execution_count": 86,
   "metadata": {},
   "outputs": [],
   "source": [
    "# create a mask to identify outliers, where peak factor exits (max divided by median) is greater than 10 \n",
    "# AND daily exits is at least 90% of max daily exits by turnstile\n",
    "# AND max daily exits turnstile is at least 10000\n",
    "mask9 = ((df_MTA_2019_daily['peak_factor_exits'] > 10) \n",
    "         & (df_MTA_2019_daily['DAILY_EXITS'] >= 0.9*df_MTA_2019_daily[\"MAX_DAILY_EXITS_TURNSTILE\"])\n",
    "         & (df_MTA_2019_daily['MAX_DAILY_EXITS_TURNSTILE'] >= 10000))"
   ]
  },
  {
   "cell_type": "code",
   "execution_count": 87,
   "metadata": {},
   "outputs": [],
   "source": [
    "df_MTA_2019_daily = df_MTA_2019_daily[~mask9]"
   ]
  },
  {
   "cell_type": "code",
   "execution_count": 88,
   "metadata": {},
   "outputs": [],
   "source": [
    "mask_high_daily_exits = df_MTA_2019_daily[\"DAILY_EXITS\"] > 5*df_MTA_2019_daily[\"MEDIAN_DAILY_EXITS_TURNSTILE\"]"
   ]
  },
  {
   "cell_type": "code",
   "execution_count": 89,
   "metadata": {},
   "outputs": [],
   "source": [
    "# remove rows where daily exits is significantly greater than median daily exits\n",
    "df_MTA_2019_daily = df_MTA_2019_daily[~mask_high_daily_exits]"
   ]
  },
  {
   "cell_type": "code",
   "execution_count": 90,
   "metadata": {},
   "outputs": [],
   "source": [
    "def proper(x):\n",
    "    return x.title()"
   ]
  },
  {
   "cell_type": "code",
   "execution_count": 91,
   "metadata": {},
   "outputs": [],
   "source": [
    "df_MTA_2019_daily['Station'] = df_MTA_2019_daily['STATION'].apply(proper)"
   ]
  },
  {
   "cell_type": "code",
   "execution_count": 92,
   "metadata": {},
   "outputs": [
    {
     "data": {
      "text/plain": [
       "Index(['C/A', 'UNIT', 'SCP', 'STATION', 'DATE', 'ENTRIES', 'EXITS',\n",
       "       'PREV_DATE', 'PREV_ENTRIES', 'PREV_EXITS', 'DAILY_ENTRIES', 'DATE_DIFF',\n",
       "       'unique_turnstile', 'MAX_DAILY_ENTRIES_TURNSTILE',\n",
       "       'MEDIAN_DAILY_ENTRIES_TURNSTILE', 'peak_factor', 'DAILY_EXITS',\n",
       "       'MAX_DAILY_EXITS_TURNSTILE', 'MEDIAN_DAILY_EXITS_TURNSTILE',\n",
       "       'peak_factor_exits', 'Station'],\n",
       "      dtype='object')"
      ]
     },
     "execution_count": 92,
     "metadata": {},
     "output_type": "execute_result"
    }
   ],
   "source": [
    "df_MTA_2019_daily.columns"
   ]
  },
  {
   "cell_type": "code",
   "execution_count": 93,
   "metadata": {},
   "outputs": [],
   "source": [
    "# drop some columns to clean up the dataframe\n",
    "df_MTA_2019_daily.drop(columns=['DATE_DIFF','MAX_DAILY_ENTRIES_TURNSTILE',\n",
    "                                'MEDIAN_DAILY_ENTRIES_TURNSTILE', \n",
    "                                'peak_factor', \n",
    "                                'MAX_DAILY_EXITS_TURNSTILE', \n",
    "                                'MEDIAN_DAILY_EXITS_TURNSTILE',\n",
    "                                'peak_factor_exits'], inplace = True)"
   ]
  },
  {
   "cell_type": "code",
   "execution_count": 94,
   "metadata": {},
   "outputs": [],
   "source": [
    "df_MTA_2019_daily[\"DAILY_TRAFFIC\"] = (df_MTA_2019_daily[\"DAILY_ENTRIES\"] \n",
    "                                      + df_MTA_2019_daily[\"DAILY_EXITS\"]) "
   ]
  },
  {
   "cell_type": "code",
   "execution_count": 95,
   "metadata": {},
   "outputs": [],
   "source": [
    "df_MTA_2019_daily[\"DATE_TIME\"] = pd.to_datetime(df_MTA_2019_daily[\"DATE\"])"
   ]
  },
  {
   "cell_type": "code",
   "execution_count": 96,
   "metadata": {},
   "outputs": [],
   "source": [
    "def string(x):\n",
    "    return str(x)"
   ]
  },
  {
   "cell_type": "code",
   "execution_count": 97,
   "metadata": {},
   "outputs": [],
   "source": [
    "df_MTA_2019_daily.to_pickle(\"./df_MTA_2019_daily_clean.pkl\")"
   ]
  },
  {
   "cell_type": "code",
   "execution_count": 98,
   "metadata": {},
   "outputs": [],
   "source": [
    "df_MTA_2019_daily_top5 = (df_MTA_2019_daily\n",
    "                           .groupby('Station')['DAILY_TRAFFIC']\n",
    "                           .sum()\n",
    "                           .sort_values(ascending=False)\n",
    "                           .head(5))"
   ]
  },
  {
   "cell_type": "code",
   "execution_count": 99,
   "metadata": {},
   "outputs": [],
   "source": [
    "df_MTA_2019_top5 = pd.DataFrame(df_MTA_2019_daily_top5)\n",
    "df_MTA_2019_top5.reset_index(inplace=True)"
   ]
  },
  {
   "cell_type": "code",
   "execution_count": 100,
   "metadata": {},
   "outputs": [
    {
     "data": {
      "text/html": [
       "<div>\n",
       "<style scoped>\n",
       "    .dataframe tbody tr th:only-of-type {\n",
       "        vertical-align: middle;\n",
       "    }\n",
       "\n",
       "    .dataframe tbody tr th {\n",
       "        vertical-align: top;\n",
       "    }\n",
       "\n",
       "    .dataframe thead th {\n",
       "        text-align: right;\n",
       "    }\n",
       "</style>\n",
       "<table border=\"1\" class=\"dataframe\">\n",
       "  <thead>\n",
       "    <tr style=\"text-align: right;\">\n",
       "      <th></th>\n",
       "      <th>Station</th>\n",
       "      <th>DAILY_TRAFFIC</th>\n",
       "    </tr>\n",
       "  </thead>\n",
       "  <tbody>\n",
       "    <tr>\n",
       "      <th>0</th>\n",
       "      <td>34 St-Penn Sta</td>\n",
       "      <td>25447467.0</td>\n",
       "    </tr>\n",
       "    <tr>\n",
       "      <th>1</th>\n",
       "      <td>Grd Cntrl-42 St</td>\n",
       "      <td>20717561.0</td>\n",
       "    </tr>\n",
       "    <tr>\n",
       "      <th>2</th>\n",
       "      <td>34 St-Herald Sq</td>\n",
       "      <td>19033731.0</td>\n",
       "    </tr>\n",
       "    <tr>\n",
       "      <th>3</th>\n",
       "      <td>Times Sq-42 St</td>\n",
       "      <td>15918827.0</td>\n",
       "    </tr>\n",
       "    <tr>\n",
       "      <th>4</th>\n",
       "      <td>14 St-Union Sq</td>\n",
       "      <td>15839023.0</td>\n",
       "    </tr>\n",
       "  </tbody>\n",
       "</table>\n",
       "</div>"
      ],
      "text/plain": [
       "           Station  DAILY_TRAFFIC\n",
       "0   34 St-Penn Sta     25447467.0\n",
       "1  Grd Cntrl-42 St     20717561.0\n",
       "2  34 St-Herald Sq     19033731.0\n",
       "3   Times Sq-42 St     15918827.0\n",
       "4   14 St-Union Sq     15839023.0"
      ]
     },
     "execution_count": 100,
     "metadata": {},
     "output_type": "execute_result"
    }
   ],
   "source": [
    "df_MTA_2019_top5"
   ]
  },
  {
   "cell_type": "code",
   "execution_count": 105,
   "metadata": {},
   "outputs": [
    {
     "data": {
      "image/png": "[encoded data removed]",
      "text/plain": [
       "<Figure size 864x576 with 1 Axes>"
      ]
     },
     "metadata": {},
     "output_type": "display_data"
    }
   ],
   "source": [
    "plt.figure(figsize=[12,8])\n",
    "plt.barh(df_MTA_2019_top5.Station, df_MTA_2019_top5.DAILY_TRAFFIC)\n",
    "plt.gca().invert_yaxis()\n",
    "plt.title('NYC Top 5 Subway Stations by Total Traffic, April to June 2019', \n",
    "          weight = 'bold', fontsize = 20)\n",
    "plt.xticks(fontsize=14)\n",
    "plt.yticks(fontsize=12)\n",
    "plt.xlabel('Total Traffic (tens of mil)', fontsize = 16)\n",
    "plt.ylabel('Subway Station', fontsize = 14)\n",
    "plt.savefig('top_5_stations_traffic.png');"
   ]
  },
  {
   "cell_type": "code",
   "execution_count": 104,
   "metadata": {},
   "outputs": [],
   "source": [
    "# change rc parameters with seaborn set method\n",
    "sns.set(rc={'figure.figsize':(12,8)})"
   ]
  },
  {
   "cell_type": "code",
   "execution_count": 106,
   "metadata": {},
   "outputs": [
    {
     "data": {
      "image/png": "[encoded data removed]",
      "text/plain": [
       "<Figure size 864x576 with 1 Axes>"
      ]
     },
     "metadata": {},
     "output_type": "display_data"
    }
   ],
   "source": [
    "ax = sns.barplot(x = \"DAILY_TRAFFIC\", y = \"Station\", data = df_MTA_2019_top5, orient = 'h')\n",
    "ax.set_title('NYC Top 5 Subway Stations by Total Traffic, April to June 2019', weight='bold', fontsize=20)\n",
    "ax.set(xlabel = 'Total Traffic (tens of mil)')\n",
    "fig = ax.get_figure()\n",
    "fig.savefig('top_5_stations_seaborn.png');"
   ]
  },
  {
   "cell_type": "markdown",
   "metadata": {},
   "source": [
    "#### B. US Census Bureau Data (TractID, Income Data)"
   ]
  },
  {
   "cell_type": "code",
   "execution_count": 107,
   "metadata": {},
   "outputs": [
    {
     "data": {
      "text/html": [
       "<div>\n",
       "<style scoped>\n",
       "    .dataframe tbody tr th:only-of-type {\n",
       "        vertical-align: middle;\n",
       "    }\n",
       "\n",
       "    .dataframe tbody tr th {\n",
       "        vertical-align: top;\n",
       "    }\n",
       "\n",
       "    .dataframe thead th {\n",
       "        text-align: right;\n",
       "    }\n",
       "</style>\n",
       "<table border=\"1\" class=\"dataframe\">\n",
       "  <thead>\n",
       "    <tr style=\"text-align: right;\">\n",
       "      <th></th>\n",
       "      <th>TractId</th>\n",
       "      <th>State</th>\n",
       "      <th>County</th>\n",
       "      <th>TotalPop</th>\n",
       "      <th>Men</th>\n",
       "      <th>Women</th>\n",
       "      <th>Hispanic</th>\n",
       "      <th>White</th>\n",
       "      <th>Black</th>\n",
       "      <th>Native</th>\n",
       "      <th>...</th>\n",
       "      <th>Walk</th>\n",
       "      <th>OtherTransp</th>\n",
       "      <th>WorkAtHome</th>\n",
       "      <th>MeanCommute</th>\n",
       "      <th>Employed</th>\n",
       "      <th>PrivateWork</th>\n",
       "      <th>PublicWork</th>\n",
       "      <th>SelfEmployed</th>\n",
       "      <th>FamilyWork</th>\n",
       "      <th>Unemployment</th>\n",
       "    </tr>\n",
       "  </thead>\n",
       "  <tbody>\n",
       "    <tr>\n",
       "      <th>0</th>\n",
       "      <td>1001020100</td>\n",
       "      <td>Alabama</td>\n",
       "      <td>Autauga County</td>\n",
       "      <td>1845</td>\n",
       "      <td>899</td>\n",
       "      <td>946</td>\n",
       "      <td>2.4</td>\n",
       "      <td>86.3</td>\n",
       "      <td>5.2</td>\n",
       "      <td>0.0</td>\n",
       "      <td>...</td>\n",
       "      <td>0.5</td>\n",
       "      <td>0.0</td>\n",
       "      <td>2.1</td>\n",
       "      <td>24.5</td>\n",
       "      <td>881</td>\n",
       "      <td>74.2</td>\n",
       "      <td>21.2</td>\n",
       "      <td>4.5</td>\n",
       "      <td>0.0</td>\n",
       "      <td>4.6</td>\n",
       "    </tr>\n",
       "    <tr>\n",
       "      <th>1</th>\n",
       "      <td>1001020200</td>\n",
       "      <td>Alabama</td>\n",
       "      <td>Autauga County</td>\n",
       "      <td>2172</td>\n",
       "      <td>1167</td>\n",
       "      <td>1005</td>\n",
       "      <td>1.1</td>\n",
       "      <td>41.6</td>\n",
       "      <td>54.5</td>\n",
       "      <td>0.0</td>\n",
       "      <td>...</td>\n",
       "      <td>0.0</td>\n",
       "      <td>0.5</td>\n",
       "      <td>0.0</td>\n",
       "      <td>22.2</td>\n",
       "      <td>852</td>\n",
       "      <td>75.9</td>\n",
       "      <td>15.0</td>\n",
       "      <td>9.0</td>\n",
       "      <td>0.0</td>\n",
       "      <td>3.4</td>\n",
       "    </tr>\n",
       "    <tr>\n",
       "      <th>2</th>\n",
       "      <td>1001020300</td>\n",
       "      <td>Alabama</td>\n",
       "      <td>Autauga County</td>\n",
       "      <td>3385</td>\n",
       "      <td>1533</td>\n",
       "      <td>1852</td>\n",
       "      <td>8.0</td>\n",
       "      <td>61.4</td>\n",
       "      <td>26.5</td>\n",
       "      <td>0.6</td>\n",
       "      <td>...</td>\n",
       "      <td>1.0</td>\n",
       "      <td>0.8</td>\n",
       "      <td>1.5</td>\n",
       "      <td>23.1</td>\n",
       "      <td>1482</td>\n",
       "      <td>73.3</td>\n",
       "      <td>21.1</td>\n",
       "      <td>4.8</td>\n",
       "      <td>0.7</td>\n",
       "      <td>4.7</td>\n",
       "    </tr>\n",
       "    <tr>\n",
       "      <th>3</th>\n",
       "      <td>1001020400</td>\n",
       "      <td>Alabama</td>\n",
       "      <td>Autauga County</td>\n",
       "      <td>4267</td>\n",
       "      <td>2001</td>\n",
       "      <td>2266</td>\n",
       "      <td>9.6</td>\n",
       "      <td>80.3</td>\n",
       "      <td>7.1</td>\n",
       "      <td>0.5</td>\n",
       "      <td>...</td>\n",
       "      <td>1.5</td>\n",
       "      <td>2.9</td>\n",
       "      <td>2.1</td>\n",
       "      <td>25.9</td>\n",
       "      <td>1849</td>\n",
       "      <td>75.8</td>\n",
       "      <td>19.7</td>\n",
       "      <td>4.5</td>\n",
       "      <td>0.0</td>\n",
       "      <td>6.1</td>\n",
       "    </tr>\n",
       "    <tr>\n",
       "      <th>4</th>\n",
       "      <td>1001020500</td>\n",
       "      <td>Alabama</td>\n",
       "      <td>Autauga County</td>\n",
       "      <td>9965</td>\n",
       "      <td>5054</td>\n",
       "      <td>4911</td>\n",
       "      <td>0.9</td>\n",
       "      <td>77.5</td>\n",
       "      <td>16.4</td>\n",
       "      <td>0.0</td>\n",
       "      <td>...</td>\n",
       "      <td>0.8</td>\n",
       "      <td>0.3</td>\n",
       "      <td>0.7</td>\n",
       "      <td>21.0</td>\n",
       "      <td>4787</td>\n",
       "      <td>71.4</td>\n",
       "      <td>24.1</td>\n",
       "      <td>4.5</td>\n",
       "      <td>0.0</td>\n",
       "      <td>2.3</td>\n",
       "    </tr>\n",
       "  </tbody>\n",
       "</table>\n",
       "<p>5 rows × 37 columns</p>\n",
       "</div>"
      ],
      "text/plain": [
       "      TractId    State          County  TotalPop   Men  Women  Hispanic  \\\n",
       "0  1001020100  Alabama  Autauga County      1845   899    946       2.4   \n",
       "1  1001020200  Alabama  Autauga County      2172  1167   1005       1.1   \n",
       "2  1001020300  Alabama  Autauga County      3385  1533   1852       8.0   \n",
       "3  1001020400  Alabama  Autauga County      4267  2001   2266       9.6   \n",
       "4  1001020500  Alabama  Autauga County      9965  5054   4911       0.9   \n",
       "\n",
       "   White  Black  Native  ...  Walk  OtherTransp  WorkAtHome  MeanCommute  \\\n",
       "0   86.3    5.2     0.0  ...   0.5          0.0         2.1         24.5   \n",
       "1   41.6   54.5     0.0  ...   0.0          0.5         0.0         22.2   \n",
       "2   61.4   26.5     0.6  ...   1.0          0.8         1.5         23.1   \n",
       "3   80.3    7.1     0.5  ...   1.5          2.9         2.1         25.9   \n",
       "4   77.5   16.4     0.0  ...   0.8          0.3         0.7         21.0   \n",
       "\n",
       "   Employed  PrivateWork  PublicWork  SelfEmployed  FamilyWork  Unemployment  \n",
       "0       881         74.2        21.2           4.5         0.0           4.6  \n",
       "1       852         75.9        15.0           9.0         0.0           3.4  \n",
       "2      1482         73.3        21.1           4.8         0.7           4.7  \n",
       "3      1849         75.8        19.7           4.5         0.0           6.1  \n",
       "4      4787         71.4        24.1           4.5         0.0           2.3  \n",
       "\n",
       "[5 rows x 37 columns]"
      ]
     },
     "execution_count": 107,
     "metadata": {},
     "output_type": "execute_result"
    }
   ],
   "source": [
    "df1.head()"
   ]
  },
  {
   "cell_type": "code",
   "execution_count": 108,
   "metadata": {},
   "outputs": [
    {
     "name": "stdout",
     "output_type": "stream",
     "text": [
      "<class 'pandas.core.frame.DataFrame'>\n",
      "RangeIndex: 74001 entries, 0 to 74000\n",
      "Data columns (total 37 columns):\n",
      " #   Column            Non-Null Count  Dtype  \n",
      "---  ------            --------------  -----  \n",
      " 0   TractId           74001 non-null  int64  \n",
      " 1   State             74001 non-null  object \n",
      " 2   County            74001 non-null  object \n",
      " 3   TotalPop          74001 non-null  int64  \n",
      " 4   Men               74001 non-null  int64  \n",
      " 5   Women             74001 non-null  int64  \n",
      " 6   Hispanic          73305 non-null  float64\n",
      " 7   White             73305 non-null  float64\n",
      " 8   Black             73305 non-null  float64\n",
      " 9   Native            73305 non-null  float64\n",
      " 10  Asian             73305 non-null  float64\n",
      " 11  Pacific           73305 non-null  float64\n",
      " 12  VotingAgeCitizen  74001 non-null  int64  \n",
      " 13  Income            72885 non-null  float64\n",
      " 14  IncomeErr         72885 non-null  float64\n",
      " 15  IncomePerCap      73256 non-null  float64\n",
      " 16  IncomePerCapErr   73256 non-null  float64\n",
      " 17  Poverty           73159 non-null  float64\n",
      " 18  ChildPoverty      72891 non-null  float64\n",
      " 19  Professional      73190 non-null  float64\n",
      " 20  Service           73190 non-null  float64\n",
      " 21  Office            73190 non-null  float64\n",
      " 22  Construction      73190 non-null  float64\n",
      " 23  Production        73190 non-null  float64\n",
      " 24  Drive             73200 non-null  float64\n",
      " 25  Carpool           73200 non-null  float64\n",
      " 26  Transit           73200 non-null  float64\n",
      " 27  Walk              73200 non-null  float64\n",
      " 28  OtherTransp       73200 non-null  float64\n",
      " 29  WorkAtHome        73200 non-null  float64\n",
      " 30  MeanCommute       73055 non-null  float64\n",
      " 31  Employed          74001 non-null  int64  \n",
      " 32  PrivateWork       73190 non-null  float64\n",
      " 33  PublicWork        73190 non-null  float64\n",
      " 34  SelfEmployed      73190 non-null  float64\n",
      " 35  FamilyWork        73190 non-null  float64\n",
      " 36  Unemployment      73191 non-null  float64\n",
      "dtypes: float64(29), int64(6), object(2)\n",
      "memory usage: 20.9+ MB\n"
     ]
    }
   ],
   "source": [
    "df1.info()"
   ]
  },
  {
   "cell_type": "code",
   "execution_count": 109,
   "metadata": {},
   "outputs": [],
   "source": [
    "df1 = df1[['TractId','State','County','Income']]\n",
    "df1 = df1[df1.State == 'New York']"
   ]
  },
  {
   "cell_type": "code",
   "execution_count": 110,
   "metadata": {},
   "outputs": [],
   "source": [
    "counties = ['New York County', 'Kings County', 'Bronx County', 'Richmond County', 'Queens County']"
   ]
  },
  {
   "cell_type": "code",
   "execution_count": 111,
   "metadata": {},
   "outputs": [],
   "source": [
    "df1 = df1[df1.County.isin(counties)]"
   ]
  },
  {
   "cell_type": "code",
   "execution_count": 112,
   "metadata": {},
   "outputs": [],
   "source": [
    "df1.reset_index(drop=True,inplace=True)"
   ]
  },
  {
   "cell_type": "code",
   "execution_count": 113,
   "metadata": {},
   "outputs": [
    {
     "data": {
      "text/plain": [
       "(2167, 4)"
      ]
     },
     "execution_count": 113,
     "metadata": {},
     "output_type": "execute_result"
    }
   ],
   "source": [
    "df1.shape"
   ]
  },
  {
   "cell_type": "code",
   "execution_count": 114,
   "metadata": {},
   "outputs": [
    {
     "name": "stdout",
     "output_type": "stream",
     "text": [
      "<class 'pandas.core.frame.DataFrame'>\n",
      "RangeIndex: 2167 entries, 0 to 2166\n",
      "Data columns (total 4 columns):\n",
      " #   Column   Non-Null Count  Dtype  \n",
      "---  ------   --------------  -----  \n",
      " 0   TractId  2167 non-null   int64  \n",
      " 1   State    2167 non-null   object \n",
      " 2   County   2167 non-null   object \n",
      " 3   Income   2101 non-null   float64\n",
      "dtypes: float64(1), int64(1), object(2)\n",
      "memory usage: 67.8+ KB\n"
     ]
    }
   ],
   "source": [
    "df1.info()"
   ]
  },
  {
   "cell_type": "code",
   "execution_count": 115,
   "metadata": {},
   "outputs": [],
   "source": [
    "# find the percentile of household income for each census tract ID\n",
    "df1['Income_percentile'] = df1.Income.rank(pct=True)"
   ]
  },
  {
   "cell_type": "code",
   "execution_count": 116,
   "metadata": {},
   "outputs": [],
   "source": [
    "# create a score based on income percentile * 10, round to nearest integer, integers from 1 to 10\n",
    "df1['Score'] = (10*df1['Income_percentile']).apply(np.ceil)"
   ]
  },
  {
   "cell_type": "code",
   "execution_count": 117,
   "metadata": {},
   "outputs": [
    {
     "data": {
      "text/html": [
       "<div>\n",
       "<style scoped>\n",
       "    .dataframe tbody tr th:only-of-type {\n",
       "        vertical-align: middle;\n",
       "    }\n",
       "\n",
       "    .dataframe tbody tr th {\n",
       "        vertical-align: top;\n",
       "    }\n",
       "\n",
       "    .dataframe thead th {\n",
       "        text-align: right;\n",
       "    }\n",
       "</style>\n",
       "<table border=\"1\" class=\"dataframe\">\n",
       "  <thead>\n",
       "    <tr style=\"text-align: right;\">\n",
       "      <th></th>\n",
       "      <th>TractId</th>\n",
       "      <th>State</th>\n",
       "      <th>County</th>\n",
       "      <th>Income</th>\n",
       "      <th>Income_percentile</th>\n",
       "      <th>Score</th>\n",
       "    </tr>\n",
       "  </thead>\n",
       "  <tbody>\n",
       "    <tr>\n",
       "      <th>0</th>\n",
       "      <td>36005000100</td>\n",
       "      <td>New York</td>\n",
       "      <td>Bronx County</td>\n",
       "      <td>NaN</td>\n",
       "      <td>NaN</td>\n",
       "      <td>NaN</td>\n",
       "    </tr>\n",
       "    <tr>\n",
       "      <th>1</th>\n",
       "      <td>36005000200</td>\n",
       "      <td>New York</td>\n",
       "      <td>Bronx County</td>\n",
       "      <td>62773.0</td>\n",
       "      <td>0.551642</td>\n",
       "      <td>6.0</td>\n",
       "    </tr>\n",
       "    <tr>\n",
       "      <th>2</th>\n",
       "      <td>36005000400</td>\n",
       "      <td>New York</td>\n",
       "      <td>Bronx County</td>\n",
       "      <td>82697.0</td>\n",
       "      <td>0.788196</td>\n",
       "      <td>8.0</td>\n",
       "    </tr>\n",
       "    <tr>\n",
       "      <th>3</th>\n",
       "      <td>36005001600</td>\n",
       "      <td>New York</td>\n",
       "      <td>Bronx County</td>\n",
       "      <td>33118.0</td>\n",
       "      <td>0.145169</td>\n",
       "      <td>2.0</td>\n",
       "    </tr>\n",
       "    <tr>\n",
       "      <th>4</th>\n",
       "      <td>36005001900</td>\n",
       "      <td>New York</td>\n",
       "      <td>Bronx County</td>\n",
       "      <td>40117.0</td>\n",
       "      <td>0.226559</td>\n",
       "      <td>3.0</td>\n",
       "    </tr>\n",
       "  </tbody>\n",
       "</table>\n",
       "</div>"
      ],
      "text/plain": [
       "       TractId     State        County   Income  Income_percentile  Score\n",
       "0  36005000100  New York  Bronx County      NaN                NaN    NaN\n",
       "1  36005000200  New York  Bronx County  62773.0           0.551642    6.0\n",
       "2  36005000400  New York  Bronx County  82697.0           0.788196    8.0\n",
       "3  36005001600  New York  Bronx County  33118.0           0.145169    2.0\n",
       "4  36005001900  New York  Bronx County  40117.0           0.226559    3.0"
      ]
     },
     "execution_count": 117,
     "metadata": {},
     "output_type": "execute_result"
    }
   ],
   "source": [
    "df1.head()"
   ]
  },
  {
   "cell_type": "code",
   "execution_count": 118,
   "metadata": {},
   "outputs": [],
   "source": [
    "df2 = df1[['TractId', 'Income', 'Income_percentile', 'Score']]"
   ]
  },
  {
   "cell_type": "code",
   "execution_count": 119,
   "metadata": {},
   "outputs": [],
   "source": [
    "# convert TractId to string so it can used as the key to merge with nyc_subway dataframe (later)\n",
    "df2[\"TractId\"] = df2[\"TractId\"].astype(str)"
   ]
  },
  {
   "cell_type": "markdown",
   "metadata": {},
   "source": [
    "#### C. NYC Subway Station Geo Data (Latitude, Longitude)"
   ]
  },
  {
   "cell_type": "code",
   "execution_count": 120,
   "metadata": {},
   "outputs": [
    {
     "name": "stdout",
     "output_type": "stream",
     "text": [
      "<class 'pandas.core.frame.DataFrame'>\n",
      "RangeIndex: 496 entries, 0 to 495\n",
      "Data columns (total 13 columns):\n",
      " #   Column                 Non-Null Count  Dtype  \n",
      "---  ------                 --------------  -----  \n",
      " 0   Station ID             496 non-null    int64  \n",
      " 1   Complex ID             496 non-null    int64  \n",
      " 2   GTFS Stop ID           496 non-null    object \n",
      " 3   Division               496 non-null    object \n",
      " 4   Line                   496 non-null    object \n",
      " 5   Stop Name              496 non-null    object \n",
      " 6   Borough                496 non-null    object \n",
      " 7   Daytime Routes         496 non-null    object \n",
      " 8   Structure              496 non-null    object \n",
      " 9   GTFS Latitude          496 non-null    float64\n",
      " 10  GTFS Longitude         496 non-null    float64\n",
      " 11  North Direction Label  478 non-null    object \n",
      " 12  South Direction Label  481 non-null    object \n",
      "dtypes: float64(2), int64(2), object(9)\n",
      "memory usage: 50.5+ KB\n"
     ]
    }
   ],
   "source": [
    "nyc_df.info()"
   ]
  },
  {
   "cell_type": "code",
   "execution_count": 121,
   "metadata": {},
   "outputs": [
    {
     "data": {
      "text/html": [
       "<div>\n",
       "<style scoped>\n",
       "    .dataframe tbody tr th:only-of-type {\n",
       "        vertical-align: middle;\n",
       "    }\n",
       "\n",
       "    .dataframe tbody tr th {\n",
       "        vertical-align: top;\n",
       "    }\n",
       "\n",
       "    .dataframe thead th {\n",
       "        text-align: right;\n",
       "    }\n",
       "</style>\n",
       "<table border=\"1\" class=\"dataframe\">\n",
       "  <thead>\n",
       "    <tr style=\"text-align: right;\">\n",
       "      <th></th>\n",
       "      <th>Station ID</th>\n",
       "      <th>Complex ID</th>\n",
       "      <th>GTFS Stop ID</th>\n",
       "      <th>Division</th>\n",
       "      <th>Line</th>\n",
       "      <th>Stop Name</th>\n",
       "      <th>Borough</th>\n",
       "      <th>Daytime Routes</th>\n",
       "      <th>Structure</th>\n",
       "      <th>GTFS Latitude</th>\n",
       "      <th>GTFS Longitude</th>\n",
       "      <th>North Direction Label</th>\n",
       "      <th>South Direction Label</th>\n",
       "    </tr>\n",
       "  </thead>\n",
       "  <tbody>\n",
       "    <tr>\n",
       "      <th>0</th>\n",
       "      <td>1</td>\n",
       "      <td>1</td>\n",
       "      <td>R01</td>\n",
       "      <td>BMT</td>\n",
       "      <td>Astoria</td>\n",
       "      <td>Astoria - Ditmars Blvd</td>\n",
       "      <td>Q</td>\n",
       "      <td>N W</td>\n",
       "      <td>Elevated</td>\n",
       "      <td>40.775036</td>\n",
       "      <td>-73.912034</td>\n",
       "      <td>NaN</td>\n",
       "      <td>Manhattan</td>\n",
       "    </tr>\n",
       "    <tr>\n",
       "      <th>1</th>\n",
       "      <td>2</td>\n",
       "      <td>2</td>\n",
       "      <td>R03</td>\n",
       "      <td>BMT</td>\n",
       "      <td>Astoria</td>\n",
       "      <td>Astoria Blvd</td>\n",
       "      <td>Q</td>\n",
       "      <td>N W</td>\n",
       "      <td>Elevated</td>\n",
       "      <td>40.770258</td>\n",
       "      <td>-73.917843</td>\n",
       "      <td>Ditmars Blvd</td>\n",
       "      <td>Manhattan</td>\n",
       "    </tr>\n",
       "    <tr>\n",
       "      <th>2</th>\n",
       "      <td>3</td>\n",
       "      <td>3</td>\n",
       "      <td>R04</td>\n",
       "      <td>BMT</td>\n",
       "      <td>Astoria</td>\n",
       "      <td>30 Av</td>\n",
       "      <td>Q</td>\n",
       "      <td>N W</td>\n",
       "      <td>Elevated</td>\n",
       "      <td>40.766779</td>\n",
       "      <td>-73.921479</td>\n",
       "      <td>Astoria - Ditmars Blvd</td>\n",
       "      <td>Manhattan</td>\n",
       "    </tr>\n",
       "    <tr>\n",
       "      <th>3</th>\n",
       "      <td>4</td>\n",
       "      <td>4</td>\n",
       "      <td>R05</td>\n",
       "      <td>BMT</td>\n",
       "      <td>Astoria</td>\n",
       "      <td>Broadway</td>\n",
       "      <td>Q</td>\n",
       "      <td>N W</td>\n",
       "      <td>Elevated</td>\n",
       "      <td>40.761820</td>\n",
       "      <td>-73.925508</td>\n",
       "      <td>Astoria - Ditmars Blvd</td>\n",
       "      <td>Manhattan</td>\n",
       "    </tr>\n",
       "    <tr>\n",
       "      <th>4</th>\n",
       "      <td>5</td>\n",
       "      <td>5</td>\n",
       "      <td>R06</td>\n",
       "      <td>BMT</td>\n",
       "      <td>Astoria</td>\n",
       "      <td>36 Av</td>\n",
       "      <td>Q</td>\n",
       "      <td>N W</td>\n",
       "      <td>Elevated</td>\n",
       "      <td>40.756804</td>\n",
       "      <td>-73.929575</td>\n",
       "      <td>Astoria - Ditmars Blvd</td>\n",
       "      <td>Manhattan</td>\n",
       "    </tr>\n",
       "  </tbody>\n",
       "</table>\n",
       "</div>"
      ],
      "text/plain": [
       "   Station ID  Complex ID GTFS Stop ID Division     Line  \\\n",
       "0           1           1          R01      BMT  Astoria   \n",
       "1           2           2          R03      BMT  Astoria   \n",
       "2           3           3          R04      BMT  Astoria   \n",
       "3           4           4          R05      BMT  Astoria   \n",
       "4           5           5          R06      BMT  Astoria   \n",
       "\n",
       "                Stop Name Borough Daytime Routes Structure  GTFS Latitude  \\\n",
       "0  Astoria - Ditmars Blvd       Q            N W  Elevated      40.775036   \n",
       "1            Astoria Blvd       Q            N W  Elevated      40.770258   \n",
       "2                   30 Av       Q            N W  Elevated      40.766779   \n",
       "3                Broadway       Q            N W  Elevated      40.761820   \n",
       "4                   36 Av       Q            N W  Elevated      40.756804   \n",
       "\n",
       "   GTFS Longitude   North Direction Label South Direction Label  \n",
       "0      -73.912034                     NaN             Manhattan  \n",
       "1      -73.917843            Ditmars Blvd             Manhattan  \n",
       "2      -73.921479  Astoria - Ditmars Blvd             Manhattan  \n",
       "3      -73.925508  Astoria - Ditmars Blvd             Manhattan  \n",
       "4      -73.929575  Astoria - Ditmars Blvd             Manhattan  "
      ]
     },
     "execution_count": 121,
     "metadata": {},
     "output_type": "execute_result"
    }
   ],
   "source": [
    "nyc_df.head()"
   ]
  },
  {
   "cell_type": "code",
   "execution_count": 122,
   "metadata": {},
   "outputs": [
    {
     "data": {
      "text/plain": [
       "['Q', 'M', 'Bk', 'Bx', 'SI']"
      ]
     },
     "execution_count": 122,
     "metadata": {},
     "output_type": "execute_result"
    }
   ],
   "source": [
    "list3 = list(nyc_df['Borough'].unique())\n",
    "list3"
   ]
  },
  {
   "cell_type": "code",
   "execution_count": 123,
   "metadata": {},
   "outputs": [],
   "source": [
    "list4 = ['Queens', 'Manhattan', 'Brooklyn', 'Bronx', 'StatenIsland']"
   ]
  },
  {
   "cell_type": "code",
   "execution_count": 124,
   "metadata": {},
   "outputs": [],
   "source": [
    "dict1 = dict()"
   ]
  },
  {
   "cell_type": "code",
   "execution_count": 125,
   "metadata": {},
   "outputs": [],
   "source": [
    "for i in range(len(list3)):\n",
    "    key = list3[i]\n",
    "    dict1[key] = list4[i]"
   ]
  },
  {
   "cell_type": "code",
   "execution_count": 126,
   "metadata": {},
   "outputs": [
    {
     "data": {
      "text/plain": [
       "{'Q': 'Queens',\n",
       " 'M': 'Manhattan',\n",
       " 'Bk': 'Brooklyn',\n",
       " 'Bx': 'Bronx',\n",
       " 'SI': 'StatenIsland'}"
      ]
     },
     "execution_count": 126,
     "metadata": {},
     "output_type": "execute_result"
    }
   ],
   "source": [
    "dict1"
   ]
  },
  {
   "cell_type": "code",
   "execution_count": 127,
   "metadata": {},
   "outputs": [],
   "source": [
    "nyc_df['Borough2'] = nyc_df.Borough.map(dict1)"
   ]
  },
  {
   "cell_type": "code",
   "execution_count": 128,
   "metadata": {},
   "outputs": [],
   "source": [
    "nyc_df['Station_Division'] = nyc_df['Stop Name'] + \"_\" + nyc_df['Division']"
   ]
  },
  {
   "cell_type": "code",
   "execution_count": 129,
   "metadata": {},
   "outputs": [],
   "source": [
    "nyc_subway = nyc_df.groupby(['Division','Stop Name','Borough','Station_Division','Borough2'])[['GTFS Latitude', 'GTFS Longitude']].mean()\n",
    "nyc_subway.reset_index(inplace=True)"
   ]
  },
  {
   "cell_type": "code",
   "execution_count": 130,
   "metadata": {},
   "outputs": [],
   "source": [
    "# Add a new column census tract ID\n",
    "nyc_subway['census_tract_id'] = \"\""
   ]
  },
  {
   "cell_type": "code",
   "execution_count": 131,
   "metadata": {},
   "outputs": [],
   "source": [
    "import requests\n",
    "import urllib"
   ]
  },
  {
   "cell_type": "code",
   "execution_count": 132,
   "metadata": {},
   "outputs": [],
   "source": [
    "# use latitude and longitude of each subway station as inputs\n",
    "# use FCC website API below, url with lat/long to get US Census GEOID info (e.g. Census Block, Census Tract ID)\n",
    "# populate 'census tract ID' column in nyc_subway dataframe\n",
    "for i in range(len(nyc_subway)):\n",
    "    lat = nyc_subway.iloc[i,5]\n",
    "    lon = nyc_subway.iloc[i,6]\n",
    "    params = urllib.parse.urlencode({'latitude': lat, 'longitude':lon,'format':'json'})\n",
    "    url = 'https://geo.fcc.gov/api/census/block/find?' + params\n",
    "    nyc_subway.iloc[i,len(nyc_subway.columns)-1] = requests.get(url).json()['Block']['FIPS'][:11]"
   ]
  },
  {
   "cell_type": "code",
   "execution_count": 133,
   "metadata": {},
   "outputs": [
    {
     "data": {
      "text/html": [
       "<div>\n",
       "<style scoped>\n",
       "    .dataframe tbody tr th:only-of-type {\n",
       "        vertical-align: middle;\n",
       "    }\n",
       "\n",
       "    .dataframe tbody tr th {\n",
       "        vertical-align: top;\n",
       "    }\n",
       "\n",
       "    .dataframe thead th {\n",
       "        text-align: right;\n",
       "    }\n",
       "</style>\n",
       "<table border=\"1\" class=\"dataframe\">\n",
       "  <thead>\n",
       "    <tr style=\"text-align: right;\">\n",
       "      <th></th>\n",
       "      <th>Division</th>\n",
       "      <th>Stop Name</th>\n",
       "      <th>Borough</th>\n",
       "      <th>Station_Division</th>\n",
       "      <th>Borough2</th>\n",
       "      <th>GTFS Latitude</th>\n",
       "      <th>GTFS Longitude</th>\n",
       "      <th>census_tract_id</th>\n",
       "    </tr>\n",
       "  </thead>\n",
       "  <tbody>\n",
       "    <tr>\n",
       "      <th>0</th>\n",
       "      <td>BMT</td>\n",
       "      <td>1 Av</td>\n",
       "      <td>M</td>\n",
       "      <td>1 Av_BMT</td>\n",
       "      <td>Manhattan</td>\n",
       "      <td>40.730953</td>\n",
       "      <td>-73.981628</td>\n",
       "      <td>36061003400</td>\n",
       "    </tr>\n",
       "    <tr>\n",
       "      <th>1</th>\n",
       "      <td>BMT</td>\n",
       "      <td>104 St</td>\n",
       "      <td>Q</td>\n",
       "      <td>104 St_BMT</td>\n",
       "      <td>Queens</td>\n",
       "      <td>40.695178</td>\n",
       "      <td>-73.844330</td>\n",
       "      <td>36081002600</td>\n",
       "    </tr>\n",
       "    <tr>\n",
       "      <th>2</th>\n",
       "      <td>BMT</td>\n",
       "      <td>111 St</td>\n",
       "      <td>Q</td>\n",
       "      <td>111 St_BMT</td>\n",
       "      <td>Queens</td>\n",
       "      <td>40.697418</td>\n",
       "      <td>-73.836345</td>\n",
       "      <td>36081012400</td>\n",
       "    </tr>\n",
       "    <tr>\n",
       "      <th>3</th>\n",
       "      <td>BMT</td>\n",
       "      <td>121 St</td>\n",
       "      <td>Q</td>\n",
       "      <td>121 St_BMT</td>\n",
       "      <td>Queens</td>\n",
       "      <td>40.700492</td>\n",
       "      <td>-73.828294</td>\n",
       "      <td>36081014400</td>\n",
       "    </tr>\n",
       "    <tr>\n",
       "      <th>4</th>\n",
       "      <td>BMT</td>\n",
       "      <td>14 St - Union Sq</td>\n",
       "      <td>M</td>\n",
       "      <td>14 St - Union Sq_BMT</td>\n",
       "      <td>Manhattan</td>\n",
       "      <td>40.735736</td>\n",
       "      <td>-73.990568</td>\n",
       "      <td>36061005200</td>\n",
       "    </tr>\n",
       "  </tbody>\n",
       "</table>\n",
       "</div>"
      ],
      "text/plain": [
       "  Division         Stop Name Borough      Station_Division   Borough2  \\\n",
       "0      BMT              1 Av       M              1 Av_BMT  Manhattan   \n",
       "1      BMT            104 St       Q            104 St_BMT     Queens   \n",
       "2      BMT            111 St       Q            111 St_BMT     Queens   \n",
       "3      BMT            121 St       Q            121 St_BMT     Queens   \n",
       "4      BMT  14 St - Union Sq       M  14 St - Union Sq_BMT  Manhattan   \n",
       "\n",
       "   GTFS Latitude  GTFS Longitude census_tract_id  \n",
       "0      40.730953      -73.981628     36061003400  \n",
       "1      40.695178      -73.844330     36081002600  \n",
       "2      40.697418      -73.836345     36081012400  \n",
       "3      40.700492      -73.828294     36081014400  \n",
       "4      40.735736      -73.990568     36061005200  "
      ]
     },
     "execution_count": 133,
     "metadata": {},
     "output_type": "execute_result"
    }
   ],
   "source": [
    "nyc_subway.head()"
   ]
  },
  {
   "cell_type": "code",
   "execution_count": 134,
   "metadata": {},
   "outputs": [],
   "source": [
    "with open('nyc_subway.pickle','wb') as to_write:\n",
    "    pickle.dump(nyc_subway, to_write)"
   ]
  },
  {
   "cell_type": "code",
   "execution_count": 135,
   "metadata": {},
   "outputs": [],
   "source": [
    "with open('nyc_subway.pickle','rb') as read_file:\n",
    "    nyc_subway = pickle.load(read_file)"
   ]
  },
  {
   "cell_type": "code",
   "execution_count": 136,
   "metadata": {},
   "outputs": [
    {
     "data": {
      "text/html": [
       "<div>\n",
       "<style scoped>\n",
       "    .dataframe tbody tr th:only-of-type {\n",
       "        vertical-align: middle;\n",
       "    }\n",
       "\n",
       "    .dataframe tbody tr th {\n",
       "        vertical-align: top;\n",
       "    }\n",
       "\n",
       "    .dataframe thead th {\n",
       "        text-align: right;\n",
       "    }\n",
       "</style>\n",
       "<table border=\"1\" class=\"dataframe\">\n",
       "  <thead>\n",
       "    <tr style=\"text-align: right;\">\n",
       "      <th></th>\n",
       "      <th>Division</th>\n",
       "      <th>Stop Name</th>\n",
       "      <th>Borough</th>\n",
       "      <th>Station_Division</th>\n",
       "      <th>Borough2</th>\n",
       "      <th>GTFS Latitude</th>\n",
       "      <th>GTFS Longitude</th>\n",
       "      <th>census_tract_id</th>\n",
       "    </tr>\n",
       "  </thead>\n",
       "  <tbody>\n",
       "    <tr>\n",
       "      <th>0</th>\n",
       "      <td>BMT</td>\n",
       "      <td>1 Av</td>\n",
       "      <td>M</td>\n",
       "      <td>1 Av_BMT</td>\n",
       "      <td>Manhattan</td>\n",
       "      <td>40.730953</td>\n",
       "      <td>-73.981628</td>\n",
       "      <td>36061003400</td>\n",
       "    </tr>\n",
       "    <tr>\n",
       "      <th>1</th>\n",
       "      <td>BMT</td>\n",
       "      <td>104 St</td>\n",
       "      <td>Q</td>\n",
       "      <td>104 St_BMT</td>\n",
       "      <td>Queens</td>\n",
       "      <td>40.695178</td>\n",
       "      <td>-73.844330</td>\n",
       "      <td>36081002600</td>\n",
       "    </tr>\n",
       "    <tr>\n",
       "      <th>2</th>\n",
       "      <td>BMT</td>\n",
       "      <td>111 St</td>\n",
       "      <td>Q</td>\n",
       "      <td>111 St_BMT</td>\n",
       "      <td>Queens</td>\n",
       "      <td>40.697418</td>\n",
       "      <td>-73.836345</td>\n",
       "      <td>36081012400</td>\n",
       "    </tr>\n",
       "    <tr>\n",
       "      <th>3</th>\n",
       "      <td>BMT</td>\n",
       "      <td>121 St</td>\n",
       "      <td>Q</td>\n",
       "      <td>121 St_BMT</td>\n",
       "      <td>Queens</td>\n",
       "      <td>40.700492</td>\n",
       "      <td>-73.828294</td>\n",
       "      <td>36081014400</td>\n",
       "    </tr>\n",
       "    <tr>\n",
       "      <th>4</th>\n",
       "      <td>BMT</td>\n",
       "      <td>14 St - Union Sq</td>\n",
       "      <td>M</td>\n",
       "      <td>14 St - Union Sq_BMT</td>\n",
       "      <td>Manhattan</td>\n",
       "      <td>40.735736</td>\n",
       "      <td>-73.990568</td>\n",
       "      <td>36061005200</td>\n",
       "    </tr>\n",
       "  </tbody>\n",
       "</table>\n",
       "</div>"
      ],
      "text/plain": [
       "  Division         Stop Name Borough      Station_Division   Borough2  \\\n",
       "0      BMT              1 Av       M              1 Av_BMT  Manhattan   \n",
       "1      BMT            104 St       Q            104 St_BMT     Queens   \n",
       "2      BMT            111 St       Q            111 St_BMT     Queens   \n",
       "3      BMT            121 St       Q            121 St_BMT     Queens   \n",
       "4      BMT  14 St - Union Sq       M  14 St - Union Sq_BMT  Manhattan   \n",
       "\n",
       "   GTFS Latitude  GTFS Longitude census_tract_id  \n",
       "0      40.730953      -73.981628     36061003400  \n",
       "1      40.695178      -73.844330     36081002600  \n",
       "2      40.697418      -73.836345     36081012400  \n",
       "3      40.700492      -73.828294     36081014400  \n",
       "4      40.735736      -73.990568     36061005200  "
      ]
     },
     "execution_count": 136,
     "metadata": {},
     "output_type": "execute_result"
    }
   ],
   "source": [
    "nyc_subway.head()"
   ]
  },
  {
   "cell_type": "code",
   "execution_count": 137,
   "metadata": {},
   "outputs": [
    {
     "name": "stdout",
     "output_type": "stream",
     "text": [
      "<class 'pandas.core.frame.DataFrame'>\n",
      "RangeIndex: 452 entries, 0 to 451\n",
      "Data columns (total 8 columns):\n",
      " #   Column            Non-Null Count  Dtype  \n",
      "---  ------            --------------  -----  \n",
      " 0   Division          452 non-null    object \n",
      " 1   Stop Name         452 non-null    object \n",
      " 2   Borough           452 non-null    object \n",
      " 3   Station_Division  452 non-null    object \n",
      " 4   Borough2          452 non-null    object \n",
      " 5   GTFS Latitude     452 non-null    float64\n",
      " 6   GTFS Longitude    452 non-null    float64\n",
      " 7   census_tract_id   452 non-null    object \n",
      "dtypes: float64(2), object(6)\n",
      "memory usage: 28.4+ KB\n"
     ]
    }
   ],
   "source": [
    "nyc_subway.info()"
   ]
  },
  {
   "cell_type": "code",
   "execution_count": 138,
   "metadata": {},
   "outputs": [],
   "source": [
    "# change census tract ID for 42 St - Port Authority Bus Terminal, income percentile seems incorrect (after initial merge with df2 below)\n",
    "nyc_subway.loc[nyc_subway[\"Stop Name\"] == \"42 St - Port Authority Bus Terminal\",\"census_tract_id\"] = \"36061011500\""
   ]
  },
  {
   "cell_type": "markdown",
   "metadata": {},
   "source": [
    "#### D. Merging Data from All Three Data Sources and Creating Visualizations"
   ]
  },
  {
   "cell_type": "code",
   "execution_count": 139,
   "metadata": {},
   "outputs": [
    {
     "name": "stdout",
     "output_type": "stream",
     "text": [
      "<class 'pandas.core.frame.DataFrame'>\n",
      "RangeIndex: 2167 entries, 0 to 2166\n",
      "Data columns (total 4 columns):\n",
      " #   Column             Non-Null Count  Dtype  \n",
      "---  ------             --------------  -----  \n",
      " 0   TractId            2167 non-null   object \n",
      " 1   Income             2101 non-null   float64\n",
      " 2   Income_percentile  2101 non-null   float64\n",
      " 3   Score              2101 non-null   float64\n",
      "dtypes: float64(3), object(1)\n",
      "memory usage: 67.8+ KB\n"
     ]
    }
   ],
   "source": [
    "df2.info()"
   ]
  },
  {
   "cell_type": "markdown",
   "metadata": {},
   "source": [
    "*Merge nyc_subway dataframe with df2 (household income info)*"
   ]
  },
  {
   "cell_type": "code",
   "execution_count": 140,
   "metadata": {},
   "outputs": [],
   "source": [
    "nyc_subway_final = (nyc_subway\n",
    "                    .merge(df2, \n",
    "                           how = 'inner', \n",
    "                           left_on = 'census_tract_id', \n",
    "                           right_on = 'TractId'))"
   ]
  },
  {
   "cell_type": "code",
   "execution_count": 141,
   "metadata": {},
   "outputs": [
    {
     "name": "stdout",
     "output_type": "stream",
     "text": [
      "<class 'pandas.core.frame.DataFrame'>\n",
      "Int64Index: 452 entries, 0 to 451\n",
      "Data columns (total 12 columns):\n",
      " #   Column             Non-Null Count  Dtype  \n",
      "---  ------             --------------  -----  \n",
      " 0   Division           452 non-null    object \n",
      " 1   Stop Name          452 non-null    object \n",
      " 2   Borough            452 non-null    object \n",
      " 3   Station_Division   452 non-null    object \n",
      " 4   Borough2           452 non-null    object \n",
      " 5   GTFS Latitude      452 non-null    float64\n",
      " 6   GTFS Longitude     452 non-null    float64\n",
      " 7   census_tract_id    452 non-null    object \n",
      " 8   TractId            452 non-null    object \n",
      " 9   Income             433 non-null    float64\n",
      " 10  Income_percentile  433 non-null    float64\n",
      " 11  Score              433 non-null    float64\n",
      "dtypes: float64(5), object(7)\n",
      "memory usage: 45.9+ KB\n"
     ]
    }
   ],
   "source": [
    "nyc_subway_final.info()"
   ]
  },
  {
   "cell_type": "code",
   "execution_count": 142,
   "metadata": {},
   "outputs": [],
   "source": [
    "nyc_subway_final.rename(columns={'Score':'HHIncomePct_score'}, inplace = True)"
   ]
  },
  {
   "cell_type": "code",
   "execution_count": 143,
   "metadata": {},
   "outputs": [],
   "source": [
    "del nyc_subway_final['TractId']"
   ]
  },
  {
   "cell_type": "markdown",
   "metadata": {},
   "source": [
    "*Aggregate DAILY_TRAFFIC by Station to identify the top stations with the most traffic*"
   ]
  },
  {
   "cell_type": "code",
   "execution_count": 144,
   "metadata": {},
   "outputs": [],
   "source": [
    "df_MTA_2019_stations = df_MTA_2019_daily.groupby('Station')[['DAILY_TRAFFIC']].sum()"
   ]
  },
  {
   "cell_type": "code",
   "execution_count": 145,
   "metadata": {},
   "outputs": [],
   "source": [
    "df_MTA_2019_stations.reset_index(inplace=True)"
   ]
  },
  {
   "cell_type": "code",
   "execution_count": 146,
   "metadata": {},
   "outputs": [],
   "source": [
    "df_MTA_2019_stations.rename(columns={'DAILY_TRAFFIC':'total_traffic'},inplace=True)"
   ]
  },
  {
   "cell_type": "code",
   "execution_count": 147,
   "metadata": {},
   "outputs": [],
   "source": [
    "df_MTA_2019_stations['traffic_pctile'] = df_MTA_2019_stations.total_traffic.rank(pct=True)"
   ]
  },
  {
   "cell_type": "code",
   "execution_count": 148,
   "metadata": {},
   "outputs": [],
   "source": [
    "df_MTA_2019_stations['traffic_score'] = 10*df_MTA_2019_stations['traffic_pctile']"
   ]
  },
  {
   "cell_type": "code",
   "execution_count": 149,
   "metadata": {},
   "outputs": [],
   "source": [
    "df_MTA_2019_stations = (df_MTA_2019_stations\n",
    "                        .sort_values(by = 'total_traffic',\n",
    "                                     ascending=False))"
   ]
  },
  {
   "cell_type": "code",
   "execution_count": 150,
   "metadata": {},
   "outputs": [],
   "source": [
    "df_MTA_2019_stations.reset_index(drop=True,inplace=True)"
   ]
  },
  {
   "cell_type": "code",
   "execution_count": 151,
   "metadata": {},
   "outputs": [
    {
     "data": {
      "text/plain": [
       "458"
      ]
     },
     "execution_count": 151,
     "metadata": {},
     "output_type": "execute_result"
    }
   ],
   "source": [
    "len(df_MTA_2019_stations)"
   ]
  },
  {
   "cell_type": "code",
   "execution_count": 152,
   "metadata": {},
   "outputs": [],
   "source": [
    "list_stations_traffic = list(df_MTA_2019_stations[\"Station\"])"
   ]
  },
  {
   "cell_type": "code",
   "execution_count": 153,
   "metadata": {},
   "outputs": [
    {
     "data": {
      "text/plain": [
       "Index(['Division', 'Stop Name', 'Borough', 'Station_Division', 'Borough2',\n",
       "       'GTFS Latitude', 'GTFS Longitude', 'census_tract_id', 'Income',\n",
       "       'Income_percentile', 'HHIncomePct_score'],\n",
       "      dtype='object')"
      ]
     },
     "execution_count": 153,
     "metadata": {},
     "output_type": "execute_result"
    }
   ],
   "source": [
    "nyc_subway_final.columns"
   ]
  },
  {
   "cell_type": "code",
   "execution_count": 154,
   "metadata": {},
   "outputs": [],
   "source": [
    "# group by Stop Name, take the average HH income percent score if there are multiple entries for a single Stop Name\n",
    "df_subway_income = nyc_subway_final.groupby('Stop Name')[['Income', 'Income_percentile', 'HHIncomePct_score']].mean()"
   ]
  },
  {
   "cell_type": "code",
   "execution_count": 155,
   "metadata": {},
   "outputs": [],
   "source": [
    "df_subway_income.reset_index(inplace=True)"
   ]
  },
  {
   "cell_type": "code",
   "execution_count": 156,
   "metadata": {},
   "outputs": [],
   "source": [
    "list_stations_income = list(df_subway_income['Stop Name'])"
   ]
  },
  {
   "cell_type": "code",
   "execution_count": 157,
   "metadata": {},
   "outputs": [
    {
     "name": "stderr",
     "output_type": "stream",
     "text": [
      "/Users/matty2/opt/anaconda3/lib/python3.7/site-packages/fuzzywuzzy/fuzz.py:11: UserWarning: Using slow pure-python SequenceMatcher. Install python-Levenshtein to remove this warning\n",
      "  warnings.warn('Using slow pure-python SequenceMatcher. Install python-Levenshtein to remove this warning')\n"
     ]
    }
   ],
   "source": [
    "# import fuzzywyzzy, a Python library that uses Levenshtein Distance to calculate the differences between \n",
    "# sequences (strings) in a simple-to-use package\n",
    "# https://github.com/seatgeek/fuzzywuzzy\n",
    "from fuzzywuzzy import fuzz\n",
    "from fuzzywuzzy import process"
   ]
  },
  {
   "cell_type": "code",
   "execution_count": 158,
   "metadata": {},
   "outputs": [],
   "source": [
    "df_MTA_2019_stations[\"station_fuzzy\"] = \"\""
   ]
  },
  {
   "cell_type": "code",
   "execution_count": 159,
   "metadata": {},
   "outputs": [
    {
     "data": {
      "text/html": [
       "<div>\n",
       "<style scoped>\n",
       "    .dataframe tbody tr th:only-of-type {\n",
       "        vertical-align: middle;\n",
       "    }\n",
       "\n",
       "    .dataframe tbody tr th {\n",
       "        vertical-align: top;\n",
       "    }\n",
       "\n",
       "    .dataframe thead th {\n",
       "        text-align: right;\n",
       "    }\n",
       "</style>\n",
       "<table border=\"1\" class=\"dataframe\">\n",
       "  <thead>\n",
       "    <tr style=\"text-align: right;\">\n",
       "      <th></th>\n",
       "      <th>Station</th>\n",
       "      <th>total_traffic</th>\n",
       "      <th>traffic_pctile</th>\n",
       "      <th>traffic_score</th>\n",
       "      <th>station_fuzzy</th>\n",
       "    </tr>\n",
       "  </thead>\n",
       "  <tbody>\n",
       "    <tr>\n",
       "      <th>0</th>\n",
       "      <td>34 St-Penn Sta</td>\n",
       "      <td>25447467.0</td>\n",
       "      <td>1.000000</td>\n",
       "      <td>10.000000</td>\n",
       "      <td></td>\n",
       "    </tr>\n",
       "    <tr>\n",
       "      <th>1</th>\n",
       "      <td>Grd Cntrl-42 St</td>\n",
       "      <td>20717561.0</td>\n",
       "      <td>0.997817</td>\n",
       "      <td>9.978166</td>\n",
       "      <td></td>\n",
       "    </tr>\n",
       "    <tr>\n",
       "      <th>2</th>\n",
       "      <td>34 St-Herald Sq</td>\n",
       "      <td>19033731.0</td>\n",
       "      <td>0.995633</td>\n",
       "      <td>9.956332</td>\n",
       "      <td></td>\n",
       "    </tr>\n",
       "    <tr>\n",
       "      <th>3</th>\n",
       "      <td>Times Sq-42 St</td>\n",
       "      <td>15918827.0</td>\n",
       "      <td>0.993450</td>\n",
       "      <td>9.934498</td>\n",
       "      <td></td>\n",
       "    </tr>\n",
       "    <tr>\n",
       "      <th>4</th>\n",
       "      <td>14 St-Union Sq</td>\n",
       "      <td>15839023.0</td>\n",
       "      <td>0.991266</td>\n",
       "      <td>9.912664</td>\n",
       "      <td></td>\n",
       "    </tr>\n",
       "  </tbody>\n",
       "</table>\n",
       "</div>"
      ],
      "text/plain": [
       "           Station  total_traffic  traffic_pctile  traffic_score station_fuzzy\n",
       "0   34 St-Penn Sta     25447467.0        1.000000      10.000000              \n",
       "1  Grd Cntrl-42 St     20717561.0        0.997817       9.978166              \n",
       "2  34 St-Herald Sq     19033731.0        0.995633       9.956332              \n",
       "3   Times Sq-42 St     15918827.0        0.993450       9.934498              \n",
       "4   14 St-Union Sq     15839023.0        0.991266       9.912664              "
      ]
     },
     "execution_count": 159,
     "metadata": {},
     "output_type": "execute_result"
    }
   ],
   "source": [
    "df_MTA_2019_stations.head()"
   ]
  },
  {
   "cell_type": "code",
   "execution_count": 160,
   "metadata": {},
   "outputs": [],
   "source": [
    "# for each item in \"Station\" use process.extract to find the best match in list_stations_income based on \n",
    "# fuzz.token_sort_ratio score, populate \"station_fuzzy\" field with that best match\n",
    "for i in range(0,len(df_MTA_2019_stations)):\n",
    "    df_MTA_2019_stations.iloc[i,4] = (process\n",
    "                                      .extract(df_MTA_2019_stations\n",
    "                                               .iloc[i,0], \n",
    "                                               list_stations_income, \n",
    "                                               scorer=fuzz.token_sort_ratio))[0][0]"
   ]
  },
  {
   "cell_type": "code",
   "execution_count": 161,
   "metadata": {},
   "outputs": [
    {
     "data": {
      "text/html": [
       "<div>\n",
       "<style scoped>\n",
       "    .dataframe tbody tr th:only-of-type {\n",
       "        vertical-align: middle;\n",
       "    }\n",
       "\n",
       "    .dataframe tbody tr th {\n",
       "        vertical-align: top;\n",
       "    }\n",
       "\n",
       "    .dataframe thead th {\n",
       "        text-align: right;\n",
       "    }\n",
       "</style>\n",
       "<table border=\"1\" class=\"dataframe\">\n",
       "  <thead>\n",
       "    <tr style=\"text-align: right;\">\n",
       "      <th></th>\n",
       "      <th>Station</th>\n",
       "      <th>total_traffic</th>\n",
       "      <th>traffic_pctile</th>\n",
       "      <th>traffic_score</th>\n",
       "      <th>station_fuzzy</th>\n",
       "    </tr>\n",
       "  </thead>\n",
       "  <tbody>\n",
       "    <tr>\n",
       "      <th>0</th>\n",
       "      <td>34 St-Penn Sta</td>\n",
       "      <td>25447467.0</td>\n",
       "      <td>1.000000</td>\n",
       "      <td>10.000000</td>\n",
       "      <td>34 St - Penn Station</td>\n",
       "    </tr>\n",
       "    <tr>\n",
       "      <th>1</th>\n",
       "      <td>Grd Cntrl-42 St</td>\n",
       "      <td>20717561.0</td>\n",
       "      <td>0.997817</td>\n",
       "      <td>9.978166</td>\n",
       "      <td>Grand Central - 42 St</td>\n",
       "    </tr>\n",
       "    <tr>\n",
       "      <th>2</th>\n",
       "      <td>34 St-Herald Sq</td>\n",
       "      <td>19033731.0</td>\n",
       "      <td>0.995633</td>\n",
       "      <td>9.956332</td>\n",
       "      <td>34 St - Herald Sq</td>\n",
       "    </tr>\n",
       "    <tr>\n",
       "      <th>3</th>\n",
       "      <td>Times Sq-42 St</td>\n",
       "      <td>15918827.0</td>\n",
       "      <td>0.993450</td>\n",
       "      <td>9.934498</td>\n",
       "      <td>Times Sq - 42 St</td>\n",
       "    </tr>\n",
       "    <tr>\n",
       "      <th>4</th>\n",
       "      <td>14 St-Union Sq</td>\n",
       "      <td>15839023.0</td>\n",
       "      <td>0.991266</td>\n",
       "      <td>9.912664</td>\n",
       "      <td>14 St - Union Sq</td>\n",
       "    </tr>\n",
       "    <tr>\n",
       "      <th>5</th>\n",
       "      <td>42 St-Port Auth</td>\n",
       "      <td>15163798.0</td>\n",
       "      <td>0.989083</td>\n",
       "      <td>9.890830</td>\n",
       "      <td>42 St - Bryant Pk</td>\n",
       "    </tr>\n",
       "    <tr>\n",
       "      <th>6</th>\n",
       "      <td>Fulton St_2345Acjz</td>\n",
       "      <td>13028059.0</td>\n",
       "      <td>0.986900</td>\n",
       "      <td>9.868996</td>\n",
       "      <td>Fulton St</td>\n",
       "    </tr>\n",
       "    <tr>\n",
       "      <th>7</th>\n",
       "      <td>59 St Columbus</td>\n",
       "      <td>10674585.0</td>\n",
       "      <td>0.984716</td>\n",
       "      <td>9.847162</td>\n",
       "      <td>59 St - Columbus Circle</td>\n",
       "    </tr>\n",
       "    <tr>\n",
       "      <th>8</th>\n",
       "      <td>59 St</td>\n",
       "      <td>9666542.0</td>\n",
       "      <td>0.982533</td>\n",
       "      <td>9.825328</td>\n",
       "      <td>59 St</td>\n",
       "    </tr>\n",
       "    <tr>\n",
       "      <th>9</th>\n",
       "      <td>14 St</td>\n",
       "      <td>9351691.0</td>\n",
       "      <td>0.980349</td>\n",
       "      <td>9.803493</td>\n",
       "      <td>14 St</td>\n",
       "    </tr>\n",
       "  </tbody>\n",
       "</table>\n",
       "</div>"
      ],
      "text/plain": [
       "              Station  total_traffic  traffic_pctile  traffic_score  \\\n",
       "0      34 St-Penn Sta     25447467.0        1.000000      10.000000   \n",
       "1     Grd Cntrl-42 St     20717561.0        0.997817       9.978166   \n",
       "2     34 St-Herald Sq     19033731.0        0.995633       9.956332   \n",
       "3      Times Sq-42 St     15918827.0        0.993450       9.934498   \n",
       "4      14 St-Union Sq     15839023.0        0.991266       9.912664   \n",
       "5     42 St-Port Auth     15163798.0        0.989083       9.890830   \n",
       "6  Fulton St_2345Acjz     13028059.0        0.986900       9.868996   \n",
       "7      59 St Columbus     10674585.0        0.984716       9.847162   \n",
       "8               59 St      9666542.0        0.982533       9.825328   \n",
       "9               14 St      9351691.0        0.980349       9.803493   \n",
       "\n",
       "             station_fuzzy  \n",
       "0     34 St - Penn Station  \n",
       "1    Grand Central - 42 St  \n",
       "2        34 St - Herald Sq  \n",
       "3         Times Sq - 42 St  \n",
       "4         14 St - Union Sq  \n",
       "5        42 St - Bryant Pk  \n",
       "6                Fulton St  \n",
       "7  59 St - Columbus Circle  \n",
       "8                    59 St  \n",
       "9                    14 St  "
      ]
     },
     "execution_count": 161,
     "metadata": {},
     "output_type": "execute_result"
    }
   ],
   "source": [
    "# compare Station to station_fuzzy, everything looks good so far!\n",
    "df_MTA_2019_stations[0:10]"
   ]
  },
  {
   "cell_type": "code",
   "execution_count": 162,
   "metadata": {},
   "outputs": [
    {
     "data": {
      "text/html": [
       "<div>\n",
       "<style scoped>\n",
       "    .dataframe tbody tr th:only-of-type {\n",
       "        vertical-align: middle;\n",
       "    }\n",
       "\n",
       "    .dataframe tbody tr th {\n",
       "        vertical-align: top;\n",
       "    }\n",
       "\n",
       "    .dataframe thead th {\n",
       "        text-align: right;\n",
       "    }\n",
       "</style>\n",
       "<table border=\"1\" class=\"dataframe\">\n",
       "  <thead>\n",
       "    <tr style=\"text-align: right;\">\n",
       "      <th></th>\n",
       "      <th>Station</th>\n",
       "      <th>total_traffic</th>\n",
       "      <th>traffic_pctile</th>\n",
       "      <th>traffic_score</th>\n",
       "      <th>station_fuzzy</th>\n",
       "    </tr>\n",
       "  </thead>\n",
       "  <tbody>\n",
       "    <tr>\n",
       "      <th>10</th>\n",
       "      <td>47-50 Sts Rock</td>\n",
       "      <td>9237128.0</td>\n",
       "      <td>0.978166</td>\n",
       "      <td>9.781659</td>\n",
       "      <td>47-50 Sts - Rockefeller Ctr</td>\n",
       "    </tr>\n",
       "    <tr>\n",
       "      <th>11</th>\n",
       "      <td>Flushing-Main</td>\n",
       "      <td>7929186.0</td>\n",
       "      <td>0.975983</td>\n",
       "      <td>9.759825</td>\n",
       "      <td>Flushing - Main St</td>\n",
       "    </tr>\n",
       "    <tr>\n",
       "      <th>12</th>\n",
       "      <td>Path New Wtc</td>\n",
       "      <td>7488778.0</td>\n",
       "      <td>0.973799</td>\n",
       "      <td>9.737991</td>\n",
       "      <td>New Utrecht Av</td>\n",
       "    </tr>\n",
       "    <tr>\n",
       "      <th>13</th>\n",
       "      <td>Jksn Ht-Roosvlt</td>\n",
       "      <td>7239765.0</td>\n",
       "      <td>0.971616</td>\n",
       "      <td>9.716157</td>\n",
       "      <td>Jackson Hts - Roosevelt Av</td>\n",
       "    </tr>\n",
       "    <tr>\n",
       "      <th>14</th>\n",
       "      <td>Canal St_6Jnqrwz</td>\n",
       "      <td>6947900.0</td>\n",
       "      <td>0.969432</td>\n",
       "      <td>9.694323</td>\n",
       "      <td>Canal St</td>\n",
       "    </tr>\n",
       "    <tr>\n",
       "      <th>15</th>\n",
       "      <td>86 St_456</td>\n",
       "      <td>6910964.0</td>\n",
       "      <td>0.967249</td>\n",
       "      <td>9.672489</td>\n",
       "      <td>86 St</td>\n",
       "    </tr>\n",
       "    <tr>\n",
       "      <th>16</th>\n",
       "      <td>Atl Av-Barclay</td>\n",
       "      <td>6888131.0</td>\n",
       "      <td>0.965066</td>\n",
       "      <td>9.650655</td>\n",
       "      <td>Atlantic Av - Barclays Ctr</td>\n",
       "    </tr>\n",
       "    <tr>\n",
       "      <th>17</th>\n",
       "      <td>W 4 St-Wash Sq</td>\n",
       "      <td>6865617.0</td>\n",
       "      <td>0.962882</td>\n",
       "      <td>9.628821</td>\n",
       "      <td>Times Sq - 42 St</td>\n",
       "    </tr>\n",
       "    <tr>\n",
       "      <th>18</th>\n",
       "      <td>Lexington Av/53</td>\n",
       "      <td>6451133.0</td>\n",
       "      <td>0.960699</td>\n",
       "      <td>9.606987</td>\n",
       "      <td>Lexington Av/53 St</td>\n",
       "    </tr>\n",
       "    <tr>\n",
       "      <th>19</th>\n",
       "      <td>72 St_123</td>\n",
       "      <td>6293500.0</td>\n",
       "      <td>0.958515</td>\n",
       "      <td>9.585153</td>\n",
       "      <td>72 St</td>\n",
       "    </tr>\n",
       "  </tbody>\n",
       "</table>\n",
       "</div>"
      ],
      "text/plain": [
       "             Station  total_traffic  traffic_pctile  traffic_score  \\\n",
       "10    47-50 Sts Rock      9237128.0        0.978166       9.781659   \n",
       "11     Flushing-Main      7929186.0        0.975983       9.759825   \n",
       "12      Path New Wtc      7488778.0        0.973799       9.737991   \n",
       "13   Jksn Ht-Roosvlt      7239765.0        0.971616       9.716157   \n",
       "14  Canal St_6Jnqrwz      6947900.0        0.969432       9.694323   \n",
       "15         86 St_456      6910964.0        0.967249       9.672489   \n",
       "16    Atl Av-Barclay      6888131.0        0.965066       9.650655   \n",
       "17    W 4 St-Wash Sq      6865617.0        0.962882       9.628821   \n",
       "18   Lexington Av/53      6451133.0        0.960699       9.606987   \n",
       "19         72 St_123      6293500.0        0.958515       9.585153   \n",
       "\n",
       "                  station_fuzzy  \n",
       "10  47-50 Sts - Rockefeller Ctr  \n",
       "11           Flushing - Main St  \n",
       "12               New Utrecht Av  \n",
       "13   Jackson Hts - Roosevelt Av  \n",
       "14                     Canal St  \n",
       "15                        86 St  \n",
       "16   Atlantic Av - Barclays Ctr  \n",
       "17             Times Sq - 42 St  \n",
       "18           Lexington Av/53 St  \n",
       "19                        72 St  "
      ]
     },
     "execution_count": 162,
     "metadata": {},
     "output_type": "execute_result"
    }
   ],
   "source": [
    "# compare for next 10 subway stations, row index 18 looks wrong (Path New Wtc vs New Utrecht Av)\n",
    "df_MTA_2019_stations[10:20]"
   ]
  },
  {
   "cell_type": "code",
   "execution_count": 163,
   "metadata": {},
   "outputs": [],
   "source": [
    "# manually change station_fuzzy to WTC Cortlandt (based on online research, google maps)\n",
    "df_MTA_2019_stations.loc[df_MTA_2019_stations.Station == '42 St-Port Auth','station_fuzzy'] = '42 St - Port Authority Bus Terminal'"
   ]
  },
  {
   "cell_type": "code",
   "execution_count": 164,
   "metadata": {},
   "outputs": [],
   "source": [
    "# manually change station_fuzzy to WTC Cortlandt (based on online research, google maps)\n",
    "df_MTA_2019_stations.loc[df_MTA_2019_stations.Station == 'Path New Wtc','station_fuzzy'] = 'WTC Cortlandt'"
   ]
  },
  {
   "cell_type": "code",
   "execution_count": 165,
   "metadata": {},
   "outputs": [
    {
     "data": {
      "text/html": [
       "<div>\n",
       "<style scoped>\n",
       "    .dataframe tbody tr th:only-of-type {\n",
       "        vertical-align: middle;\n",
       "    }\n",
       "\n",
       "    .dataframe tbody tr th {\n",
       "        vertical-align: top;\n",
       "    }\n",
       "\n",
       "    .dataframe thead th {\n",
       "        text-align: right;\n",
       "    }\n",
       "</style>\n",
       "<table border=\"1\" class=\"dataframe\">\n",
       "  <thead>\n",
       "    <tr style=\"text-align: right;\">\n",
       "      <th></th>\n",
       "      <th>Station</th>\n",
       "      <th>total_traffic</th>\n",
       "      <th>traffic_pctile</th>\n",
       "      <th>traffic_score</th>\n",
       "      <th>station_fuzzy</th>\n",
       "    </tr>\n",
       "  </thead>\n",
       "  <tbody>\n",
       "    <tr>\n",
       "      <th>10</th>\n",
       "      <td>47-50 Sts Rock</td>\n",
       "      <td>9237128.0</td>\n",
       "      <td>0.978166</td>\n",
       "      <td>9.781659</td>\n",
       "      <td>47-50 Sts - Rockefeller Ctr</td>\n",
       "    </tr>\n",
       "    <tr>\n",
       "      <th>11</th>\n",
       "      <td>Flushing-Main</td>\n",
       "      <td>7929186.0</td>\n",
       "      <td>0.975983</td>\n",
       "      <td>9.759825</td>\n",
       "      <td>Flushing - Main St</td>\n",
       "    </tr>\n",
       "    <tr>\n",
       "      <th>12</th>\n",
       "      <td>Path New Wtc</td>\n",
       "      <td>7488778.0</td>\n",
       "      <td>0.973799</td>\n",
       "      <td>9.737991</td>\n",
       "      <td>WTC Cortlandt</td>\n",
       "    </tr>\n",
       "    <tr>\n",
       "      <th>13</th>\n",
       "      <td>Jksn Ht-Roosvlt</td>\n",
       "      <td>7239765.0</td>\n",
       "      <td>0.971616</td>\n",
       "      <td>9.716157</td>\n",
       "      <td>Jackson Hts - Roosevelt Av</td>\n",
       "    </tr>\n",
       "    <tr>\n",
       "      <th>14</th>\n",
       "      <td>Canal St_6Jnqrwz</td>\n",
       "      <td>6947900.0</td>\n",
       "      <td>0.969432</td>\n",
       "      <td>9.694323</td>\n",
       "      <td>Canal St</td>\n",
       "    </tr>\n",
       "    <tr>\n",
       "      <th>15</th>\n",
       "      <td>86 St_456</td>\n",
       "      <td>6910964.0</td>\n",
       "      <td>0.967249</td>\n",
       "      <td>9.672489</td>\n",
       "      <td>86 St</td>\n",
       "    </tr>\n",
       "    <tr>\n",
       "      <th>16</th>\n",
       "      <td>Atl Av-Barclay</td>\n",
       "      <td>6888131.0</td>\n",
       "      <td>0.965066</td>\n",
       "      <td>9.650655</td>\n",
       "      <td>Atlantic Av - Barclays Ctr</td>\n",
       "    </tr>\n",
       "    <tr>\n",
       "      <th>17</th>\n",
       "      <td>W 4 St-Wash Sq</td>\n",
       "      <td>6865617.0</td>\n",
       "      <td>0.962882</td>\n",
       "      <td>9.628821</td>\n",
       "      <td>Times Sq - 42 St</td>\n",
       "    </tr>\n",
       "    <tr>\n",
       "      <th>18</th>\n",
       "      <td>Lexington Av/53</td>\n",
       "      <td>6451133.0</td>\n",
       "      <td>0.960699</td>\n",
       "      <td>9.606987</td>\n",
       "      <td>Lexington Av/53 St</td>\n",
       "    </tr>\n",
       "    <tr>\n",
       "      <th>19</th>\n",
       "      <td>72 St_123</td>\n",
       "      <td>6293500.0</td>\n",
       "      <td>0.958515</td>\n",
       "      <td>9.585153</td>\n",
       "      <td>72 St</td>\n",
       "    </tr>\n",
       "  </tbody>\n",
       "</table>\n",
       "</div>"
      ],
      "text/plain": [
       "             Station  total_traffic  traffic_pctile  traffic_score  \\\n",
       "10    47-50 Sts Rock      9237128.0        0.978166       9.781659   \n",
       "11     Flushing-Main      7929186.0        0.975983       9.759825   \n",
       "12      Path New Wtc      7488778.0        0.973799       9.737991   \n",
       "13   Jksn Ht-Roosvlt      7239765.0        0.971616       9.716157   \n",
       "14  Canal St_6Jnqrwz      6947900.0        0.969432       9.694323   \n",
       "15         86 St_456      6910964.0        0.967249       9.672489   \n",
       "16    Atl Av-Barclay      6888131.0        0.965066       9.650655   \n",
       "17    W 4 St-Wash Sq      6865617.0        0.962882       9.628821   \n",
       "18   Lexington Av/53      6451133.0        0.960699       9.606987   \n",
       "19         72 St_123      6293500.0        0.958515       9.585153   \n",
       "\n",
       "                  station_fuzzy  \n",
       "10  47-50 Sts - Rockefeller Ctr  \n",
       "11           Flushing - Main St  \n",
       "12                WTC Cortlandt  \n",
       "13   Jackson Hts - Roosevelt Av  \n",
       "14                     Canal St  \n",
       "15                        86 St  \n",
       "16   Atlantic Av - Barclays Ctr  \n",
       "17             Times Sq - 42 St  \n",
       "18           Lexington Av/53 St  \n",
       "19                        72 St  "
      ]
     },
     "execution_count": 165,
     "metadata": {},
     "output_type": "execute_result"
    }
   ],
   "source": [
    "# looks good now!\n",
    "df_MTA_2019_stations[10:20]"
   ]
  },
  {
   "cell_type": "code",
   "execution_count": 166,
   "metadata": {},
   "outputs": [
    {
     "data": {
      "text/html": [
       "<div>\n",
       "<style scoped>\n",
       "    .dataframe tbody tr th:only-of-type {\n",
       "        vertical-align: middle;\n",
       "    }\n",
       "\n",
       "    .dataframe tbody tr th {\n",
       "        vertical-align: top;\n",
       "    }\n",
       "\n",
       "    .dataframe thead th {\n",
       "        text-align: right;\n",
       "    }\n",
       "</style>\n",
       "<table border=\"1\" class=\"dataframe\">\n",
       "  <thead>\n",
       "    <tr style=\"text-align: right;\">\n",
       "      <th></th>\n",
       "      <th>Station</th>\n",
       "      <th>total_traffic</th>\n",
       "      <th>traffic_pctile</th>\n",
       "      <th>traffic_score</th>\n",
       "      <th>station_fuzzy</th>\n",
       "    </tr>\n",
       "  </thead>\n",
       "  <tbody>\n",
       "    <tr>\n",
       "      <th>20</th>\n",
       "      <td>42 St-Bryant Pk</td>\n",
       "      <td>6267261.0</td>\n",
       "      <td>0.956332</td>\n",
       "      <td>9.563319</td>\n",
       "      <td>42 St - Bryant Pk</td>\n",
       "    </tr>\n",
       "    <tr>\n",
       "      <th>21</th>\n",
       "      <td>96 St_123</td>\n",
       "      <td>6184069.0</td>\n",
       "      <td>0.954148</td>\n",
       "      <td>9.541485</td>\n",
       "      <td>96 St</td>\n",
       "    </tr>\n",
       "    <tr>\n",
       "      <th>22</th>\n",
       "      <td>57 St-7 Av</td>\n",
       "      <td>4989196.0</td>\n",
       "      <td>0.951965</td>\n",
       "      <td>9.519651</td>\n",
       "      <td>57 St - 7 Av</td>\n",
       "    </tr>\n",
       "    <tr>\n",
       "      <th>23</th>\n",
       "      <td>Jamaica Center</td>\n",
       "      <td>4874561.0</td>\n",
       "      <td>0.949782</td>\n",
       "      <td>9.497817</td>\n",
       "      <td>Jamaica Center - Parsons/Archer</td>\n",
       "    </tr>\n",
       "    <tr>\n",
       "      <th>24</th>\n",
       "      <td>72 St-2 Ave</td>\n",
       "      <td>4549131.0</td>\n",
       "      <td>0.947598</td>\n",
       "      <td>9.475983</td>\n",
       "      <td>57 St - 7 Av</td>\n",
       "    </tr>\n",
       "    <tr>\n",
       "      <th>25</th>\n",
       "      <td>Jay St-Metrotec_Acf</td>\n",
       "      <td>4495287.0</td>\n",
       "      <td>0.945415</td>\n",
       "      <td>9.454148</td>\n",
       "      <td>Jay St - MetroTech</td>\n",
       "    </tr>\n",
       "    <tr>\n",
       "      <th>26</th>\n",
       "      <td>Borough Hall</td>\n",
       "      <td>4465664.0</td>\n",
       "      <td>0.943231</td>\n",
       "      <td>9.432314</td>\n",
       "      <td>Borough Hall</td>\n",
       "    </tr>\n",
       "    <tr>\n",
       "      <th>27</th>\n",
       "      <td>125 St_Abcd</td>\n",
       "      <td>4396271.0</td>\n",
       "      <td>0.941048</td>\n",
       "      <td>9.410480</td>\n",
       "      <td>125 St</td>\n",
       "    </tr>\n",
       "    <tr>\n",
       "      <th>28</th>\n",
       "      <td>Bowling Green</td>\n",
       "      <td>4346824.0</td>\n",
       "      <td>0.938865</td>\n",
       "      <td>9.388646</td>\n",
       "      <td>Bowling Green</td>\n",
       "    </tr>\n",
       "    <tr>\n",
       "      <th>29</th>\n",
       "      <td>125 St_456</td>\n",
       "      <td>4197425.0</td>\n",
       "      <td>0.936681</td>\n",
       "      <td>9.366812</td>\n",
       "      <td>125 St</td>\n",
       "    </tr>\n",
       "  </tbody>\n",
       "</table>\n",
       "</div>"
      ],
      "text/plain": [
       "                Station  total_traffic  traffic_pctile  traffic_score  \\\n",
       "20      42 St-Bryant Pk      6267261.0        0.956332       9.563319   \n",
       "21            96 St_123      6184069.0        0.954148       9.541485   \n",
       "22           57 St-7 Av      4989196.0        0.951965       9.519651   \n",
       "23       Jamaica Center      4874561.0        0.949782       9.497817   \n",
       "24          72 St-2 Ave      4549131.0        0.947598       9.475983   \n",
       "25  Jay St-Metrotec_Acf      4495287.0        0.945415       9.454148   \n",
       "26         Borough Hall      4465664.0        0.943231       9.432314   \n",
       "27          125 St_Abcd      4396271.0        0.941048       9.410480   \n",
       "28        Bowling Green      4346824.0        0.938865       9.388646   \n",
       "29           125 St_456      4197425.0        0.936681       9.366812   \n",
       "\n",
       "                      station_fuzzy  \n",
       "20                42 St - Bryant Pk  \n",
       "21                            96 St  \n",
       "22                     57 St - 7 Av  \n",
       "23  Jamaica Center - Parsons/Archer  \n",
       "24                     57 St - 7 Av  \n",
       "25               Jay St - MetroTech  \n",
       "26                     Borough Hall  \n",
       "27                           125 St  \n",
       "28                    Bowling Green  \n",
       "29                           125 St  "
      ]
     },
     "execution_count": 166,
     "metadata": {},
     "output_type": "execute_result"
    }
   ],
   "source": [
    "# look at next 10 rows, index 24 looks like a mismatch\n",
    "df_MTA_2019_stations[20:30]"
   ]
  },
  {
   "cell_type": "code",
   "execution_count": 167,
   "metadata": {},
   "outputs": [],
   "source": [
    "# manually change station_fuzzy to 'W 4 St' (based on online research, google maps)\n",
    "df_MTA_2019_stations.loc[df_MTA_2019_stations.Station == 'W 4 St-Wash Sq','station_fuzzy'] = 'W 4 St'"
   ]
  },
  {
   "cell_type": "code",
   "execution_count": 168,
   "metadata": {},
   "outputs": [
    {
     "data": {
      "text/html": [
       "<div>\n",
       "<style scoped>\n",
       "    .dataframe tbody tr th:only-of-type {\n",
       "        vertical-align: middle;\n",
       "    }\n",
       "\n",
       "    .dataframe tbody tr th {\n",
       "        vertical-align: top;\n",
       "    }\n",
       "\n",
       "    .dataframe thead th {\n",
       "        text-align: right;\n",
       "    }\n",
       "</style>\n",
       "<table border=\"1\" class=\"dataframe\">\n",
       "  <thead>\n",
       "    <tr style=\"text-align: right;\">\n",
       "      <th></th>\n",
       "      <th>Station</th>\n",
       "      <th>total_traffic</th>\n",
       "      <th>traffic_pctile</th>\n",
       "      <th>traffic_score</th>\n",
       "      <th>station_fuzzy</th>\n",
       "    </tr>\n",
       "  </thead>\n",
       "  <tbody>\n",
       "    <tr>\n",
       "      <th>20</th>\n",
       "      <td>42 St-Bryant Pk</td>\n",
       "      <td>6267261.0</td>\n",
       "      <td>0.956332</td>\n",
       "      <td>9.563319</td>\n",
       "      <td>42 St - Bryant Pk</td>\n",
       "    </tr>\n",
       "    <tr>\n",
       "      <th>21</th>\n",
       "      <td>96 St_123</td>\n",
       "      <td>6184069.0</td>\n",
       "      <td>0.954148</td>\n",
       "      <td>9.541485</td>\n",
       "      <td>96 St</td>\n",
       "    </tr>\n",
       "    <tr>\n",
       "      <th>22</th>\n",
       "      <td>57 St-7 Av</td>\n",
       "      <td>4989196.0</td>\n",
       "      <td>0.951965</td>\n",
       "      <td>9.519651</td>\n",
       "      <td>57 St - 7 Av</td>\n",
       "    </tr>\n",
       "    <tr>\n",
       "      <th>23</th>\n",
       "      <td>Jamaica Center</td>\n",
       "      <td>4874561.0</td>\n",
       "      <td>0.949782</td>\n",
       "      <td>9.497817</td>\n",
       "      <td>Jamaica Center - Parsons/Archer</td>\n",
       "    </tr>\n",
       "    <tr>\n",
       "      <th>24</th>\n",
       "      <td>72 St-2 Ave</td>\n",
       "      <td>4549131.0</td>\n",
       "      <td>0.947598</td>\n",
       "      <td>9.475983</td>\n",
       "      <td>57 St - 7 Av</td>\n",
       "    </tr>\n",
       "    <tr>\n",
       "      <th>25</th>\n",
       "      <td>Jay St-Metrotec_Acf</td>\n",
       "      <td>4495287.0</td>\n",
       "      <td>0.945415</td>\n",
       "      <td>9.454148</td>\n",
       "      <td>Jay St - MetroTech</td>\n",
       "    </tr>\n",
       "    <tr>\n",
       "      <th>26</th>\n",
       "      <td>Borough Hall</td>\n",
       "      <td>4465664.0</td>\n",
       "      <td>0.943231</td>\n",
       "      <td>9.432314</td>\n",
       "      <td>Borough Hall</td>\n",
       "    </tr>\n",
       "    <tr>\n",
       "      <th>27</th>\n",
       "      <td>125 St_Abcd</td>\n",
       "      <td>4396271.0</td>\n",
       "      <td>0.941048</td>\n",
       "      <td>9.410480</td>\n",
       "      <td>125 St</td>\n",
       "    </tr>\n",
       "    <tr>\n",
       "      <th>28</th>\n",
       "      <td>Bowling Green</td>\n",
       "      <td>4346824.0</td>\n",
       "      <td>0.938865</td>\n",
       "      <td>9.388646</td>\n",
       "      <td>Bowling Green</td>\n",
       "    </tr>\n",
       "    <tr>\n",
       "      <th>29</th>\n",
       "      <td>125 St_456</td>\n",
       "      <td>4197425.0</td>\n",
       "      <td>0.936681</td>\n",
       "      <td>9.366812</td>\n",
       "      <td>125 St</td>\n",
       "    </tr>\n",
       "  </tbody>\n",
       "</table>\n",
       "</div>"
      ],
      "text/plain": [
       "                Station  total_traffic  traffic_pctile  traffic_score  \\\n",
       "20      42 St-Bryant Pk      6267261.0        0.956332       9.563319   \n",
       "21            96 St_123      6184069.0        0.954148       9.541485   \n",
       "22           57 St-7 Av      4989196.0        0.951965       9.519651   \n",
       "23       Jamaica Center      4874561.0        0.949782       9.497817   \n",
       "24          72 St-2 Ave      4549131.0        0.947598       9.475983   \n",
       "25  Jay St-Metrotec_Acf      4495287.0        0.945415       9.454148   \n",
       "26         Borough Hall      4465664.0        0.943231       9.432314   \n",
       "27          125 St_Abcd      4396271.0        0.941048       9.410480   \n",
       "28        Bowling Green      4346824.0        0.938865       9.388646   \n",
       "29           125 St_456      4197425.0        0.936681       9.366812   \n",
       "\n",
       "                      station_fuzzy  \n",
       "20                42 St - Bryant Pk  \n",
       "21                            96 St  \n",
       "22                     57 St - 7 Av  \n",
       "23  Jamaica Center - Parsons/Archer  \n",
       "24                     57 St - 7 Av  \n",
       "25               Jay St - MetroTech  \n",
       "26                     Borough Hall  \n",
       "27                           125 St  \n",
       "28                    Bowling Green  \n",
       "29                           125 St  "
      ]
     },
     "execution_count": 168,
     "metadata": {},
     "output_type": "execute_result"
    }
   ],
   "source": [
    "# looks good now!\n",
    "df_MTA_2019_stations[20:30]"
   ]
  },
  {
   "cell_type": "code",
   "execution_count": 169,
   "metadata": {},
   "outputs": [
    {
     "data": {
      "text/html": [
       "<div>\n",
       "<style scoped>\n",
       "    .dataframe tbody tr th:only-of-type {\n",
       "        vertical-align: middle;\n",
       "    }\n",
       "\n",
       "    .dataframe tbody tr th {\n",
       "        vertical-align: top;\n",
       "    }\n",
       "\n",
       "    .dataframe thead th {\n",
       "        text-align: right;\n",
       "    }\n",
       "</style>\n",
       "<table border=\"1\" class=\"dataframe\">\n",
       "  <thead>\n",
       "    <tr style=\"text-align: right;\">\n",
       "      <th></th>\n",
       "      <th>Station</th>\n",
       "      <th>total_traffic</th>\n",
       "      <th>traffic_pctile</th>\n",
       "      <th>traffic_score</th>\n",
       "      <th>station_fuzzy</th>\n",
       "    </tr>\n",
       "  </thead>\n",
       "  <tbody>\n",
       "    <tr>\n",
       "      <th>40</th>\n",
       "      <td>Crown Hts-Utica</td>\n",
       "      <td>3668929.0</td>\n",
       "      <td>0.912664</td>\n",
       "      <td>9.126638</td>\n",
       "      <td>Crown Hts - Utica Av</td>\n",
       "    </tr>\n",
       "    <tr>\n",
       "      <th>41</th>\n",
       "      <td>Bedford Av</td>\n",
       "      <td>3597374.0</td>\n",
       "      <td>0.910480</td>\n",
       "      <td>9.104803</td>\n",
       "      <td>Bedford Av</td>\n",
       "    </tr>\n",
       "    <tr>\n",
       "      <th>42</th>\n",
       "      <td>145 St_Abcd</td>\n",
       "      <td>3574933.0</td>\n",
       "      <td>0.908297</td>\n",
       "      <td>9.082969</td>\n",
       "      <td>145 St</td>\n",
       "    </tr>\n",
       "    <tr>\n",
       "      <th>43</th>\n",
       "      <td>23 St_Fm</td>\n",
       "      <td>3573735.0</td>\n",
       "      <td>0.906114</td>\n",
       "      <td>9.061135</td>\n",
       "      <td>23 St</td>\n",
       "    </tr>\n",
       "    <tr>\n",
       "      <th>44</th>\n",
       "      <td>86 St-2 Ave</td>\n",
       "      <td>3566979.0</td>\n",
       "      <td>0.903930</td>\n",
       "      <td>9.039301</td>\n",
       "      <td>5 Av/53 St</td>\n",
       "    </tr>\n",
       "    <tr>\n",
       "      <th>45</th>\n",
       "      <td>Wall St_23</td>\n",
       "      <td>3558693.0</td>\n",
       "      <td>0.901747</td>\n",
       "      <td>9.017467</td>\n",
       "      <td>Wall St</td>\n",
       "    </tr>\n",
       "    <tr>\n",
       "      <th>46</th>\n",
       "      <td>Grand St_Bd</td>\n",
       "      <td>3513974.0</td>\n",
       "      <td>0.899563</td>\n",
       "      <td>8.995633</td>\n",
       "      <td>Grand St</td>\n",
       "    </tr>\n",
       "    <tr>\n",
       "      <th>47</th>\n",
       "      <td>Chambers St_23Ace</td>\n",
       "      <td>3485902.0</td>\n",
       "      <td>0.897380</td>\n",
       "      <td>8.973799</td>\n",
       "      <td>Chambers St</td>\n",
       "    </tr>\n",
       "    <tr>\n",
       "      <th>48</th>\n",
       "      <td>Sutphin-Archer</td>\n",
       "      <td>3481969.0</td>\n",
       "      <td>0.895197</td>\n",
       "      <td>8.951965</td>\n",
       "      <td>Sutphin Blvd</td>\n",
       "    </tr>\n",
       "    <tr>\n",
       "      <th>49</th>\n",
       "      <td>Lexington Av/63</td>\n",
       "      <td>3479604.0</td>\n",
       "      <td>0.893013</td>\n",
       "      <td>8.930131</td>\n",
       "      <td>Lexington Av/63 St</td>\n",
       "    </tr>\n",
       "  </tbody>\n",
       "</table>\n",
       "</div>"
      ],
      "text/plain": [
       "              Station  total_traffic  traffic_pctile  traffic_score  \\\n",
       "40    Crown Hts-Utica      3668929.0        0.912664       9.126638   \n",
       "41         Bedford Av      3597374.0        0.910480       9.104803   \n",
       "42        145 St_Abcd      3574933.0        0.908297       9.082969   \n",
       "43           23 St_Fm      3573735.0        0.906114       9.061135   \n",
       "44        86 St-2 Ave      3566979.0        0.903930       9.039301   \n",
       "45         Wall St_23      3558693.0        0.901747       9.017467   \n",
       "46        Grand St_Bd      3513974.0        0.899563       8.995633   \n",
       "47  Chambers St_23Ace      3485902.0        0.897380       8.973799   \n",
       "48     Sutphin-Archer      3481969.0        0.895197       8.951965   \n",
       "49    Lexington Av/63      3479604.0        0.893013       8.930131   \n",
       "\n",
       "           station_fuzzy  \n",
       "40  Crown Hts - Utica Av  \n",
       "41            Bedford Av  \n",
       "42                145 St  \n",
       "43                 23 St  \n",
       "44            5 Av/53 St  \n",
       "45               Wall St  \n",
       "46              Grand St  \n",
       "47           Chambers St  \n",
       "48          Sutphin Blvd  \n",
       "49    Lexington Av/63 St  "
      ]
     },
     "execution_count": 169,
     "metadata": {},
     "output_type": "execute_result"
    }
   ],
   "source": [
    "df_MTA_2019_stations[40:50]"
   ]
  },
  {
   "cell_type": "code",
   "execution_count": 170,
   "metadata": {},
   "outputs": [],
   "source": [
    "df_MTA_2019_stations.loc[df_MTA_2019_stations.Station == '72 St-2 Ave','station_fuzzy'] = '72 St'"
   ]
  },
  {
   "cell_type": "code",
   "execution_count": 171,
   "metadata": {},
   "outputs": [],
   "source": [
    "df_MTA_2019_stations.loc[df_MTA_2019_stations.Station == \"B'Way-Lafayette\",'station_fuzzy'] = \"Broadway-Lafayette St\""
   ]
  },
  {
   "cell_type": "code",
   "execution_count": 172,
   "metadata": {},
   "outputs": [
    {
     "data": {
      "text/html": [
       "<div>\n",
       "<style scoped>\n",
       "    .dataframe tbody tr th:only-of-type {\n",
       "        vertical-align: middle;\n",
       "    }\n",
       "\n",
       "    .dataframe tbody tr th {\n",
       "        vertical-align: top;\n",
       "    }\n",
       "\n",
       "    .dataframe thead th {\n",
       "        text-align: right;\n",
       "    }\n",
       "</style>\n",
       "<table border=\"1\" class=\"dataframe\">\n",
       "  <thead>\n",
       "    <tr style=\"text-align: right;\">\n",
       "      <th></th>\n",
       "      <th>Station</th>\n",
       "      <th>total_traffic</th>\n",
       "      <th>traffic_pctile</th>\n",
       "      <th>traffic_score</th>\n",
       "      <th>station_fuzzy</th>\n",
       "    </tr>\n",
       "  </thead>\n",
       "  <tbody>\n",
       "    <tr>\n",
       "      <th>30</th>\n",
       "      <td>B'Way-Lafayette</td>\n",
       "      <td>4167133.0</td>\n",
       "      <td>0.934498</td>\n",
       "      <td>9.344978</td>\n",
       "      <td>Broadway-Lafayette St</td>\n",
       "    </tr>\n",
       "    <tr>\n",
       "      <th>31</th>\n",
       "      <td>Journal Square</td>\n",
       "      <td>4107814.0</td>\n",
       "      <td>0.932314</td>\n",
       "      <td>9.323144</td>\n",
       "      <td>Court Sq</td>\n",
       "    </tr>\n",
       "    <tr>\n",
       "      <th>32</th>\n",
       "      <td>5 Av/53 St</td>\n",
       "      <td>4086190.0</td>\n",
       "      <td>0.930131</td>\n",
       "      <td>9.301310</td>\n",
       "      <td>5 Av/53 St</td>\n",
       "    </tr>\n",
       "    <tr>\n",
       "      <th>33</th>\n",
       "      <td>50 St_1</td>\n",
       "      <td>4063076.0</td>\n",
       "      <td>0.927948</td>\n",
       "      <td>9.279476</td>\n",
       "      <td>50 St</td>\n",
       "    </tr>\n",
       "    <tr>\n",
       "      <th>34</th>\n",
       "      <td>77 St_6</td>\n",
       "      <td>3986805.0</td>\n",
       "      <td>0.925764</td>\n",
       "      <td>9.257642</td>\n",
       "      <td>77 St</td>\n",
       "    </tr>\n",
       "    <tr>\n",
       "      <th>35</th>\n",
       "      <td>33 St</td>\n",
       "      <td>3963276.0</td>\n",
       "      <td>0.923581</td>\n",
       "      <td>9.235808</td>\n",
       "      <td>33 St</td>\n",
       "    </tr>\n",
       "    <tr>\n",
       "      <th>36</th>\n",
       "      <td>Kew Gardens</td>\n",
       "      <td>3956695.0</td>\n",
       "      <td>0.921397</td>\n",
       "      <td>9.213974</td>\n",
       "      <td>Kew Gardens - Union Tpke</td>\n",
       "    </tr>\n",
       "    <tr>\n",
       "      <th>37</th>\n",
       "      <td>Delancey/Essex</td>\n",
       "      <td>3918805.0</td>\n",
       "      <td>0.919214</td>\n",
       "      <td>9.192140</td>\n",
       "      <td>Delancey St</td>\n",
       "    </tr>\n",
       "    <tr>\n",
       "      <th>38</th>\n",
       "      <td>23 St_6</td>\n",
       "      <td>3825817.0</td>\n",
       "      <td>0.917031</td>\n",
       "      <td>9.170306</td>\n",
       "      <td>23 St</td>\n",
       "    </tr>\n",
       "    <tr>\n",
       "      <th>39</th>\n",
       "      <td>161/Yankee Stad</td>\n",
       "      <td>3702342.0</td>\n",
       "      <td>0.914847</td>\n",
       "      <td>9.148472</td>\n",
       "      <td>161 St - Yankee Stadium</td>\n",
       "    </tr>\n",
       "  </tbody>\n",
       "</table>\n",
       "</div>"
      ],
      "text/plain": [
       "            Station  total_traffic  traffic_pctile  traffic_score  \\\n",
       "30  B'Way-Lafayette      4167133.0        0.934498       9.344978   \n",
       "31   Journal Square      4107814.0        0.932314       9.323144   \n",
       "32       5 Av/53 St      4086190.0        0.930131       9.301310   \n",
       "33          50 St_1      4063076.0        0.927948       9.279476   \n",
       "34          77 St_6      3986805.0        0.925764       9.257642   \n",
       "35            33 St      3963276.0        0.923581       9.235808   \n",
       "36      Kew Gardens      3956695.0        0.921397       9.213974   \n",
       "37   Delancey/Essex      3918805.0        0.919214       9.192140   \n",
       "38          23 St_6      3825817.0        0.917031       9.170306   \n",
       "39  161/Yankee Stad      3702342.0        0.914847       9.148472   \n",
       "\n",
       "               station_fuzzy  \n",
       "30     Broadway-Lafayette St  \n",
       "31                  Court Sq  \n",
       "32                5 Av/53 St  \n",
       "33                     50 St  \n",
       "34                     77 St  \n",
       "35                     33 St  \n",
       "36  Kew Gardens - Union Tpke  \n",
       "37               Delancey St  \n",
       "38                     23 St  \n",
       "39   161 St - Yankee Stadium  "
      ]
     },
     "execution_count": 172,
     "metadata": {},
     "output_type": "execute_result"
    }
   ],
   "source": [
    "df_MTA_2019_stations[30:40]"
   ]
  },
  {
   "cell_type": "markdown",
   "metadata": {},
   "source": [
    "### *Merge df_MTA_2019_stations with df_subway_income into a single dataframe with stations, traffic scores, income scores*"
   ]
  },
  {
   "cell_type": "code",
   "execution_count": 173,
   "metadata": {},
   "outputs": [],
   "source": [
    "# join df_MTA_2019_stations with df_subway_income \n",
    "df_final = (df_MTA_2019_stations\n",
    "            .merge(df_subway_income, \n",
    "                   how = 'left', \n",
    "                   left_on = 'station_fuzzy', \n",
    "                   right_on = 'Stop Name'))"
   ]
  },
  {
   "cell_type": "code",
   "execution_count": 174,
   "metadata": {},
   "outputs": [
    {
     "name": "stdout",
     "output_type": "stream",
     "text": [
      "<class 'pandas.core.frame.DataFrame'>\n",
      "Int64Index: 458 entries, 0 to 457\n",
      "Data columns (total 9 columns):\n",
      " #   Column             Non-Null Count  Dtype  \n",
      "---  ------             --------------  -----  \n",
      " 0   Station            458 non-null    object \n",
      " 1   total_traffic      458 non-null    float64\n",
      " 2   traffic_pctile     458 non-null    float64\n",
      " 3   traffic_score      458 non-null    float64\n",
      " 4   station_fuzzy      458 non-null    object \n",
      " 5   Stop Name          458 non-null    object \n",
      " 6   Income             447 non-null    float64\n",
      " 7   Income_percentile  447 non-null    float64\n",
      " 8   HHIncomePct_score  447 non-null    float64\n",
      "dtypes: float64(6), object(3)\n",
      "memory usage: 35.8+ KB\n"
     ]
    }
   ],
   "source": [
    "df_final.info()"
   ]
  },
  {
   "cell_type": "code",
   "execution_count": 175,
   "metadata": {},
   "outputs": [],
   "source": [
    "df_final.drop(columns=['station_fuzzy','Stop Name'], inplace = True)"
   ]
  },
  {
   "cell_type": "code",
   "execution_count": 176,
   "metadata": {},
   "outputs": [],
   "source": [
    "# weight traffic by 70%, hh income by 30%\n",
    "weight1 = 0.7\n",
    "weight2 = 1-weight1\n",
    "df_final['weighted_score'] = weight1*df_final['traffic_score'] + weight2*df_final['HHIncomePct_score']"
   ]
  },
  {
   "cell_type": "code",
   "execution_count": 177,
   "metadata": {},
   "outputs": [],
   "source": [
    "df_final = df_final.sort_values(by='weighted_score',ascending=False).head(5)"
   ]
  },
  {
   "cell_type": "code",
   "execution_count": 178,
   "metadata": {},
   "outputs": [],
   "source": [
    "df_final.reset_index(drop = True, inplace = True)"
   ]
  },
  {
   "cell_type": "code",
   "execution_count": 179,
   "metadata": {},
   "outputs": [
    {
     "data": {
      "text/html": [
       "<div>\n",
       "<style scoped>\n",
       "    .dataframe tbody tr th:only-of-type {\n",
       "        vertical-align: middle;\n",
       "    }\n",
       "\n",
       "    .dataframe tbody tr th {\n",
       "        vertical-align: top;\n",
       "    }\n",
       "\n",
       "    .dataframe thead th {\n",
       "        text-align: right;\n",
       "    }\n",
       "</style>\n",
       "<table border=\"1\" class=\"dataframe\">\n",
       "  <thead>\n",
       "    <tr style=\"text-align: right;\">\n",
       "      <th></th>\n",
       "      <th>Station</th>\n",
       "      <th>total_traffic</th>\n",
       "      <th>traffic_pctile</th>\n",
       "      <th>traffic_score</th>\n",
       "      <th>Income</th>\n",
       "      <th>Income_percentile</th>\n",
       "      <th>HHIncomePct_score</th>\n",
       "      <th>weighted_score</th>\n",
       "    </tr>\n",
       "  </thead>\n",
       "  <tbody>\n",
       "    <tr>\n",
       "      <th>0</th>\n",
       "      <td>34 St-Penn Sta</td>\n",
       "      <td>25447467.0</td>\n",
       "      <td>1.000000</td>\n",
       "      <td>10.000000</td>\n",
       "      <td>154429.5</td>\n",
       "      <td>0.983579</td>\n",
       "      <td>10.0</td>\n",
       "      <td>10.000000</td>\n",
       "    </tr>\n",
       "    <tr>\n",
       "      <th>1</th>\n",
       "      <td>Grd Cntrl-42 St</td>\n",
       "      <td>20717561.0</td>\n",
       "      <td>0.997817</td>\n",
       "      <td>9.978166</td>\n",
       "      <td>122500.0</td>\n",
       "      <td>0.943360</td>\n",
       "      <td>10.0</td>\n",
       "      <td>9.984716</td>\n",
       "    </tr>\n",
       "    <tr>\n",
       "      <th>2</th>\n",
       "      <td>34 St-Herald Sq</td>\n",
       "      <td>19033731.0</td>\n",
       "      <td>0.995633</td>\n",
       "      <td>9.956332</td>\n",
       "      <td>148348.0</td>\n",
       "      <td>0.976678</td>\n",
       "      <td>10.0</td>\n",
       "      <td>9.969432</td>\n",
       "    </tr>\n",
       "    <tr>\n",
       "      <th>3</th>\n",
       "      <td>Times Sq-42 St</td>\n",
       "      <td>15918827.0</td>\n",
       "      <td>0.993450</td>\n",
       "      <td>9.934498</td>\n",
       "      <td>110000.0</td>\n",
       "      <td>0.921942</td>\n",
       "      <td>10.0</td>\n",
       "      <td>9.954148</td>\n",
       "    </tr>\n",
       "    <tr>\n",
       "      <th>4</th>\n",
       "      <td>14 St-Union Sq</td>\n",
       "      <td>15839023.0</td>\n",
       "      <td>0.991266</td>\n",
       "      <td>9.912664</td>\n",
       "      <td>148903.5</td>\n",
       "      <td>0.979058</td>\n",
       "      <td>10.0</td>\n",
       "      <td>9.938865</td>\n",
       "    </tr>\n",
       "  </tbody>\n",
       "</table>\n",
       "</div>"
      ],
      "text/plain": [
       "           Station  total_traffic  traffic_pctile  traffic_score    Income  \\\n",
       "0   34 St-Penn Sta     25447467.0        1.000000      10.000000  154429.5   \n",
       "1  Grd Cntrl-42 St     20717561.0        0.997817       9.978166  122500.0   \n",
       "2  34 St-Herald Sq     19033731.0        0.995633       9.956332  148348.0   \n",
       "3   Times Sq-42 St     15918827.0        0.993450       9.934498  110000.0   \n",
       "4   14 St-Union Sq     15839023.0        0.991266       9.912664  148903.5   \n",
       "\n",
       "   Income_percentile  HHIncomePct_score  weighted_score  \n",
       "0           0.983579               10.0       10.000000  \n",
       "1           0.943360               10.0        9.984716  \n",
       "2           0.976678               10.0        9.969432  \n",
       "3           0.921942               10.0        9.954148  \n",
       "4           0.979058               10.0        9.938865  "
      ]
     },
     "execution_count": 179,
     "metadata": {},
     "output_type": "execute_result"
    }
   ],
   "source": [
    "df_final"
   ]
  },
  {
   "cell_type": "code",
   "execution_count": 180,
   "metadata": {},
   "outputs": [
    {
     "data": {
      "image/png": "[encoded data removed]",
      "text/plain": [
       "<Figure size 864x576 with 1 Axes>"
      ]
     },
     "metadata": {},
     "output_type": "display_data"
    }
   ],
   "source": [
    "ax = sns.barplot(x = \"Income\", y = \"Station\", data = df_final, orient = 'h')\n",
    "ax.set_title(\"Median Household Income (Tract ID) for Top 5 NYC Stations\", weight='bold', fontsize=20)\n",
    "ax.set(xlabel = \"Median Household Income\")\n",
    "fig = ax.get_figure()\n",
    "fig.savefig('top5stations_medianincome_sns.png');"
   ]
  },
  {
   "cell_type": "code",
   "execution_count": 181,
   "metadata": {},
   "outputs": [
    {
     "data": {
      "image/png": "[encoded data removed]",
      "text/plain": [
       "<Figure size 864x576 with 1 Axes>"
      ]
     },
     "metadata": {},
     "output_type": "display_data"
    }
   ],
   "source": [
    "ax = sns.barplot(x = \"Income_percentile\", y = \"Station\", data = df_final, orient = 'h')\n",
    "ax.set_title(\"Income Percentile for Top 5 NYC Stations\", weight='bold', fontsize=20)\n",
    "ax.set(xlabel = \"Income Percentile (By NYC Census Tract ID)\")\n",
    "fig = ax.get_figure()\n",
    "fig.savefig('top5stations_incomeperc_sns.png');"
   ]
  },
  {
   "cell_type": "code",
   "execution_count": 182,
   "metadata": {},
   "outputs": [],
   "source": [
    "list5 = list(df_final.Station)"
   ]
  },
  {
   "cell_type": "code",
   "execution_count": 183,
   "metadata": {},
   "outputs": [],
   "source": [
    "df_MTA_2019_daily['STATION'] = df_MTA_2019_daily['STATION'].apply(proper)"
   ]
  },
  {
   "cell_type": "markdown",
   "metadata": {},
   "source": [
    "*Filter the top 5 stations and look at the best day of week, time of day with most traffic*"
   ]
  },
  {
   "cell_type": "code",
   "execution_count": 184,
   "metadata": {},
   "outputs": [],
   "source": [
    "df_MTA_2019_top5 = df_MTA_2019_daily.loc[df_MTA_2019_daily.STATION.isin(list5)]"
   ]
  },
  {
   "cell_type": "code",
   "execution_count": 185,
   "metadata": {},
   "outputs": [
    {
     "name": "stdout",
     "output_type": "stream",
     "text": [
      "<class 'pandas.core.frame.DataFrame'>\n",
      "Int64Index: 27696 entries, 5326 to 340865\n",
      "Data columns (total 16 columns):\n",
      " #   Column            Non-Null Count  Dtype         \n",
      "---  ------            --------------  -----         \n",
      " 0   C/A               27696 non-null  object        \n",
      " 1   UNIT              27696 non-null  object        \n",
      " 2   SCP               27696 non-null  object        \n",
      " 3   STATION           27696 non-null  object        \n",
      " 4   DATE              27696 non-null  object        \n",
      " 5   ENTRIES           27696 non-null  int64         \n",
      " 6   EXITS             27696 non-null  int64         \n",
      " 7   PREV_DATE         27385 non-null  object        \n",
      " 8   PREV_ENTRIES      27385 non-null  float64       \n",
      " 9   PREV_EXITS        27385 non-null  float64       \n",
      " 10  DAILY_ENTRIES     27377 non-null  float64       \n",
      " 11  unique_turnstile  27696 non-null  object        \n",
      " 12  DAILY_EXITS       27376 non-null  float64       \n",
      " 13  Station           27696 non-null  object        \n",
      " 14  DAILY_TRAFFIC     27376 non-null  float64       \n",
      " 15  DATE_TIME         27696 non-null  datetime64[ns]\n",
      "dtypes: datetime64[ns](1), float64(5), int64(2), object(8)\n",
      "memory usage: 3.6+ MB\n"
     ]
    }
   ],
   "source": [
    "df_MTA_2019_top5.info()"
   ]
  },
  {
   "cell_type": "code",
   "execution_count": 186,
   "metadata": {},
   "outputs": [],
   "source": [
    "df_MTA_2019_top5[\"DAY\"] = df_MTA_2019_top5[\"DATE_TIME\"].dt.day_name()"
   ]
  },
  {
   "cell_type": "code",
   "execution_count": 187,
   "metadata": {},
   "outputs": [
    {
     "data": {
      "text/plain": [
       "Sunday       3983\n",
       "Saturday     3972\n",
       "Friday       3961\n",
       "Monday       3950\n",
       "Thursday     3946\n",
       "Tuesday      3944\n",
       "Wednesday    3940\n",
       "Name: DAY, dtype: int64"
      ]
     },
     "execution_count": 187,
     "metadata": {},
     "output_type": "execute_result"
    }
   ],
   "source": [
    "# check that value counts is approx the same for all days of the week\n",
    "df_MTA_2019_top5.DAY.value_counts()"
   ]
  },
  {
   "cell_type": "code",
   "execution_count": 188,
   "metadata": {},
   "outputs": [],
   "source": [
    "df_MTA_2019_top5_weekday = df_MTA_2019_top5.groupby('DAY')['DAILY_TRAFFIC'].sum()"
   ]
  },
  {
   "cell_type": "code",
   "execution_count": 189,
   "metadata": {},
   "outputs": [],
   "source": [
    "df_MTA_2019_top5_weekday.sort_values(ascending=False,inplace=True)"
   ]
  },
  {
   "cell_type": "code",
   "execution_count": 190,
   "metadata": {},
   "outputs": [],
   "source": [
    "df_MTA_2019_top5_weekday = pd.DataFrame(df_MTA_2019_top5_weekday)"
   ]
  },
  {
   "cell_type": "code",
   "execution_count": 191,
   "metadata": {},
   "outputs": [],
   "source": [
    "df_MTA_2019_top5_weekday.reset_index(inplace = True)"
   ]
  },
  {
   "cell_type": "code",
   "execution_count": 192,
   "metadata": {},
   "outputs": [
    {
     "data": {
      "text/plain": [
       "RangeIndex(start=0, stop=7, step=1)"
      ]
     },
     "execution_count": 192,
     "metadata": {},
     "output_type": "execute_result"
    }
   ],
   "source": [
    "df_MTA_2019_top5_weekday.index"
   ]
  },
  {
   "cell_type": "code",
   "execution_count": 193,
   "metadata": {},
   "outputs": [
    {
     "data": {
      "image/png": "[encoded data removed]",
      "text/plain": [
       "<Figure size 864x576 with 1 Axes>"
      ]
     },
     "metadata": {},
     "output_type": "display_data"
    }
   ],
   "source": [
    "plt.figure(figsize=[12,8])\n",
    "ax = plt.bar(df_MTA_2019_top5_weekday.DAY, df_MTA_2019_top5_weekday.DAILY_TRAFFIC)\n",
    "ax[0].set_color('darkgreen')\n",
    "ax[1].set_color('darkgreen')\n",
    "ax[2].set_color('darkgreen')\n",
    "ax[3].set_color('silver')\n",
    "ax[4].set_color('silver')\n",
    "ax[5].set_color('silver')\n",
    "ax[6].set_color('silver')\n",
    "\n",
    "plt.title('Total Traffic By Day of Week for Top 5 NYC Subway Stations', weight = 'bold', fontsize = 20)\n",
    "plt.xticks(fontsize = 14)\n",
    "plt.yticks(fontsize = 14)\n",
    "plt.xlabel('Day of Week', fontsize = 16)\n",
    "plt.ylabel('Total Traffic (tens of mil)', fontsize = 16)\n",
    "plt.savefig('traffic_dayofweek_top5NYC.png');"
   ]
  },
  {
   "cell_type": "code",
   "execution_count": 194,
   "metadata": {},
   "outputs": [],
   "source": [
    "df_MTA_2019['STATION'] = df_MTA_2019['STATION'].apply(proper)"
   ]
  },
  {
   "cell_type": "code",
   "execution_count": 195,
   "metadata": {},
   "outputs": [],
   "source": [
    "df_MTA_2019_top5_day_hour = df_MTA_2019[df_MTA_2019[\"STATION\"].isin(list5)]"
   ]
  },
  {
   "cell_type": "code",
   "execution_count": 196,
   "metadata": {},
   "outputs": [
    {
     "data": {
      "text/html": [
       "<div>\n",
       "<style scoped>\n",
       "    .dataframe tbody tr th:only-of-type {\n",
       "        vertical-align: middle;\n",
       "    }\n",
       "\n",
       "    .dataframe tbody tr th {\n",
       "        vertical-align: top;\n",
       "    }\n",
       "\n",
       "    .dataframe thead th {\n",
       "        text-align: right;\n",
       "    }\n",
       "</style>\n",
       "<table border=\"1\" class=\"dataframe\">\n",
       "  <thead>\n",
       "    <tr style=\"text-align: right;\">\n",
       "      <th></th>\n",
       "      <th>C/A</th>\n",
       "      <th>UNIT</th>\n",
       "      <th>SCP</th>\n",
       "      <th>STATION</th>\n",
       "      <th>LINENAME</th>\n",
       "      <th>DIVISION</th>\n",
       "      <th>DATE</th>\n",
       "      <th>TIME</th>\n",
       "      <th>DESC</th>\n",
       "      <th>ENTRIES</th>\n",
       "      <th>EXITS</th>\n",
       "      <th>DATE_TIME</th>\n",
       "      <th>station_linename</th>\n",
       "    </tr>\n",
       "  </thead>\n",
       "  <tbody>\n",
       "    <tr>\n",
       "      <th>2684</th>\n",
       "      <td>A021</td>\n",
       "      <td>R032</td>\n",
       "      <td>01-00-00</td>\n",
       "      <td>Times Sq-42 St</td>\n",
       "      <td>1237ACENQRSW</td>\n",
       "      <td>BMT</td>\n",
       "      <td>03/30/2019</td>\n",
       "      <td>00:00:00</td>\n",
       "      <td>REGULAR</td>\n",
       "      <td>8693348</td>\n",
       "      <td>10641864</td>\n",
       "      <td>2019-03-30 00:00:00</td>\n",
       "      <td>TIMES SQ-42 ST_1237ACENQRSW</td>\n",
       "    </tr>\n",
       "    <tr>\n",
       "      <th>2685</th>\n",
       "      <td>A021</td>\n",
       "      <td>R032</td>\n",
       "      <td>01-00-00</td>\n",
       "      <td>Times Sq-42 St</td>\n",
       "      <td>1237ACENQRSW</td>\n",
       "      <td>BMT</td>\n",
       "      <td>03/30/2019</td>\n",
       "      <td>04:00:00</td>\n",
       "      <td>REGULAR</td>\n",
       "      <td>8693471</td>\n",
       "      <td>10641914</td>\n",
       "      <td>2019-03-30 04:00:00</td>\n",
       "      <td>TIMES SQ-42 ST_1237ACENQRSW</td>\n",
       "    </tr>\n",
       "    <tr>\n",
       "      <th>2686</th>\n",
       "      <td>A021</td>\n",
       "      <td>R032</td>\n",
       "      <td>01-00-00</td>\n",
       "      <td>Times Sq-42 St</td>\n",
       "      <td>1237ACENQRSW</td>\n",
       "      <td>BMT</td>\n",
       "      <td>03/30/2019</td>\n",
       "      <td>08:00:00</td>\n",
       "      <td>REGULAR</td>\n",
       "      <td>8693564</td>\n",
       "      <td>10642039</td>\n",
       "      <td>2019-03-30 08:00:00</td>\n",
       "      <td>TIMES SQ-42 ST_1237ACENQRSW</td>\n",
       "    </tr>\n",
       "    <tr>\n",
       "      <th>2687</th>\n",
       "      <td>A021</td>\n",
       "      <td>R032</td>\n",
       "      <td>01-00-00</td>\n",
       "      <td>Times Sq-42 St</td>\n",
       "      <td>1237ACENQRSW</td>\n",
       "      <td>BMT</td>\n",
       "      <td>03/30/2019</td>\n",
       "      <td>12:00:00</td>\n",
       "      <td>REGULAR</td>\n",
       "      <td>8693787</td>\n",
       "      <td>10642708</td>\n",
       "      <td>2019-03-30 12:00:00</td>\n",
       "      <td>TIMES SQ-42 ST_1237ACENQRSW</td>\n",
       "    </tr>\n",
       "    <tr>\n",
       "      <th>2688</th>\n",
       "      <td>A021</td>\n",
       "      <td>R032</td>\n",
       "      <td>01-00-00</td>\n",
       "      <td>Times Sq-42 St</td>\n",
       "      <td>1237ACENQRSW</td>\n",
       "      <td>BMT</td>\n",
       "      <td>03/30/2019</td>\n",
       "      <td>16:00:00</td>\n",
       "      <td>REGULAR</td>\n",
       "      <td>8694183</td>\n",
       "      <td>10643461</td>\n",
       "      <td>2019-03-30 16:00:00</td>\n",
       "      <td>TIMES SQ-42 ST_1237ACENQRSW</td>\n",
       "    </tr>\n",
       "  </tbody>\n",
       "</table>\n",
       "</div>"
      ],
      "text/plain": [
       "       C/A  UNIT       SCP         STATION      LINENAME DIVISION        DATE  \\\n",
       "2684  A021  R032  01-00-00  Times Sq-42 St  1237ACENQRSW      BMT  03/30/2019   \n",
       "2685  A021  R032  01-00-00  Times Sq-42 St  1237ACENQRSW      BMT  03/30/2019   \n",
       "2686  A021  R032  01-00-00  Times Sq-42 St  1237ACENQRSW      BMT  03/30/2019   \n",
       "2687  A021  R032  01-00-00  Times Sq-42 St  1237ACENQRSW      BMT  03/30/2019   \n",
       "2688  A021  R032  01-00-00  Times Sq-42 St  1237ACENQRSW      BMT  03/30/2019   \n",
       "\n",
       "          TIME     DESC  ENTRIES     EXITS           DATE_TIME  \\\n",
       "2684  00:00:00  REGULAR  8693348  10641864 2019-03-30 00:00:00   \n",
       "2685  04:00:00  REGULAR  8693471  10641914 2019-03-30 04:00:00   \n",
       "2686  08:00:00  REGULAR  8693564  10642039 2019-03-30 08:00:00   \n",
       "2687  12:00:00  REGULAR  8693787  10642708 2019-03-30 12:00:00   \n",
       "2688  16:00:00  REGULAR  8694183  10643461 2019-03-30 16:00:00   \n",
       "\n",
       "                 station_linename  \n",
       "2684  TIMES SQ-42 ST_1237ACENQRSW  \n",
       "2685  TIMES SQ-42 ST_1237ACENQRSW  \n",
       "2686  TIMES SQ-42 ST_1237ACENQRSW  \n",
       "2687  TIMES SQ-42 ST_1237ACENQRSW  \n",
       "2688  TIMES SQ-42 ST_1237ACENQRSW  "
      ]
     },
     "execution_count": 196,
     "metadata": {},
     "output_type": "execute_result"
    }
   ],
   "source": [
    "df_MTA_2019_top5_day_hour.head()"
   ]
  },
  {
   "cell_type": "code",
   "execution_count": 197,
   "metadata": {},
   "outputs": [],
   "source": [
    "df_MTA_2019_top5_day_hour[\"DAY\"] = df_MTA_2019_top5_day_hour[\"DATE_TIME\"].dt.day_name()"
   ]
  },
  {
   "cell_type": "code",
   "execution_count": 198,
   "metadata": {},
   "outputs": [],
   "source": [
    "# create a new column \"HOUR\" to extract the hour from datetime timestamps\n",
    "df_MTA_2019_top5_day_hour[\"HOUR\"] = df_MTA_2019_top5_day_hour.DATE_TIME.dt.hour"
   ]
  },
  {
   "cell_type": "code",
   "execution_count": 199,
   "metadata": {},
   "outputs": [],
   "source": [
    "# filter DAY to include only Thursday, Wednesday, Tuesday (top 3 weekdays with most traffic)\n",
    "df_MTA_2019_top5_day_hour = (df_MTA_2019_top5_day_hour[df_MTA_2019_top5_day_hour\n",
    "                                                       .DAY\n",
    "                                                       .isin([\"Thursday\",\"Wednesday\",\"Tuesday\"])])"
   ]
  },
  {
   "cell_type": "code",
   "execution_count": 200,
   "metadata": {},
   "outputs": [],
   "source": [
    "df_MTA_2019_top5_day_hour[\"PREV_TIMESTAMP\"] = (df_MTA_2019_top5_day_hour\n",
    "                                                    .groupby([\"C/A\", \"UNIT\", \"SCP\", \"STATION\"])\n",
    "                                                    .DATE_TIME\n",
    "                                                    .apply(lambda group: group.shift(1)))"
   ]
  },
  {
   "cell_type": "code",
   "execution_count": 201,
   "metadata": {},
   "outputs": [],
   "source": [
    "df_MTA_2019_top5_day_hour[\"PREV_TIMESTAMP_ENTRIES\"] = (df_MTA_2019_top5_day_hour\n",
    "                                                       .groupby([\"C/A\", \"UNIT\", \"SCP\", \"STATION\"])\n",
    "                                                       .ENTRIES\n",
    "                                                       .apply(lambda group: group.shift(1)))"
   ]
  },
  {
   "cell_type": "code",
   "execution_count": 202,
   "metadata": {},
   "outputs": [],
   "source": [
    "df_MTA_2019_top5_day_hour.reset_index(drop=True,inplace=True)"
   ]
  },
  {
   "cell_type": "code",
   "execution_count": 203,
   "metadata": {},
   "outputs": [],
   "source": [
    "df_MTA_2019_top5_day_hour[\"TIMESTAMP_DIFF\"] = (df_MTA_2019_top5_day_hour[\"DATE_TIME\"] - \n",
    "                                               df_MTA_2019_top5_day_hour[\"PREV_TIMESTAMP\"])"
   ]
  },
  {
   "cell_type": "code",
   "execution_count": 204,
   "metadata": {},
   "outputs": [
    {
     "data": {
      "text/plain": [
       "0 days 04:00:00    66666\n",
       "4 days 04:00:00     3678\n",
       "0 days 00:01:20      290\n",
       "0 days 00:01:21      238\n",
       "0 days 08:00:00      111\n",
       "                   ...  \n",
       "0 days 00:00:46        1\n",
       "0 days 02:46:07        1\n",
       "0 days 00:01:26        1\n",
       "0 days 00:00:45        1\n",
       "0 days 02:45:55        1\n",
       "Name: TIMESTAMP_DIFF, Length: 348, dtype: int64"
      ]
     },
     "execution_count": 204,
     "metadata": {},
     "output_type": "execute_result"
    }
   ],
   "source": [
    "df_MTA_2019_top5_day_hour.TIMESTAMP_DIFF.value_counts()"
   ]
  },
  {
   "cell_type": "code",
   "execution_count": 206,
   "metadata": {},
   "outputs": [],
   "source": [
    "diff1 = df_MTA_2019_top5_day_hour.TIMESTAMP_DIFF.value_counts().index[0]"
   ]
  },
  {
   "cell_type": "code",
   "execution_count": 207,
   "metadata": {},
   "outputs": [
    {
     "data": {
      "text/plain": [
       "Timedelta('0 days 04:00:00')"
      ]
     },
     "execution_count": 207,
     "metadata": {},
     "output_type": "execute_result"
    }
   ],
   "source": [
    "diff1"
   ]
  },
  {
   "cell_type": "code",
   "execution_count": 208,
   "metadata": {},
   "outputs": [],
   "source": [
    "# filter to only include the rows where the timestamp diff is 4 hours\n",
    "df_MTA_2019_top5_day_hour = df_MTA_2019_top5_day_hour[df_MTA_2019_top5_day_hour[\"TIMESTAMP_DIFF\"] == diff1]"
   ]
  },
  {
   "cell_type": "code",
   "execution_count": 209,
   "metadata": {},
   "outputs": [],
   "source": [
    "df_MTA_2019_top5_day_hour[\"ENTRIES_TIME_PERIOD\"] = df_MTA_2019_top5_day_hour[\"ENTRIES\"] - df_MTA_2019_top5_day_hour[\"PREV_TIMESTAMP_ENTRIES\"]"
   ]
  },
  {
   "cell_type": "code",
   "execution_count": 210,
   "metadata": {},
   "outputs": [
    {
     "data": {
      "text/plain": [
       "[-5214038.0,\n",
       " -3603365.0,\n",
       " -2225883.0,\n",
       " -1558851.0,\n",
       " -789188.0,\n",
       " -60722.0,\n",
       " -9466.0,\n",
       " -1814.0,\n",
       " -1809.0,\n",
       " -1798.0]"
      ]
     },
     "execution_count": 210,
     "metadata": {},
     "output_type": "execute_result"
    }
   ],
   "source": [
    "sorted(df_MTA_2019_top5_day_hour.ENTRIES_TIME_PERIOD)[0:10]"
   ]
  },
  {
   "cell_type": "code",
   "execution_count": 211,
   "metadata": {},
   "outputs": [
    {
     "data": {
      "text/plain": [
       "[3570.0,\n",
       " 3570.0,\n",
       " 3604.0,\n",
       " 3761.0,\n",
       " 3780.0,\n",
       " 3854.0,\n",
       " 3861.0,\n",
       " 3946.0,\n",
       " 3963.0,\n",
       " 458749.0]"
      ]
     },
     "execution_count": 211,
     "metadata": {},
     "output_type": "execute_result"
    }
   ],
   "source": [
    "sorted(df_MTA_2019_top5_day_hour.ENTRIES_TIME_PERIOD)[-10:]"
   ]
  },
  {
   "cell_type": "code",
   "execution_count": 212,
   "metadata": {},
   "outputs": [
    {
     "data": {
      "text/plain": [
       "14400"
      ]
     },
     "execution_count": 212,
     "metadata": {},
     "output_type": "execute_result"
    }
   ],
   "source": [
    "# assumption 1 person per second, 60 seconds per min, 60 min per hour, 4 hour period\n",
    "60*60*4"
   ]
  },
  {
   "cell_type": "code",
   "execution_count": 213,
   "metadata": {},
   "outputs": [],
   "source": [
    "df_MTA_2019_top5_day_hour.reset_index(drop = True, inplace = True)"
   ]
  },
  {
   "cell_type": "code",
   "execution_count": 214,
   "metadata": {},
   "outputs": [],
   "source": [
    "df_large_entries = (df_MTA_2019_top5_day_hour\n",
    "                    .loc[abs(df_MTA_2019_top5_day_hour.ENTRIES_TIME_PERIOD) > 5000])"
   ]
  },
  {
   "cell_type": "code",
   "execution_count": 215,
   "metadata": {},
   "outputs": [],
   "source": [
    "# filter out rows with large negative/positive values for ENTRIES_TIME_PERIOD\n",
    "df_MTA_2019_top5_day_hour = (df_MTA_2019_top5_day_hour\n",
    "                             .loc[abs(df_MTA_2019_top5_day_hour.ENTRIES_TIME_PERIOD) < 5000])"
   ]
  },
  {
   "cell_type": "code",
   "execution_count": 216,
   "metadata": {},
   "outputs": [
    {
     "name": "stdout",
     "output_type": "stream",
     "text": [
      "<class 'pandas.core.frame.DataFrame'>\n",
      "Int64Index: 66658 entries, 0 to 66665\n",
      "Data columns (total 19 columns):\n",
      " #   Column                  Non-Null Count  Dtype          \n",
      "---  ------                  --------------  -----          \n",
      " 0   C/A                     66658 non-null  object         \n",
      " 1   UNIT                    66658 non-null  object         \n",
      " 2   SCP                     66658 non-null  object         \n",
      " 3   STATION                 66658 non-null  object         \n",
      " 4   LINENAME                66658 non-null  object         \n",
      " 5   DIVISION                66658 non-null  object         \n",
      " 6   DATE                    66658 non-null  object         \n",
      " 7   TIME                    66658 non-null  object         \n",
      " 8   DESC                    66658 non-null  object         \n",
      " 9   ENTRIES                 66658 non-null  int64          \n",
      " 10  EXITS                   66658 non-null  int64          \n",
      " 11  DATE_TIME               66658 non-null  datetime64[ns] \n",
      " 12  station_linename        66658 non-null  object         \n",
      " 13  DAY                     66658 non-null  object         \n",
      " 14  HOUR                    66658 non-null  int64          \n",
      " 15  PREV_TIMESTAMP          66658 non-null  datetime64[ns] \n",
      " 16  PREV_TIMESTAMP_ENTRIES  66658 non-null  float64        \n",
      " 17  TIMESTAMP_DIFF          66658 non-null  timedelta64[ns]\n",
      " 18  ENTRIES_TIME_PERIOD     66658 non-null  float64        \n",
      "dtypes: datetime64[ns](2), float64(2), int64(3), object(11), timedelta64[ns](1)\n",
      "memory usage: 10.2+ MB\n"
     ]
    }
   ],
   "source": [
    "df_MTA_2019_top5_day_hour.info()"
   ]
  },
  {
   "cell_type": "code",
   "execution_count": 219,
   "metadata": {},
   "outputs": [],
   "source": [
    "def reverse_num(x):\n",
    "    return -x if x<0 else x"
   ]
  },
  {
   "cell_type": "code",
   "execution_count": 220,
   "metadata": {},
   "outputs": [],
   "source": [
    "df_MTA_2019_top5_day_hour[\"ENTRIES_TIME_PERIOD\"] = df_MTA_2019_top5_day_hour.ENTRIES_TIME_PERIOD.apply(reverse_num)"
   ]
  },
  {
   "cell_type": "code",
   "execution_count": 221,
   "metadata": {},
   "outputs": [],
   "source": [
    "df_MTA_2019_top5_day_hour[\"DAY_HR\"] = df_MTA_2019_top5_day_hour[\"DAY\"] + \"_\" + df_MTA_2019_top5_day_hour[\"HOUR\"].astype(str)"
   ]
  },
  {
   "cell_type": "code",
   "execution_count": 222,
   "metadata": {},
   "outputs": [
    {
     "data": {
      "text/plain": [
       "Wednesday_4     2766\n",
       "Thursday_0      2760\n",
       "Thursday_16     2759\n",
       "Tuesday_4       2758\n",
       "Thursday_8      2757\n",
       "Thursday_4      2752\n",
       "Wednesday_0     2751\n",
       "Tuesday_8       2750\n",
       "Wednesday_16    2737\n",
       "Thursday_20     2726\n",
       "Tuesday_20      2719\n",
       "Tuesday_16      2716\n",
       "Wednesday_20    2713\n",
       "Wednesday_8     2692\n",
       "Tuesday_12      2611\n",
       "Thursday_12     2605\n",
       "Wednesday_12    2572\n",
       "Thursday_21      940\n",
       "Wednesday_21     938\n",
       "Thursday_5       937\n",
       "Thursday_1       937\n",
       "Tuesday_5        936\n",
       "Tuesday_21       933\n",
       "Wednesday_1      931\n",
       "Wednesday_5      930\n",
       "Thursday_17      925\n",
       "Wednesday_17     925\n",
       "Tuesday_17       917\n",
       "Wednesday_13     917\n",
       "Tuesday_9        904\n",
       "Wednesday_9      887\n",
       "Thursday_13      878\n",
       "Thursday_9       869\n",
       "Tuesday_13       857\n",
       "Wednesday_2      299\n",
       "Tuesday_14       299\n",
       "Tuesday_18       299\n",
       "Thursday_2       299\n",
       "Thursday_18      299\n",
       "Wednesday_14     299\n",
       "Thursday_22      299\n",
       "Tuesday_6        299\n",
       "Wednesday_18     299\n",
       "Tuesday_22       299\n",
       "Wednesday_22     299\n",
       "Wednesday_6      299\n",
       "Thursday_14      298\n",
       "Thursday_6       295\n",
       "Thursday_10      271\n",
       "Tuesday_10       259\n",
       "Wednesday_10     242\n",
       "Name: DAY_HR, dtype: int64"
      ]
     },
     "execution_count": 222,
     "metadata": {},
     "output_type": "execute_result"
    }
   ],
   "source": [
    "df_MTA_2019_top5_day_hour.DAY_HR.value_counts()"
   ]
  },
  {
   "cell_type": "code",
   "execution_count": 227,
   "metadata": {},
   "outputs": [],
   "source": [
    "df_MTA_2019_top5_pivot = df_MTA_2019_top5_day_hour.pivot_table(values = \"ENTRIES_TIME_PERIOD\", index = \"HOUR\", columns = \"DAY\", aggfunc = 'sum')"
   ]
  },
  {
   "cell_type": "code",
   "execution_count": 228,
   "metadata": {},
   "outputs": [
    {
     "data": {
      "image/png": "[encoded data removed]",
      "text/plain": [
       "<Figure size 864x576 with 2 Axes>"
      ]
     },
     "metadata": {},
     "output_type": "display_data"
    }
   ],
   "source": [
    "plt.figure(figsize=(12,8))\n",
    "sns.heatmap(df_MTA_2019_top5_pivot, cmap='YlGnBu')\n",
    "\n",
    "plt.title(\"Traffic Heatmap - NYC Top 5 Stations (Trailing Four Hours)\", \n",
    "          weight = \"bold\", fontsize = 18)\n",
    "plt.xticks(fontsize = 14)\n",
    "plt.yticks(fontsize = 14)\n",
    "plt.xlabel(\"Day\", fontsize = 16)\n",
    "plt.ylabel(\"Hour\", fontsize = 16)\n",
    "plt.savefig('nyc_top5stations_dayhour_traffic_heatmap.png');"
   ]
  }
 ],
 "metadata": {
  "kernelspec": {
   "display_name": "Python 3",
   "language": "python",
   "name": "python3"
  },
  "language_info": {
   "codemirror_mode": {
    "name": "ipython",
    "version": 3
   },
   "file_extension": ".py",
   "mimetype": "text/x-python",
   "name": "python",
   "nbconvert_exporter": "python",
   "pygments_lexer": "ipython3",
   "version": "3.7.6"
  }
 },
 "nbformat": 4,
 "nbformat_minor": 4
}
